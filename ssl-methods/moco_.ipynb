{
  "nbformat": 4,
  "nbformat_minor": 0,
  "metadata": {
    "colab": {
      "provenance": [],
      "machine_shape": "hm",
      "gpuType": "L4"
    },
    "kernelspec": {
      "name": "python3",
      "display_name": "Python 3"
    },
    "language_info": {
      "name": "python"
    },
    "accelerator": "GPU"
  },
  "cells": [
    {
      "cell_type": "code",
      "execution_count": 1,
      "metadata": {
        "id": "ERnpaWlnfQ4o"
      },
      "outputs": [],
      "source": [
        "import os\n",
        "import sys\n",
        "import random\n",
        "import numpy as np\n",
        "import pandas as pd\n",
        "from tqdm import tqdm\n",
        "import matplotlib.pyplot as plt\n",
        "import seaborn as sns\n",
        "from datetime import datetime\n",
        "from PIL import Image\n",
        "from sklearn.metrics import confusion_matrix, accuracy_score, f1_score, classification_report\n",
        "\n",
        "import torch\n",
        "import torch.nn as nn\n",
        "import torch.nn.functional as F\n",
        "import torch.optim as optim\n",
        "from torch.utils.data import Dataset, DataLoader\n",
        "import torchvision.models as models\n",
        "import torchvision.transforms as transforms\n",
        "\n",
        "import argparse\n",
        "from collections import deque\n",
        "\n"
      ]
    },
    {
      "cell_type": "code",
      "source": [
        "from google.colab import drive\n",
        "drive.mount('/content/gdrive')"
      ],
      "metadata": {
        "colab": {
          "base_uri": "https://localhost:8080/"
        },
        "id": "iaYUYH4HjmLV",
        "outputId": "11f2770e-7e86-456e-a82d-1061630d2f29"
      },
      "execution_count": 2,
      "outputs": [
        {
          "output_type": "stream",
          "name": "stdout",
          "text": [
            "Mounted at /content/gdrive\n"
          ]
        }
      ]
    },
    {
      "cell_type": "code",
      "source": [
        "# Set random seeds for reproducibility\n",
        "def set_seed(seed=42):\n",
        "    random.seed(seed)\n",
        "    np.random.seed(seed)\n",
        "    torch.manual_seed(seed)\n",
        "    torch.cuda.manual_seed(seed)\n",
        "    torch.cuda.manual_seed_all(seed)\n",
        "    torch.backends.cudnn.deterministic = True\n",
        "    torch.backends.cudnn.benchmark = False\n",
        "\n",
        "# Dataset class\n",
        "class SpectrogramDataset(Dataset):\n",
        "    def __init__(self, root_dir, folds, csv_file, transform=None, use_augmentations=True):\n",
        "        self.root_dir = root_dir\n",
        "        self.transform = transform\n",
        "        self.use_augmentations = use_augmentations\n",
        "\n",
        "        # Read the CSV file with the spectrogram information\n",
        "        self.annotations = pd.read_csv(csv_file)\n",
        "\n",
        "        # Handle single or multiple folds\n",
        "        if isinstance(folds, int):\n",
        "            folds = [folds]\n",
        "\n",
        "        # Filter by folds\n",
        "        self.file_list = self.annotations[self.annotations['fold'].isin(folds)]\n",
        "\n",
        "        # Filter out augmentations if specified\n",
        "        if not use_augmentations:\n",
        "            self.file_list = self.file_list[self.file_list['augmentation'] == 'original']\n",
        "\n",
        "    def __len__(self):\n",
        "        return len(self.file_list)\n",
        "\n",
        "    def __getitem__(self, idx):\n",
        "        # Get the file path\n",
        "        img_name = self.file_list.iloc[idx]['spec_file_name']\n",
        "        fold = self.file_list.iloc[idx]['fold']\n",
        "        label = self.file_list.iloc[idx]['classID']\n",
        "\n",
        "        # Construct the full path to the image\n",
        "        img_path = os.path.join(self.root_dir, f'fold{fold}', img_name)\n",
        "\n",
        "        # Load the image\n",
        "        image = Image.open(img_path).convert('RGB')\n",
        "\n",
        "        # Apply transformations if provided\n",
        "        if self.transform:\n",
        "            if self.use_augmentations:\n",
        "                # For MoCo, we need two differently augmented views of the same image\n",
        "                q = self.transform(image)  # query\n",
        "                k = self.transform(image)  # key\n",
        "                return q, k, label\n",
        "            else:\n",
        "                # Always apply transform for validation\n",
        "                image = self.transform(image)\n",
        "\n",
        "        return image, label\n",
        "\n",
        "# MLP for projection head\n",
        "class ProjectionHead(nn.Module):\n",
        "    def __init__(self, input_dim=2048, hidden_dim=2048, output_dim=128):\n",
        "        super().__init__()\n",
        "        self.layers = nn.Sequential(\n",
        "            nn.Linear(input_dim, hidden_dim),\n",
        "            nn.ReLU(inplace=True),\n",
        "            nn.Linear(hidden_dim, output_dim)\n",
        "        )\n",
        "\n",
        "    def forward(self, x):\n",
        "      return self.layers(x)\n",
        "def mixup_data(x1, x2, y1, y2, alpha=0.4):\n",
        "\n",
        "    # Sample lambda from a beta distribution\n",
        "    lambda_ = torch.distributions.Beta(alpha, alpha).sample().item()\n",
        "\n",
        "    # Mix the images and labels\n",
        "    mixed_x = lambda_ * x1 + (1 - lambda_) * x2\n",
        "    mixed_y = lambda_ * y1 + (1 - lambda_) * y2\n",
        "\n",
        "    return mixed_x, mixed_y, lambda_\n",
        "\n",
        "def train_with_mixup(moco, contrastive_criterion, im_q, im_k, labels, alpha=0.4):\n",
        "    \"\"\"\n",
        "    MoCo training with MixUp on query and key images.\n",
        "\n",
        "    Args:\n",
        "    - moco: MoCo model\n",
        "    - contrastive_criterion: Loss function\n",
        "    - im_q: Query image batch\n",
        "    - im_k: Key image batch\n",
        "    - labels: Ground truth labels\n",
        "    - alpha: MixUp hyperparameter\n",
        "\n",
        "    Returns:\n",
        "    - moco_loss: Loss value after applying MixUp\n",
        "    \"\"\"\n",
        "    # Apply MixUp to the query and key images, and their labels\n",
        "    im_q, labels_q, lambda_q = mixup_data(im_q, im_k, labels, labels, alpha)\n",
        "    im_k, labels_k, lambda_k = mixup_data(im_k, im_q, labels, labels, alpha)\n",
        "\n",
        "    # Forward pass through the MoCo model\n",
        "    logits, targets, q_feat = moco(im_q, im_k)\n",
        "\n",
        "    # Compute the MoCo contrastive loss (similar to how it's done normally)\n",
        "    moco_loss = contrastive_criterion(logits, targets)\n",
        "\n",
        "    # Optionally, you can also apply the weighted loss based on lambda\n",
        "    # Note: MoCo loss typically uses a contrastive approach, so this is optional\n",
        "    moco_loss = lambda_q * moco_loss\n",
        "\n",
        "    return moco_loss\n",
        "\n",
        "# MoCo model components\n",
        "class MoCo(nn.Module):\n",
        "    def __init__(self, backbone=None, dim=128, K=4096, m=0.999, T=0.07):\n",
        "        super().__init__()\n",
        "        \"\"\"\n",
        "        backbone: base encoder network (default: ResNet50)\n",
        "        dim: feature dimension (default: 128)\n",
        "        K: queue size (default: 4096)\n",
        "        m: moco momentum of updating key encoder (default: 0.999)\n",
        "        T: softmax temperature (default: 0.07)\n",
        "        \"\"\"\n",
        "        self.K = K\n",
        "        self.m = m\n",
        "        self.T = T\n",
        "\n",
        "        # Create backbone if not provided\n",
        "        if backbone is None:\n",
        "            backbone = models.resnet50(weights=models.ResNet50_Weights.IMAGENET1K_V1)\n",
        "            backbone.fc = nn.Identity()  # Remove classification layer\n",
        "\n",
        "        # Create encoder q (online network)\n",
        "        self.encoder_q = backbone\n",
        "        self.projection_q = ProjectionHead(input_dim=2048, output_dim=dim)\n",
        "\n",
        "        # Create encoder k (momentum network) - no gradient\n",
        "        self.encoder_k = models.resnet50(weights=models.ResNet50_Weights.IMAGENET1K_V1)\n",
        "        self.encoder_k.fc = nn.Identity()\n",
        "        self.projection_k = ProjectionHead(input_dim=2048, output_dim=dim)\n",
        "\n",
        "        # Initialize the momentum network with the same parameters\n",
        "        for param_q, param_k in zip(self.encoder_q.parameters(), self.encoder_k.parameters()):\n",
        "            param_k.data.copy_(param_q.data)\n",
        "            param_k.requires_grad = False\n",
        "\n",
        "        for param_q, param_k in zip(self.projection_q.parameters(), self.projection_k.parameters()):\n",
        "            param_k.data.copy_(param_q.data)\n",
        "            param_k.requires_grad = False\n",
        "\n",
        "        # Create the queue for negative samples\n",
        "        self.register_buffer(\"queue\", torch.randn(dim, K))\n",
        "        self.queue = F.normalize(self.queue, dim=0)\n",
        "        self.register_buffer(\"queue_ptr\", torch.zeros(1, dtype=torch.long))\n",
        "\n",
        "    @torch.no_grad()\n",
        "    def _momentum_update_key_encoder(self):\n",
        "        \"\"\"Momentum update of the key encoder\"\"\"\n",
        "        for param_q, param_k in zip(self.encoder_q.parameters(), self.encoder_k.parameters()):\n",
        "            param_k.data = param_k.data * self.m + param_q.data * (1. - self.m)\n",
        "\n",
        "        for param_q, param_k in zip(self.projection_q.parameters(), self.projection_k.parameters()):\n",
        "            param_k.data = param_k.data * self.m + param_q.data * (1. - self.m)\n",
        "\n",
        "    @torch.no_grad()\n",
        "    def _dequeue_and_enqueue(self, keys):\n",
        "        batch_size = keys.shape[0]\n",
        "\n",
        "        ptr = int(self.queue_ptr)\n",
        "        # Handle case where batch size doesn't divide queue size evenly\n",
        "        if ptr + batch_size > self.K:\n",
        "            # Split the batch to avoid overflow\n",
        "            first_part = self.K - ptr\n",
        "            self.queue[:, ptr:] = keys[:first_part].T\n",
        "            self.queue[:, :batch_size-first_part] = keys[first_part:].T\n",
        "            ptr = (batch_size - first_part) % self.K\n",
        "        else:\n",
        "            # Replace the keys at ptr (dequeue and enqueue)\n",
        "            self.queue[:, ptr:ptr + batch_size] = keys.T\n",
        "            ptr = (ptr + batch_size) % self.K  # move pointer\n",
        "\n",
        "        self.queue_ptr[0] = ptr\n",
        "\n",
        "    @torch.no_grad()\n",
        "    def get_features(self, x):\n",
        "        \"\"\"Get features from the encoder_q for downstream tasks\"\"\"\n",
        "        return self.encoder_q(x)\n",
        "\n",
        "    def forward(self, im_q, im_k=None, get_features=False):\n",
        "        \"\"\"Forward pass for MoCo\n",
        "\n",
        "        Args:\n",
        "            im_q: a batch of query images\n",
        "            im_k: a batch of key images (if None, only return features)\n",
        "            get_features: if True, return features instead of contrastive loss\n",
        "        \"\"\"\n",
        "        # Extract features for downstream tasks if requested\n",
        "        if get_features:\n",
        "            return self.get_features(im_q)\n",
        "\n",
        "        # Compute query features\n",
        "        q = self.encoder_q(im_q)  # queries: NxC\n",
        "        q_proj = self.projection_q(q)  # projects: NxD\n",
        "        q_proj = F.normalize(q_proj, dim=1)  # normalize\n",
        "\n",
        "        # Compute key features\n",
        "        with torch.no_grad():  # no gradient to keys\n",
        "            self._momentum_update_key_encoder()  # update the key encoder\n",
        "\n",
        "            k = self.encoder_k(im_k)  # keys: NxC\n",
        "            k_proj = self.projection_k(k)  # projects: NxD\n",
        "            k_proj = F.normalize(k_proj, dim=1)  # normalize\n",
        "\n",
        "        # Compute logits\n",
        "        # positive logits: Nx1\n",
        "        l_pos = torch.einsum('nc,nc->n', [q_proj, k_proj]).unsqueeze(-1)\n",
        "        # negative logits: NxK\n",
        "        l_neg = torch.einsum('nc,ck->nk', [q_proj, self.queue.clone().detach()])\n",
        "\n",
        "        # logits: Nx(1+K)\n",
        "        logits = torch.cat([l_pos, l_neg], dim=1)\n",
        "\n",
        "        # apply temperature\n",
        "        logits /= self.T\n",
        "\n",
        "        # labels: positives are the 0th position\n",
        "        labels = torch.zeros(logits.shape[0], dtype=torch.long, device=logits.device)\n",
        "\n",
        "        # Dequeue and enqueue\n",
        "        self._dequeue_and_enqueue(k_proj)\n",
        "\n",
        "        return logits, labels, q\n",
        "\n",
        "# Classifier for downstream task\n",
        "class Classifier(nn.Module):\n",
        "    def __init__(self, input_dim=2048, num_classes=14):\n",
        "        super().__init__()\n",
        "        self.fc = nn.Linear(input_dim, num_classes)\n",
        "\n",
        "    def forward(self, x):\n",
        "        return self.fc(x)\n",
        "\n",
        "\n",
        "# Training function\n",
        "def train(fold, class_names, num_classes, batch_size=64, num_epochs=30, alpha=0.2):\n",
        "    \"\"\"\n",
        "    Train the MoCo model with MixUp augmentation.\n",
        "\n",
        "    Args:\n",
        "        fold: Fold number to use as validation\n",
        "        class_names: List of class names\n",
        "        num_classes: Number of classes\n",
        "        batch_size: Batch size\n",
        "        num_epochs: Number of epochs\n",
        "        alpha: MixUp parameter for Beta distribution\n",
        "    \"\"\"\n",
        "    # Create timestamp for saving results\n",
        "    timestamp = datetime.now().strftime(\"%Y%m%d_%H%M%S\")\n",
        "    results_dir = f\"results_moco_{timestamp}\"\n",
        "    os.makedirs(results_dir, exist_ok=True)\n",
        "    print(f\"Results will be saved to {results_dir}\")\n",
        "\n",
        "    # Set up device\n",
        "    device = torch.device(\"cuda:0\" if torch.cuda.is_available() else \"cpu\")\n",
        "    print(f\"Using device: {device}\")\n",
        "\n",
        "    # Define transformations for training\n",
        "    transform = transforms.Compose([\n",
        "        transforms.Resize(224),\n",
        "        transforms.RandomResizedCrop(224),\n",
        "        transforms.RandomHorizontalFlip(),\n",
        "        transforms.RandomApply([transforms.ColorJitter(0.8, 0.8, 0.8, 0.2)], p=0.8),\n",
        "        transforms.RandomGrayscale(p=0.2),\n",
        "        transforms.ToTensor(),\n",
        "        transforms.Normalize(mean=[0.485, 0.456, 0.406], std=[0.229, 0.224, 0.225])\n",
        "    ])\n",
        "\n",
        "    # Define transformations for validation (no augmentation)\n",
        "    eval_transform = transforms.Compose([\n",
        "        transforms.Resize(224),\n",
        "        transforms.CenterCrop(224),\n",
        "        transforms.ToTensor(),\n",
        "        transforms.Normalize(mean=[0.485, 0.456, 0.406], std=[0.229, 0.224, 0.225])\n",
        "    ])\n",
        "\n",
        "    # Data loaders\n",
        "    train_folds = [f for f in range(1, 11) if f != fold]\n",
        "\n",
        "    train_ds = SpectrogramDataset(\n",
        "        './spectrograms',\n",
        "        train_folds,\n",
        "        './spectrograms_balanced.csv',\n",
        "        transform,\n",
        "        use_augmentations=True\n",
        "    )\n",
        "\n",
        "    val_ds = SpectrogramDataset(\n",
        "        './spectrograms',\n",
        "        [fold],\n",
        "        './spectrograms_balanced.csv',\n",
        "        eval_transform,\n",
        "        use_augmentations=False\n",
        "    )\n",
        "\n",
        "    # Ensure batch size is compatible with queue size (for simplicity)\n",
        "    moco_K = 4096  # Queue size\n",
        "    if moco_K % batch_size != 0:\n",
        "        new_batch_size = batch_size\n",
        "        while moco_K % new_batch_size != 0:\n",
        "            new_batch_size -= 1\n",
        "        print(f\"Adjusting batch size from {batch_size} to {new_batch_size} to be compatible with queue size {moco_K}\")\n",
        "        batch_size = new_batch_size\n",
        "\n",
        "    train_loader = DataLoader(train_ds, batch_size=batch_size, shuffle=True)\n",
        "    val_loader = DataLoader(val_ds, batch_size=batch_size)\n",
        "\n",
        "    # Initialize models\n",
        "    backbone = models.resnet50(weights=models.ResNet50_Weights.IMAGENET1K_V1)\n",
        "    backbone.fc = nn.Identity()\n",
        "\n",
        "    moco = MoCo(backbone, K=moco_K).to(device)\n",
        "    classifier = Classifier(input_dim=2048, num_classes=num_classes).to(device)\n",
        "\n",
        "    # Optimizer\n",
        "    optimizer = torch.optim.Adam(\n",
        "        list(moco.parameters()) + list(classifier.parameters()),\n",
        "        lr=3e-4\n",
        "    )\n",
        "\n",
        "    # Learning rate scheduler\n",
        "    scheduler = torch.optim.lr_scheduler.CosineAnnealingLR(\n",
        "        optimizer, T_max=num_epochs\n",
        "    )\n",
        "\n",
        "    # Classification loss\n",
        "    classification_criterion = torch.nn.CrossEntropyLoss()\n",
        "    contrastive_criterion = torch.nn.CrossEntropyLoss()\n",
        "\n",
        "    # Metrics storage\n",
        "    train_losses, val_losses = [], []\n",
        "    val_accuracies, all_preds, all_labels = [], [], []\n",
        "\n",
        "    for epoch in range(num_epochs):\n",
        "        # TRAINING\n",
        "        moco.train()\n",
        "        classifier.train()\n",
        "        epoch_train_loss = 0.0\n",
        "\n",
        "        for batch_idx, (im_q, im_k, labels) in enumerate(tqdm(train_loader, desc=f\"Epoch {epoch+1}/{num_epochs}\")):\n",
        "            im_q, im_k, labels = im_q.to(device), im_k.to(device), labels.to(device)\n",
        "\n",
        "            # Apply MixUp to the spectrogram inputs and labels\n",
        "            loss = train_with_mixup(moco, contrastive_criterion, im_q, im_k, labels, alpha=0.02)\n",
        "\n",
        "            # Zero gradients\n",
        "            optimizer.zero_grad()\n",
        "\n",
        "            # Forward pass for MoCo with MixUp\n",
        "            logits, targets, q_feat = moco(im_q, im_k)\n",
        "\n",
        "            # MoCo contrastive loss\n",
        "            moco_loss = contrastive_criterion(logits, targets)\n",
        "\n",
        "            # Classification loss (using mixed features)\n",
        "            with torch.no_grad():\n",
        "                features = moco.get_features(im_q)\n",
        "\n",
        "            logits_cls = classifier(features.detach())\n",
        "            cls_loss = classification_criterion(logits_cls, labels)\n",
        "\n",
        "            # Total loss\n",
        "            loss = moco_loss + cls_loss\n",
        "\n",
        "            # Backward pass\n",
        "            loss.backward()\n",
        "\n",
        "            # Update parameters\n",
        "            optimizer.step()\n",
        "\n",
        "            # Track metrics\n",
        "            epoch_train_loss += loss.item() * im_q.size(0)\n",
        "\n",
        "            # Report training progress\n",
        "            if batch_idx % 10 == 0:\n",
        "                print(f\"  Batch {batch_idx}/{len(train_loader)}, \"\n",
        "                      f\"MoCo Loss: {moco_loss.item():.4f}, \"\n",
        "                      f\"Cls Loss: {cls_loss.item():.4f}, \"\n",
        "                      f\"Total Loss: {loss.item():.4f}\")\n",
        "\n",
        "        # Calculate average training loss\n",
        "        epoch_train_loss /= len(train_loader.dataset)\n",
        "        train_losses.append(epoch_train_loss)\n",
        "\n",
        "        # VALIDATION\n",
        "        moco.eval()\n",
        "        classifier.eval()\n",
        "        val_loss = 0.0\n",
        "        correct = 0\n",
        "        total = 0\n",
        "        epoch_preds = []\n",
        "        epoch_labels = []\n",
        "\n",
        "        with torch.no_grad():\n",
        "            for images, labels in val_loader:\n",
        "                images, labels = images.to(device), labels.to(device)\n",
        "\n",
        "                # Extract features\n",
        "                features = moco.get_features(images)\n",
        "\n",
        "                # Make predictions\n",
        "                logits = classifier(features)\n",
        "                loss = classification_criterion(logits, labels)\n",
        "\n",
        "                # Track metrics\n",
        "                val_loss += loss.item() * images.size(0)\n",
        "\n",
        "                # Calculate accuracy\n",
        "                _, predictions = torch.max(logits, 1)\n",
        "                total += labels.size(0)\n",
        "                correct += (predictions == labels).sum().item()\n",
        "\n",
        "                # Store predictions and labels for confusion matrix\n",
        "                epoch_preds.extend(predictions.cpu().numpy())\n",
        "                epoch_labels.extend(labels.cpu().numpy())\n",
        "\n",
        "        # Calculate validation metrics\n",
        "        val_loss /= len(val_loader.dataset)\n",
        "        val_accuracy = 100.0 * correct / total\n",
        "        val_losses.append(val_loss)\n",
        "        val_accuracies.append(val_accuracy)\n",
        "\n",
        "        all_preds.append(epoch_preds)\n",
        "        all_labels.append(epoch_labels)\n",
        "\n",
        "        # Update learning rate\n",
        "        scheduler.step()\n",
        "\n",
        "        # Report epoch results\n",
        "        print(f\"Epoch {epoch+1}/{num_epochs}, \"\n",
        "              f\"Train Loss: {epoch_train_loss:.4f}, \"\n",
        "              f\"Val Loss: {val_loss:.4f}, \"\n",
        "              f\"Val Accuracy: {val_accuracy:.2f}%\")\n",
        "\n",
        "        # Save model checkpoint\n",
        "        torch.save({\n",
        "            'epoch': epoch,\n",
        "            'moco': moco.state_dict(),\n",
        "            'classifier': classifier.state_dict(),\n",
        "            'optimizer': optimizer.state_dict(),\n",
        "            'scheduler': scheduler.state_dict(),\n",
        "            'train_loss': epoch_train_loss,\n",
        "            'val_loss': val_loss,\n",
        "            'val_accuracy': val_accuracy\n",
        "        }, f\"{results_dir}/checkpoint_{epoch}.pth\")\n",
        "\n",
        "    # Save the final model\n",
        "    torch.save({\n",
        "        'moco': moco.state_dict(),\n",
        "        'classifier': classifier.state_dict(),\n",
        "        'val_accuracy': val_accuracies[-1],\n",
        "        'class_names': class_names\n",
        "    }, f\"{results_dir}/fold_{fold}_model.pth\")\n",
        "\n",
        "    # Save loss and accuracy plots\n",
        "    plt.figure(figsize=(12, 4))\n",
        "    plt.subplot(1, 2, 1)\n",
        "    plt.plot(range(1, num_epochs+1), train_losses, 'b-', label='Training Loss')\n",
        "    plt.plot(range(1, num_epochs+1), val_losses, 'r-', label='Validation Loss')\n",
        "    plt.xlabel('Epoch')\n",
        "    plt.ylabel('Loss')\n",
        "    plt.legend()\n",
        "    plt.title(f'Loss Curve for Fold {fold}')\n",
        "\n",
        "    plt.subplot(1, 2, 2)\n",
        "    plt.plot(range(1, num_epochs+1), val_accuracies, 'g-')\n",
        "    plt.xlabel('Epoch')\n",
        "    plt.ylabel('Validation Accuracy (%)')\n",
        "    plt.title(f'Accuracy Curve for Fold {fold}')\n",
        "\n",
        "    plt.tight_layout()\n",
        "    plt.savefig(f\"{results_dir}/fold_{fold}_plots.png\")\n",
        "\n",
        "    # Generate confusion matrix for the final epoch\n",
        "    final_cm = confusion_matrix(all_labels[-1], all_preds[-1])\n",
        "    plt.figure(figsize=(10, 8))\n",
        "    sns.heatmap(final_cm, annot=True, fmt='d', cmap='Blues',\n",
        "                xticklabels=class_names, yticklabels=class_names)\n",
        "    plt.xlabel('Predicted')\n",
        "    plt.ylabel('True')\n",
        "    plt.title(f'Confusion Matrix for Fold {fold}')\n",
        "    plt.tight_layout()\n",
        "    plt.savefig(f\"{results_dir}/fold_{fold}_confusion_matrix.png\")\n",
        "\n",
        "    # Print classification report\n",
        "    print(\"\\nClassification Report:\")\n",
        "    print(classification_report(all_labels[-1], all_preds[-1], target_names=class_names))\n",
        "\n",
        "\n",
        "def main(spec_csv, batch_size, epochs):\n",
        "    \"\"\"\n",
        "    # Main function to start the training\n",
        "    # \"\"\"\n",
        "    # parser = argparse.ArgumentParser(description='Train MoCo on spectrograms')\n",
        "    # parser.add_argument('--fold', type=int, help='Fold to use as validation (1-10)', required=False)\n",
        "    # parser.add_argument('--debug', action='store_true', help='Enable anomaly detection for debugging')\n",
        "    # parser.add_argument('--batch_size', type=int, default=32, help='Batch size')\n",
        "    # parser.add_argument('--epochs', type=int, default=30, help='Number of epochs')\n",
        "    # args = parser.parse_args()\n",
        "\n",
        "    # Enable anomaly detection if requested\n",
        "    # if args.debug:\n",
        "    #     print(\"Enabling anomaly detection for debugging\")\n",
        "    #     torch.autograd.set_detect_anomaly(True)\n",
        "\n",
        "    # Set random seed\n",
        "    set_seed(42)\n",
        "\n",
        "    # Get class names and auto-detect num_classes\n",
        "    print(\"Loading data from ./spectrograms_balanced.csv\")\n",
        "    full_annotations =spec_csv\n",
        "    class_names = sorted(full_annotations['class'].unique())\n",
        "    num_classes = len(class_names)\n",
        "    print(f\"Detected {num_classes} classes: {class_names}\")\n",
        "\n",
        "    num_folds = 10\n",
        "\n",
        "    # # Train specific fold or all folds\n",
        "    # if args.fold is not None:\n",
        "    #     # Train only the specified fold\n",
        "    #     fold = args.fold\n",
        "    # print(f\"\\n=== Training Fold {fold}/{num_folds} ===\")\n",
        "    # train(fold, class_names, num_classes, args.debug, args.batch_size, args.epochs)\n",
        "    #     # Train all folds one by one\n",
        "    all_fold_accuracies = []\n",
        "\n",
        "    for fold in range(1, num_folds+1):\n",
        "      print(f\"\\n=== Training Fold {fold}/{num_folds} ===\")\n",
        "\n",
        "            # Clear GPU cache to prevent memory buildup between folds\n",
        "    if torch.cuda.is_available():\n",
        "      torch.cuda.empty_cache()\n",
        "\n",
        "    accuracy = train(fold, class_names, num_classes, batch_size, epochs)\n",
        "    all_fold_accuracies.append(accuracy)\n",
        "\n",
        "    # Report average accuracy\n",
        "    avg_accuracy = np.mean(all_fold_accuracies)\n",
        "    print(f\"\\nAverage accuracy across {num_folds} folds: {avg_accuracy:.2f}%\")\n",
        "\n"
      ],
      "metadata": {
        "id": "qSFIg_5XjhuP"
      },
      "execution_count": 24,
      "outputs": []
    },
    {
      "cell_type": "code",
      "source": [
        "from sklearn.model_selection import train_test_split\n",
        "train_df, test_df = train_test_split(pd.read_csv(\"/content/spectrograms_balanced_no_sirens.csv\"), test_size=0.2, random_state=42)\n",
        "# train_df, valid_tdf = train_test_split(train_df, test_size=0.2, random_state=42)\n",
        "train_df.to_csv(\"./spectrograms_balanced.csv\")\n",
        "\n",
        "main(spec_csv = train_df, batch_size = 64, epochs = 5)"
      ],
      "metadata": {
        "colab": {
          "base_uri": "https://localhost:8080/",
          "height": 1000
        },
        "id": "qaro1YoPk3-G",
        "outputId": "4a06a710-9ef8-4dc9-924a-17750f8def33"
      },
      "execution_count": 26,
      "outputs": [
        {
          "output_type": "stream",
          "name": "stdout",
          "text": [
            "Loading data from ./spectrograms_balanced.csv\n",
            "Detected 13 classes: ['air_conditioner', 'ambulance', 'car_horn', 'children_playing', 'dog_bark', 'drilling', 'engine_idling', 'firetruck', 'gun_shot', 'jackhammer', 'police', 'street_music', 'traffic']\n",
            "\n",
            "=== Training Fold 1/10 ===\n",
            "\n",
            "=== Training Fold 2/10 ===\n",
            "\n",
            "=== Training Fold 3/10 ===\n",
            "\n",
            "=== Training Fold 4/10 ===\n",
            "\n",
            "=== Training Fold 5/10 ===\n",
            "\n",
            "=== Training Fold 6/10 ===\n",
            "\n",
            "=== Training Fold 7/10 ===\n",
            "\n",
            "=== Training Fold 8/10 ===\n",
            "\n",
            "=== Training Fold 9/10 ===\n",
            "\n",
            "=== Training Fold 10/10 ===\n",
            "Results will be saved to results_moco_20250404_151233\n",
            "Using device: cuda:0\n"
          ]
        },
        {
          "output_type": "stream",
          "name": "stderr",
          "text": [
            "Epoch 1/5:   0%|          | 1/654 [00:02<27:13,  2.50s/it]"
          ]
        },
        {
          "output_type": "stream",
          "name": "stdout",
          "text": [
            "  Batch 0/654, MoCo Loss: 3.8569, Cls Loss: 2.6773, Total Loss: 6.5342\n"
          ]
        },
        {
          "output_type": "stream",
          "name": "stderr",
          "text": [
            "Epoch 1/5:   2%|▏         | 11/654 [00:27<26:53,  2.51s/it]"
          ]
        },
        {
          "output_type": "stream",
          "name": "stdout",
          "text": [
            "  Batch 10/654, MoCo Loss: 6.7738, Cls Loss: 2.5428, Total Loss: 9.3166\n"
          ]
        },
        {
          "output_type": "stream",
          "name": "stderr",
          "text": [
            "Epoch 1/5:   3%|▎         | 21/654 [00:52<26:04,  2.47s/it]"
          ]
        },
        {
          "output_type": "stream",
          "name": "stdout",
          "text": [
            "  Batch 20/654, MoCo Loss: 6.9224, Cls Loss: 2.3616, Total Loss: 9.2840\n"
          ]
        },
        {
          "output_type": "stream",
          "name": "stderr",
          "text": [
            "Epoch 1/5:   5%|▍         | 31/654 [01:17<25:41,  2.47s/it]"
          ]
        },
        {
          "output_type": "stream",
          "name": "stdout",
          "text": [
            "  Batch 30/654, MoCo Loss: 6.5958, Cls Loss: 2.1830, Total Loss: 8.7788\n"
          ]
        },
        {
          "output_type": "stream",
          "name": "stderr",
          "text": [
            "Epoch 1/5:   6%|▋         | 41/654 [01:42<25:48,  2.53s/it]"
          ]
        },
        {
          "output_type": "stream",
          "name": "stdout",
          "text": [
            "  Batch 40/654, MoCo Loss: 6.3760, Cls Loss: 2.1441, Total Loss: 8.5201\n"
          ]
        },
        {
          "output_type": "stream",
          "name": "stderr",
          "text": [
            "Epoch 1/5:   8%|▊         | 51/654 [02:07<25:06,  2.50s/it]"
          ]
        },
        {
          "output_type": "stream",
          "name": "stdout",
          "text": [
            "  Batch 50/654, MoCo Loss: 6.4307, Cls Loss: 2.2340, Total Loss: 8.6647\n"
          ]
        },
        {
          "output_type": "stream",
          "name": "stderr",
          "text": [
            "Epoch 1/5:   9%|▉         | 61/654 [02:32<24:49,  2.51s/it]"
          ]
        },
        {
          "output_type": "stream",
          "name": "stdout",
          "text": [
            "  Batch 60/654, MoCo Loss: 6.0093, Cls Loss: 1.8070, Total Loss: 7.8163\n"
          ]
        },
        {
          "output_type": "stream",
          "name": "stderr",
          "text": [
            "Epoch 1/5:  11%|█         | 71/654 [02:56<24:02,  2.47s/it]"
          ]
        },
        {
          "output_type": "stream",
          "name": "stdout",
          "text": [
            "  Batch 70/654, MoCo Loss: 6.4457, Cls Loss: 1.9967, Total Loss: 8.4424\n"
          ]
        },
        {
          "output_type": "stream",
          "name": "stderr",
          "text": [
            "Epoch 1/5:  12%|█▏        | 81/654 [03:21<23:44,  2.49s/it]"
          ]
        },
        {
          "output_type": "stream",
          "name": "stdout",
          "text": [
            "  Batch 80/654, MoCo Loss: 6.5764, Cls Loss: 2.2205, Total Loss: 8.7969\n"
          ]
        },
        {
          "output_type": "stream",
          "name": "stderr",
          "text": [
            "Epoch 1/5:  14%|█▍        | 91/654 [03:46<23:35,  2.51s/it]"
          ]
        },
        {
          "output_type": "stream",
          "name": "stdout",
          "text": [
            "  Batch 90/654, MoCo Loss: 6.2970, Cls Loss: 1.8758, Total Loss: 8.1728\n"
          ]
        },
        {
          "output_type": "stream",
          "name": "stderr",
          "text": [
            "Epoch 1/5:  15%|█▌        | 101/654 [04:11<22:48,  2.48s/it]"
          ]
        },
        {
          "output_type": "stream",
          "name": "stdout",
          "text": [
            "  Batch 100/654, MoCo Loss: 5.8423, Cls Loss: 1.9346, Total Loss: 7.7769\n"
          ]
        },
        {
          "output_type": "stream",
          "name": "stderr",
          "text": [
            "Epoch 1/5:  17%|█▋        | 111/654 [04:36<22:31,  2.49s/it]"
          ]
        },
        {
          "output_type": "stream",
          "name": "stdout",
          "text": [
            "  Batch 110/654, MoCo Loss: 5.8488, Cls Loss: 1.6992, Total Loss: 7.5480\n"
          ]
        },
        {
          "output_type": "stream",
          "name": "stderr",
          "text": [
            "Epoch 1/5:  19%|█▊        | 121/654 [05:01<22:02,  2.48s/it]"
          ]
        },
        {
          "output_type": "stream",
          "name": "stdout",
          "text": [
            "  Batch 120/654, MoCo Loss: 5.8514, Cls Loss: 1.6372, Total Loss: 7.4886\n"
          ]
        },
        {
          "output_type": "stream",
          "name": "stderr",
          "text": [
            "Epoch 1/5:  20%|██        | 131/654 [05:26<21:33,  2.47s/it]"
          ]
        },
        {
          "output_type": "stream",
          "name": "stdout",
          "text": [
            "  Batch 130/654, MoCo Loss: 5.6073, Cls Loss: 1.6852, Total Loss: 7.2925\n"
          ]
        },
        {
          "output_type": "stream",
          "name": "stderr",
          "text": [
            "Epoch 1/5:  22%|██▏       | 141/654 [05:51<21:10,  2.48s/it]"
          ]
        },
        {
          "output_type": "stream",
          "name": "stdout",
          "text": [
            "  Batch 140/654, MoCo Loss: 5.5118, Cls Loss: 1.5264, Total Loss: 7.0382\n"
          ]
        },
        {
          "output_type": "stream",
          "name": "stderr",
          "text": [
            "Epoch 1/5:  23%|██▎       | 151/654 [06:15<20:41,  2.47s/it]"
          ]
        },
        {
          "output_type": "stream",
          "name": "stdout",
          "text": [
            "  Batch 150/654, MoCo Loss: 5.6415, Cls Loss: 1.7187, Total Loss: 7.3603\n"
          ]
        },
        {
          "output_type": "stream",
          "name": "stderr",
          "text": [
            "Epoch 1/5:  25%|██▍       | 161/654 [06:40<20:23,  2.48s/it]"
          ]
        },
        {
          "output_type": "stream",
          "name": "stdout",
          "text": [
            "  Batch 160/654, MoCo Loss: 5.9061, Cls Loss: 1.7689, Total Loss: 7.6750\n"
          ]
        },
        {
          "output_type": "stream",
          "name": "stderr",
          "text": [
            "Epoch 1/5:  26%|██▌       | 171/654 [07:05<19:52,  2.47s/it]"
          ]
        },
        {
          "output_type": "stream",
          "name": "stdout",
          "text": [
            "  Batch 170/654, MoCo Loss: 5.7117, Cls Loss: 1.7175, Total Loss: 7.4292\n"
          ]
        },
        {
          "output_type": "stream",
          "name": "stderr",
          "text": [
            "Epoch 1/5:  28%|██▊       | 181/654 [07:30<19:38,  2.49s/it]"
          ]
        },
        {
          "output_type": "stream",
          "name": "stdout",
          "text": [
            "  Batch 180/654, MoCo Loss: 5.5904, Cls Loss: 1.6392, Total Loss: 7.2296\n"
          ]
        },
        {
          "output_type": "stream",
          "name": "stderr",
          "text": [
            "Epoch 1/5:  29%|██▉       | 191/654 [07:55<19:08,  2.48s/it]"
          ]
        },
        {
          "output_type": "stream",
          "name": "stdout",
          "text": [
            "  Batch 190/654, MoCo Loss: 5.7672, Cls Loss: 1.8127, Total Loss: 7.5799\n"
          ]
        },
        {
          "output_type": "stream",
          "name": "stderr",
          "text": [
            "Epoch 1/5:  31%|███       | 201/654 [08:19<18:43,  2.48s/it]"
          ]
        },
        {
          "output_type": "stream",
          "name": "stdout",
          "text": [
            "  Batch 200/654, MoCo Loss: 5.4988, Cls Loss: 1.7137, Total Loss: 7.2124\n"
          ]
        },
        {
          "output_type": "stream",
          "name": "stderr",
          "text": [
            "Epoch 1/5:  32%|███▏      | 211/654 [08:45<18:29,  2.50s/it]"
          ]
        },
        {
          "output_type": "stream",
          "name": "stdout",
          "text": [
            "  Batch 210/654, MoCo Loss: 5.3899, Cls Loss: 1.5399, Total Loss: 6.9299\n"
          ]
        },
        {
          "output_type": "stream",
          "name": "stderr",
          "text": [
            "Epoch 1/5:  34%|███▍      | 221/654 [09:10<18:09,  2.52s/it]"
          ]
        },
        {
          "output_type": "stream",
          "name": "stdout",
          "text": [
            "  Batch 220/654, MoCo Loss: 5.6393, Cls Loss: 1.5914, Total Loss: 7.2306\n"
          ]
        },
        {
          "output_type": "stream",
          "name": "stderr",
          "text": [
            "Epoch 1/5:  35%|███▌      | 231/654 [09:35<17:29,  2.48s/it]"
          ]
        },
        {
          "output_type": "stream",
          "name": "stdout",
          "text": [
            "  Batch 230/654, MoCo Loss: 5.6246, Cls Loss: 1.8244, Total Loss: 7.4490\n"
          ]
        },
        {
          "output_type": "stream",
          "name": "stderr",
          "text": [
            "Epoch 1/5:  37%|███▋      | 241/654 [09:59<17:08,  2.49s/it]"
          ]
        },
        {
          "output_type": "stream",
          "name": "stdout",
          "text": [
            "  Batch 240/654, MoCo Loss: 5.4359, Cls Loss: 1.6251, Total Loss: 7.0610\n"
          ]
        },
        {
          "output_type": "stream",
          "name": "stderr",
          "text": [
            "Epoch 1/5:  38%|███▊      | 251/654 [10:24<16:36,  2.47s/it]"
          ]
        },
        {
          "output_type": "stream",
          "name": "stdout",
          "text": [
            "  Batch 250/654, MoCo Loss: 5.3148, Cls Loss: 1.5833, Total Loss: 6.8982\n"
          ]
        },
        {
          "output_type": "stream",
          "name": "stderr",
          "text": [
            "Epoch 1/5:  40%|███▉      | 261/654 [10:49<16:21,  2.50s/it]"
          ]
        },
        {
          "output_type": "stream",
          "name": "stdout",
          "text": [
            "  Batch 260/654, MoCo Loss: 5.1765, Cls Loss: 1.4609, Total Loss: 6.6374\n"
          ]
        },
        {
          "output_type": "stream",
          "name": "stderr",
          "text": [
            "Epoch 1/5:  41%|████▏     | 271/654 [11:14<15:58,  2.50s/it]"
          ]
        },
        {
          "output_type": "stream",
          "name": "stdout",
          "text": [
            "  Batch 270/654, MoCo Loss: 5.5796, Cls Loss: 1.5173, Total Loss: 7.0970\n"
          ]
        },
        {
          "output_type": "stream",
          "name": "stderr",
          "text": [
            "Epoch 1/5:  43%|████▎     | 281/654 [11:39<15:26,  2.49s/it]"
          ]
        },
        {
          "output_type": "stream",
          "name": "stdout",
          "text": [
            "  Batch 280/654, MoCo Loss: 5.8414, Cls Loss: 1.6243, Total Loss: 7.4657\n"
          ]
        },
        {
          "output_type": "stream",
          "name": "stderr",
          "text": [
            "Epoch 1/5:  44%|████▍     | 291/654 [12:04<15:01,  2.48s/it]"
          ]
        },
        {
          "output_type": "stream",
          "name": "stdout",
          "text": [
            "  Batch 290/654, MoCo Loss: 5.5072, Cls Loss: 1.8151, Total Loss: 7.3223\n"
          ]
        },
        {
          "output_type": "stream",
          "name": "stderr",
          "text": [
            "Epoch 1/5:  46%|████▌     | 301/654 [12:28<14:31,  2.47s/it]"
          ]
        },
        {
          "output_type": "stream",
          "name": "stdout",
          "text": [
            "  Batch 300/654, MoCo Loss: 5.4399, Cls Loss: 1.5087, Total Loss: 6.9486\n"
          ]
        },
        {
          "output_type": "stream",
          "name": "stderr",
          "text": [
            "Epoch 1/5:  48%|████▊     | 311/654 [12:53<14:11,  2.48s/it]"
          ]
        },
        {
          "output_type": "stream",
          "name": "stdout",
          "text": [
            "  Batch 310/654, MoCo Loss: 5.4215, Cls Loss: 1.3915, Total Loss: 6.8130\n"
          ]
        },
        {
          "output_type": "stream",
          "name": "stderr",
          "text": [
            "Epoch 1/5:  49%|████▉     | 321/654 [13:18<13:52,  2.50s/it]"
          ]
        },
        {
          "output_type": "stream",
          "name": "stdout",
          "text": [
            "  Batch 320/654, MoCo Loss: 5.0106, Cls Loss: 1.5023, Total Loss: 6.5129\n"
          ]
        },
        {
          "output_type": "stream",
          "name": "stderr",
          "text": [
            "Epoch 1/5:  51%|█████     | 331/654 [13:43<13:20,  2.48s/it]"
          ]
        },
        {
          "output_type": "stream",
          "name": "stdout",
          "text": [
            "  Batch 330/654, MoCo Loss: 5.2304, Cls Loss: 1.6897, Total Loss: 6.9201\n"
          ]
        },
        {
          "output_type": "stream",
          "name": "stderr",
          "text": [
            "Epoch 1/5:  52%|█████▏    | 341/654 [14:08<12:54,  2.48s/it]"
          ]
        },
        {
          "output_type": "stream",
          "name": "stdout",
          "text": [
            "  Batch 340/654, MoCo Loss: 5.5787, Cls Loss: 1.4064, Total Loss: 6.9851\n"
          ]
        },
        {
          "output_type": "stream",
          "name": "stderr",
          "text": [
            "Epoch 1/5:  54%|█████▎    | 351/654 [14:33<12:36,  2.50s/it]"
          ]
        },
        {
          "output_type": "stream",
          "name": "stdout",
          "text": [
            "  Batch 350/654, MoCo Loss: 5.3613, Cls Loss: 1.5164, Total Loss: 6.8777\n"
          ]
        },
        {
          "output_type": "stream",
          "name": "stderr",
          "text": [
            "Epoch 1/5:  55%|█████▌    | 361/654 [14:58<12:09,  2.49s/it]"
          ]
        },
        {
          "output_type": "stream",
          "name": "stdout",
          "text": [
            "  Batch 360/654, MoCo Loss: 5.0500, Cls Loss: 1.3206, Total Loss: 6.3706\n"
          ]
        },
        {
          "output_type": "stream",
          "name": "stderr",
          "text": [
            "Epoch 1/5:  57%|█████▋    | 371/654 [15:23<11:45,  2.49s/it]"
          ]
        },
        {
          "output_type": "stream",
          "name": "stdout",
          "text": [
            "  Batch 370/654, MoCo Loss: 5.0287, Cls Loss: 1.5345, Total Loss: 6.5633\n"
          ]
        },
        {
          "output_type": "stream",
          "name": "stderr",
          "text": [
            "Epoch 1/5:  58%|█████▊    | 381/654 [15:48<11:16,  2.48s/it]"
          ]
        },
        {
          "output_type": "stream",
          "name": "stdout",
          "text": [
            "  Batch 380/654, MoCo Loss: 5.1527, Cls Loss: 1.3164, Total Loss: 6.4691\n"
          ]
        },
        {
          "output_type": "stream",
          "name": "stderr",
          "text": [
            "Epoch 1/5:  60%|█████▉    | 391/654 [16:13<10:52,  2.48s/it]"
          ]
        },
        {
          "output_type": "stream",
          "name": "stdout",
          "text": [
            "  Batch 390/654, MoCo Loss: 5.0722, Cls Loss: 1.2308, Total Loss: 6.3031\n"
          ]
        },
        {
          "output_type": "stream",
          "name": "stderr",
          "text": [
            "Epoch 1/5:  61%|██████▏   | 401/654 [16:37<10:23,  2.46s/it]"
          ]
        },
        {
          "output_type": "stream",
          "name": "stdout",
          "text": [
            "  Batch 400/654, MoCo Loss: 5.0329, Cls Loss: 1.2588, Total Loss: 6.2917\n"
          ]
        },
        {
          "output_type": "stream",
          "name": "stderr",
          "text": [
            "Epoch 1/5:  63%|██████▎   | 411/654 [17:02<10:00,  2.47s/it]"
          ]
        },
        {
          "output_type": "stream",
          "name": "stdout",
          "text": [
            "  Batch 410/654, MoCo Loss: 5.0793, Cls Loss: 1.3189, Total Loss: 6.3982\n"
          ]
        },
        {
          "output_type": "stream",
          "name": "stderr",
          "text": [
            "Epoch 1/5:  64%|██████▍   | 421/654 [17:27<09:36,  2.47s/it]"
          ]
        },
        {
          "output_type": "stream",
          "name": "stdout",
          "text": [
            "  Batch 420/654, MoCo Loss: 4.8701, Cls Loss: 1.4320, Total Loss: 6.3020\n"
          ]
        },
        {
          "output_type": "stream",
          "name": "stderr",
          "text": [
            "Epoch 1/5:  66%|██████▌   | 431/654 [17:52<09:10,  2.47s/it]"
          ]
        },
        {
          "output_type": "stream",
          "name": "stdout",
          "text": [
            "  Batch 430/654, MoCo Loss: 5.1565, Cls Loss: 1.3253, Total Loss: 6.4818\n"
          ]
        },
        {
          "output_type": "stream",
          "name": "stderr",
          "text": [
            "Epoch 1/5:  67%|██████▋   | 441/654 [18:17<08:54,  2.51s/it]"
          ]
        },
        {
          "output_type": "stream",
          "name": "stdout",
          "text": [
            "  Batch 440/654, MoCo Loss: 4.9360, Cls Loss: 1.5701, Total Loss: 6.5061\n"
          ]
        },
        {
          "output_type": "stream",
          "name": "stderr",
          "text": [
            "Epoch 1/5:  69%|██████▉   | 451/654 [18:41<08:23,  2.48s/it]"
          ]
        },
        {
          "output_type": "stream",
          "name": "stdout",
          "text": [
            "  Batch 450/654, MoCo Loss: 4.9306, Cls Loss: 1.3328, Total Loss: 6.2634\n"
          ]
        },
        {
          "output_type": "stream",
          "name": "stderr",
          "text": [
            "Epoch 1/5:  70%|███████   | 461/654 [19:06<07:59,  2.48s/it]"
          ]
        },
        {
          "output_type": "stream",
          "name": "stdout",
          "text": [
            "  Batch 460/654, MoCo Loss: 4.8101, Cls Loss: 1.3255, Total Loss: 6.1355\n"
          ]
        },
        {
          "output_type": "stream",
          "name": "stderr",
          "text": [
            "Epoch 1/5:  72%|███████▏  | 471/654 [19:31<07:36,  2.49s/it]"
          ]
        },
        {
          "output_type": "stream",
          "name": "stdout",
          "text": [
            "  Batch 470/654, MoCo Loss: 5.0687, Cls Loss: 1.3942, Total Loss: 6.4630\n"
          ]
        },
        {
          "output_type": "stream",
          "name": "stderr",
          "text": [
            "Epoch 1/5:  74%|███████▎  | 481/654 [19:56<07:12,  2.50s/it]"
          ]
        },
        {
          "output_type": "stream",
          "name": "stdout",
          "text": [
            "  Batch 480/654, MoCo Loss: 5.2658, Cls Loss: 1.3277, Total Loss: 6.5934\n"
          ]
        },
        {
          "output_type": "stream",
          "name": "stderr",
          "text": [
            "Epoch 1/5:  75%|███████▌  | 491/654 [20:21<06:41,  2.46s/it]"
          ]
        },
        {
          "output_type": "stream",
          "name": "stdout",
          "text": [
            "  Batch 490/654, MoCo Loss: 5.6537, Cls Loss: 1.5171, Total Loss: 7.1708\n"
          ]
        },
        {
          "output_type": "stream",
          "name": "stderr",
          "text": [
            "Epoch 1/5:  77%|███████▋  | 501/654 [20:46<06:19,  2.48s/it]"
          ]
        },
        {
          "output_type": "stream",
          "name": "stdout",
          "text": [
            "  Batch 500/654, MoCo Loss: 4.8024, Cls Loss: 1.2736, Total Loss: 6.0760\n"
          ]
        },
        {
          "output_type": "stream",
          "name": "stderr",
          "text": [
            "Epoch 1/5:  78%|███████▊  | 511/654 [21:11<05:56,  2.49s/it]"
          ]
        },
        {
          "output_type": "stream",
          "name": "stdout",
          "text": [
            "  Batch 510/654, MoCo Loss: 5.1560, Cls Loss: 1.4653, Total Loss: 6.6214\n"
          ]
        },
        {
          "output_type": "stream",
          "name": "stderr",
          "text": [
            "Epoch 1/5:  80%|███████▉  | 521/654 [21:35<05:30,  2.48s/it]"
          ]
        },
        {
          "output_type": "stream",
          "name": "stdout",
          "text": [
            "  Batch 520/654, MoCo Loss: 5.3409, Cls Loss: 1.3214, Total Loss: 6.6622\n"
          ]
        },
        {
          "output_type": "stream",
          "name": "stderr",
          "text": [
            "Epoch 1/5:  81%|████████  | 531/654 [22:00<05:05,  2.48s/it]"
          ]
        },
        {
          "output_type": "stream",
          "name": "stdout",
          "text": [
            "  Batch 530/654, MoCo Loss: 5.1826, Cls Loss: 1.5107, Total Loss: 6.6933\n"
          ]
        },
        {
          "output_type": "stream",
          "name": "stderr",
          "text": [
            "Epoch 1/5:  83%|████████▎ | 541/654 [22:25<04:41,  2.49s/it]"
          ]
        },
        {
          "output_type": "stream",
          "name": "stdout",
          "text": [
            "  Batch 540/654, MoCo Loss: 4.9280, Cls Loss: 1.3673, Total Loss: 6.2954\n"
          ]
        },
        {
          "output_type": "stream",
          "name": "stderr",
          "text": [
            "Epoch 1/5:  84%|████████▍ | 551/654 [22:50<04:15,  2.48s/it]"
          ]
        },
        {
          "output_type": "stream",
          "name": "stdout",
          "text": [
            "  Batch 550/654, MoCo Loss: 5.0014, Cls Loss: 1.1807, Total Loss: 6.1821\n"
          ]
        },
        {
          "output_type": "stream",
          "name": "stderr",
          "text": [
            "Epoch 1/5:  86%|████████▌ | 561/654 [23:15<03:52,  2.50s/it]"
          ]
        },
        {
          "output_type": "stream",
          "name": "stdout",
          "text": [
            "  Batch 560/654, MoCo Loss: 4.6626, Cls Loss: 1.4037, Total Loss: 6.0663\n"
          ]
        },
        {
          "output_type": "stream",
          "name": "stderr",
          "text": [
            "Epoch 1/5:  87%|████████▋ | 571/654 [23:40<03:26,  2.49s/it]"
          ]
        },
        {
          "output_type": "stream",
          "name": "stdout",
          "text": [
            "  Batch 570/654, MoCo Loss: 4.9370, Cls Loss: 1.5790, Total Loss: 6.5160\n"
          ]
        },
        {
          "output_type": "stream",
          "name": "stderr",
          "text": [
            "Epoch 1/5:  89%|████████▉ | 581/654 [24:05<02:59,  2.46s/it]"
          ]
        },
        {
          "output_type": "stream",
          "name": "stdout",
          "text": [
            "  Batch 580/654, MoCo Loss: 5.1846, Cls Loss: 1.3301, Total Loss: 6.5148\n"
          ]
        },
        {
          "output_type": "stream",
          "name": "stderr",
          "text": [
            "Epoch 1/5:  90%|█████████ | 591/654 [24:30<02:34,  2.46s/it]"
          ]
        },
        {
          "output_type": "stream",
          "name": "stdout",
          "text": [
            "  Batch 590/654, MoCo Loss: 4.7636, Cls Loss: 1.2475, Total Loss: 6.0110\n"
          ]
        },
        {
          "output_type": "stream",
          "name": "stderr",
          "text": [
            "Epoch 1/5:  92%|█████████▏| 601/654 [24:54<02:11,  2.47s/it]"
          ]
        },
        {
          "output_type": "stream",
          "name": "stdout",
          "text": [
            "  Batch 600/654, MoCo Loss: 4.7380, Cls Loss: 1.2594, Total Loss: 5.9974\n"
          ]
        },
        {
          "output_type": "stream",
          "name": "stderr",
          "text": [
            "Epoch 1/5:  93%|█████████▎| 611/654 [25:19<01:46,  2.48s/it]"
          ]
        },
        {
          "output_type": "stream",
          "name": "stdout",
          "text": [
            "  Batch 610/654, MoCo Loss: 4.8929, Cls Loss: 1.1032, Total Loss: 5.9961\n"
          ]
        },
        {
          "output_type": "stream",
          "name": "stderr",
          "text": [
            "Epoch 1/5:  95%|█████████▍| 621/654 [25:44<01:22,  2.50s/it]"
          ]
        },
        {
          "output_type": "stream",
          "name": "stdout",
          "text": [
            "  Batch 620/654, MoCo Loss: 5.2117, Cls Loss: 1.2970, Total Loss: 6.5087\n"
          ]
        },
        {
          "output_type": "stream",
          "name": "stderr",
          "text": [
            "Epoch 1/5:  96%|█████████▋| 631/654 [26:09<00:57,  2.52s/it]"
          ]
        },
        {
          "output_type": "stream",
          "name": "stdout",
          "text": [
            "  Batch 630/654, MoCo Loss: 5.0123, Cls Loss: 1.2812, Total Loss: 6.2935\n"
          ]
        },
        {
          "output_type": "stream",
          "name": "stderr",
          "text": [
            "Epoch 1/5:  98%|█████████▊| 641/654 [26:34<00:32,  2.48s/it]"
          ]
        },
        {
          "output_type": "stream",
          "name": "stdout",
          "text": [
            "  Batch 640/654, MoCo Loss: 5.0063, Cls Loss: 1.1972, Total Loss: 6.2036\n"
          ]
        },
        {
          "output_type": "stream",
          "name": "stderr",
          "text": [
            "Epoch 1/5: 100%|█████████▉| 651/654 [26:59<00:07,  2.51s/it]"
          ]
        },
        {
          "output_type": "stream",
          "name": "stdout",
          "text": [
            "  Batch 650/654, MoCo Loss: 5.2070, Cls Loss: 1.5344, Total Loss: 6.7414\n"
          ]
        },
        {
          "output_type": "stream",
          "name": "stderr",
          "text": [
            "Epoch 1/5: 100%|██████████| 654/654 [27:04<00:00,  2.48s/it]\n"
          ]
        },
        {
          "output_type": "stream",
          "name": "stdout",
          "text": [
            "Epoch 1/5, Train Loss: 7.0216, Val Loss: 1.0735, Val Accuracy: 59.92%\n"
          ]
        },
        {
          "output_type": "stream",
          "name": "stderr",
          "text": [
            "Epoch 2/5:   0%|          | 1/654 [00:02<27:08,  2.49s/it]"
          ]
        },
        {
          "output_type": "stream",
          "name": "stdout",
          "text": [
            "  Batch 0/654, MoCo Loss: 5.1036, Cls Loss: 1.2501, Total Loss: 6.3537\n"
          ]
        },
        {
          "output_type": "stream",
          "name": "stderr",
          "text": [
            "Epoch 2/5:   2%|▏         | 11/654 [00:27<26:30,  2.47s/it]"
          ]
        },
        {
          "output_type": "stream",
          "name": "stdout",
          "text": [
            "  Batch 10/654, MoCo Loss: 5.1109, Cls Loss: 1.5460, Total Loss: 6.6569\n"
          ]
        },
        {
          "output_type": "stream",
          "name": "stderr",
          "text": [
            "Epoch 2/5:   3%|▎         | 21/654 [00:52<26:20,  2.50s/it]"
          ]
        },
        {
          "output_type": "stream",
          "name": "stdout",
          "text": [
            "  Batch 20/654, MoCo Loss: 4.7501, Cls Loss: 1.4403, Total Loss: 6.1904\n"
          ]
        },
        {
          "output_type": "stream",
          "name": "stderr",
          "text": [
            "Epoch 2/5:   5%|▍         | 31/654 [01:17<25:59,  2.50s/it]"
          ]
        },
        {
          "output_type": "stream",
          "name": "stdout",
          "text": [
            "  Batch 30/654, MoCo Loss: 4.6681, Cls Loss: 1.3216, Total Loss: 5.9897\n"
          ]
        },
        {
          "output_type": "stream",
          "name": "stderr",
          "text": [
            "Epoch 2/5:   6%|▋         | 41/654 [01:42<25:43,  2.52s/it]"
          ]
        },
        {
          "output_type": "stream",
          "name": "stdout",
          "text": [
            "  Batch 40/654, MoCo Loss: 4.4163, Cls Loss: 1.3299, Total Loss: 5.7462\n"
          ]
        },
        {
          "output_type": "stream",
          "name": "stderr",
          "text": [
            "Epoch 2/5:   8%|▊         | 51/654 [02:06<25:06,  2.50s/it]"
          ]
        },
        {
          "output_type": "stream",
          "name": "stdout",
          "text": [
            "  Batch 50/654, MoCo Loss: 4.7311, Cls Loss: 1.1576, Total Loss: 5.8886\n"
          ]
        },
        {
          "output_type": "stream",
          "name": "stderr",
          "text": [
            "Epoch 2/5:   9%|▉         | 61/654 [02:31<24:36,  2.49s/it]"
          ]
        },
        {
          "output_type": "stream",
          "name": "stdout",
          "text": [
            "  Batch 60/654, MoCo Loss: 4.8152, Cls Loss: 1.2026, Total Loss: 6.0178\n"
          ]
        },
        {
          "output_type": "stream",
          "name": "stderr",
          "text": [
            "Epoch 2/5:  11%|█         | 71/654 [02:56<24:22,  2.51s/it]"
          ]
        },
        {
          "output_type": "stream",
          "name": "stdout",
          "text": [
            "  Batch 70/654, MoCo Loss: 4.6765, Cls Loss: 1.4477, Total Loss: 6.1243\n"
          ]
        },
        {
          "output_type": "stream",
          "name": "stderr",
          "text": [
            "Epoch 2/5:  12%|█▏        | 81/654 [03:21<23:54,  2.50s/it]"
          ]
        },
        {
          "output_type": "stream",
          "name": "stdout",
          "text": [
            "  Batch 80/654, MoCo Loss: 5.1290, Cls Loss: 1.1334, Total Loss: 6.2624\n"
          ]
        },
        {
          "output_type": "stream",
          "name": "stderr",
          "text": [
            "Epoch 2/5:  14%|█▍        | 91/654 [03:46<23:29,  2.50s/it]"
          ]
        },
        {
          "output_type": "stream",
          "name": "stdout",
          "text": [
            "  Batch 90/654, MoCo Loss: 4.7434, Cls Loss: 1.1888, Total Loss: 5.9322\n"
          ]
        },
        {
          "output_type": "stream",
          "name": "stderr",
          "text": [
            "Epoch 2/5:  15%|█▌        | 101/654 [04:11<22:52,  2.48s/it]"
          ]
        },
        {
          "output_type": "stream",
          "name": "stdout",
          "text": [
            "  Batch 100/654, MoCo Loss: 4.8235, Cls Loss: 1.3287, Total Loss: 6.1521\n"
          ]
        },
        {
          "output_type": "stream",
          "name": "stderr",
          "text": [
            "Epoch 2/5:  17%|█▋        | 111/654 [04:36<22:30,  2.49s/it]"
          ]
        },
        {
          "output_type": "stream",
          "name": "stdout",
          "text": [
            "  Batch 110/654, MoCo Loss: 4.7401, Cls Loss: 1.5731, Total Loss: 6.3132\n"
          ]
        },
        {
          "output_type": "stream",
          "name": "stderr",
          "text": [
            "Epoch 2/5:  19%|█▊        | 121/654 [05:01<22:00,  2.48s/it]"
          ]
        },
        {
          "output_type": "stream",
          "name": "stdout",
          "text": [
            "  Batch 120/654, MoCo Loss: 4.6349, Cls Loss: 1.3982, Total Loss: 6.0331\n"
          ]
        },
        {
          "output_type": "stream",
          "name": "stderr",
          "text": [
            "Epoch 2/5:  20%|██        | 131/654 [05:26<21:49,  2.50s/it]"
          ]
        },
        {
          "output_type": "stream",
          "name": "stdout",
          "text": [
            "  Batch 130/654, MoCo Loss: 4.7211, Cls Loss: 1.3606, Total Loss: 6.0817\n"
          ]
        },
        {
          "output_type": "stream",
          "name": "stderr",
          "text": [
            "Epoch 2/5:  22%|██▏       | 141/654 [05:51<21:12,  2.48s/it]"
          ]
        },
        {
          "output_type": "stream",
          "name": "stdout",
          "text": [
            "  Batch 140/654, MoCo Loss: 4.8078, Cls Loss: 1.2333, Total Loss: 6.0411\n"
          ]
        },
        {
          "output_type": "stream",
          "name": "stderr",
          "text": [
            "Epoch 2/5:  23%|██▎       | 151/654 [06:16<20:51,  2.49s/it]"
          ]
        },
        {
          "output_type": "stream",
          "name": "stdout",
          "text": [
            "  Batch 150/654, MoCo Loss: 4.5420, Cls Loss: 1.1459, Total Loss: 5.6879\n"
          ]
        },
        {
          "output_type": "stream",
          "name": "stderr",
          "text": [
            "Epoch 2/5:  25%|██▍       | 161/654 [06:40<20:30,  2.50s/it]"
          ]
        },
        {
          "output_type": "stream",
          "name": "stdout",
          "text": [
            "  Batch 160/654, MoCo Loss: 4.9483, Cls Loss: 1.3486, Total Loss: 6.2968\n"
          ]
        },
        {
          "output_type": "stream",
          "name": "stderr",
          "text": [
            "Epoch 2/5:  26%|██▌       | 171/654 [07:06<20:05,  2.50s/it]"
          ]
        },
        {
          "output_type": "stream",
          "name": "stdout",
          "text": [
            "  Batch 170/654, MoCo Loss: 4.5890, Cls Loss: 1.1401, Total Loss: 5.7291\n"
          ]
        },
        {
          "output_type": "stream",
          "name": "stderr",
          "text": [
            "Epoch 2/5:  28%|██▊       | 181/654 [07:30<19:39,  2.49s/it]"
          ]
        },
        {
          "output_type": "stream",
          "name": "stdout",
          "text": [
            "  Batch 180/654, MoCo Loss: 4.6334, Cls Loss: 1.0122, Total Loss: 5.6456\n"
          ]
        },
        {
          "output_type": "stream",
          "name": "stderr",
          "text": [
            "Epoch 2/5:  29%|██▉       | 191/654 [07:55<19:05,  2.47s/it]"
          ]
        },
        {
          "output_type": "stream",
          "name": "stdout",
          "text": [
            "  Batch 190/654, MoCo Loss: 4.6248, Cls Loss: 1.1409, Total Loss: 5.7657\n"
          ]
        },
        {
          "output_type": "stream",
          "name": "stderr",
          "text": [
            "Epoch 2/5:  31%|███       | 201/654 [08:20<18:51,  2.50s/it]"
          ]
        },
        {
          "output_type": "stream",
          "name": "stdout",
          "text": [
            "  Batch 200/654, MoCo Loss: 4.5272, Cls Loss: 0.9362, Total Loss: 5.4634\n"
          ]
        },
        {
          "output_type": "stream",
          "name": "stderr",
          "text": [
            "Epoch 2/5:  32%|███▏      | 211/654 [08:45<18:16,  2.48s/it]"
          ]
        },
        {
          "output_type": "stream",
          "name": "stdout",
          "text": [
            "  Batch 210/654, MoCo Loss: 4.4123, Cls Loss: 1.2133, Total Loss: 5.6256\n"
          ]
        },
        {
          "output_type": "stream",
          "name": "stderr",
          "text": [
            "Epoch 2/5:  34%|███▍      | 221/654 [09:10<17:51,  2.47s/it]"
          ]
        },
        {
          "output_type": "stream",
          "name": "stdout",
          "text": [
            "  Batch 220/654, MoCo Loss: 4.2724, Cls Loss: 1.2430, Total Loss: 5.5154\n"
          ]
        },
        {
          "output_type": "stream",
          "name": "stderr",
          "text": [
            "Epoch 2/5:  35%|███▌      | 231/654 [09:35<17:32,  2.49s/it]"
          ]
        },
        {
          "output_type": "stream",
          "name": "stdout",
          "text": [
            "  Batch 230/654, MoCo Loss: 4.4922, Cls Loss: 1.0434, Total Loss: 5.5356\n"
          ]
        },
        {
          "output_type": "stream",
          "name": "stderr",
          "text": [
            "Epoch 2/5:  37%|███▋      | 241/654 [10:00<17:15,  2.51s/it]"
          ]
        },
        {
          "output_type": "stream",
          "name": "stdout",
          "text": [
            "  Batch 240/654, MoCo Loss: 4.5109, Cls Loss: 1.3632, Total Loss: 5.8740\n"
          ]
        },
        {
          "output_type": "stream",
          "name": "stderr",
          "text": [
            "Epoch 2/5:  38%|███▊      | 251/654 [10:24<16:45,  2.49s/it]"
          ]
        },
        {
          "output_type": "stream",
          "name": "stdout",
          "text": [
            "  Batch 250/654, MoCo Loss: 4.9369, Cls Loss: 1.3211, Total Loss: 6.2580\n"
          ]
        },
        {
          "output_type": "stream",
          "name": "stderr",
          "text": [
            "Epoch 2/5:  40%|███▉      | 261/654 [10:49<16:16,  2.48s/it]"
          ]
        },
        {
          "output_type": "stream",
          "name": "stdout",
          "text": [
            "  Batch 260/654, MoCo Loss: 4.7456, Cls Loss: 1.2184, Total Loss: 5.9641\n"
          ]
        },
        {
          "output_type": "stream",
          "name": "stderr",
          "text": [
            "Epoch 2/5:  41%|████▏     | 271/654 [11:14<15:55,  2.49s/it]"
          ]
        },
        {
          "output_type": "stream",
          "name": "stdout",
          "text": [
            "  Batch 270/654, MoCo Loss: 4.9526, Cls Loss: 1.0980, Total Loss: 6.0506\n"
          ]
        },
        {
          "output_type": "stream",
          "name": "stderr",
          "text": [
            "Epoch 2/5:  43%|████▎     | 281/654 [11:39<15:30,  2.49s/it]"
          ]
        },
        {
          "output_type": "stream",
          "name": "stdout",
          "text": [
            "  Batch 280/654, MoCo Loss: 4.7222, Cls Loss: 1.2282, Total Loss: 5.9504\n"
          ]
        },
        {
          "output_type": "stream",
          "name": "stderr",
          "text": [
            "Epoch 2/5:  44%|████▍     | 291/654 [12:04<15:06,  2.50s/it]"
          ]
        },
        {
          "output_type": "stream",
          "name": "stdout",
          "text": [
            "  Batch 290/654, MoCo Loss: 4.4656, Cls Loss: 1.2697, Total Loss: 5.7353\n"
          ]
        },
        {
          "output_type": "stream",
          "name": "stderr",
          "text": [
            "Epoch 2/5:  46%|████▌     | 301/654 [12:29<14:40,  2.49s/it]"
          ]
        },
        {
          "output_type": "stream",
          "name": "stdout",
          "text": [
            "  Batch 300/654, MoCo Loss: 4.2940, Cls Loss: 1.1075, Total Loss: 5.4015\n"
          ]
        },
        {
          "output_type": "stream",
          "name": "stderr",
          "text": [
            "Epoch 2/5:  48%|████▊     | 311/654 [12:54<14:22,  2.51s/it]"
          ]
        },
        {
          "output_type": "stream",
          "name": "stdout",
          "text": [
            "  Batch 310/654, MoCo Loss: 4.4910, Cls Loss: 0.9695, Total Loss: 5.4605\n"
          ]
        },
        {
          "output_type": "stream",
          "name": "stderr",
          "text": [
            "Epoch 2/5:  49%|████▉     | 321/654 [13:19<13:41,  2.47s/it]"
          ]
        },
        {
          "output_type": "stream",
          "name": "stdout",
          "text": [
            "  Batch 320/654, MoCo Loss: 4.5910, Cls Loss: 1.4541, Total Loss: 6.0450\n"
          ]
        },
        {
          "output_type": "stream",
          "name": "stderr",
          "text": [
            "Epoch 2/5:  51%|█████     | 331/654 [13:43<13:19,  2.48s/it]"
          ]
        },
        {
          "output_type": "stream",
          "name": "stdout",
          "text": [
            "  Batch 330/654, MoCo Loss: 4.3119, Cls Loss: 1.4876, Total Loss: 5.7995\n"
          ]
        },
        {
          "output_type": "stream",
          "name": "stderr",
          "text": [
            "Epoch 2/5:  52%|█████▏    | 341/654 [14:08<12:57,  2.48s/it]"
          ]
        },
        {
          "output_type": "stream",
          "name": "stdout",
          "text": [
            "  Batch 340/654, MoCo Loss: 4.6471, Cls Loss: 1.1332, Total Loss: 5.7803\n"
          ]
        },
        {
          "output_type": "stream",
          "name": "stderr",
          "text": [
            "Epoch 2/5:  54%|█████▎    | 351/654 [14:33<12:29,  2.47s/it]"
          ]
        },
        {
          "output_type": "stream",
          "name": "stdout",
          "text": [
            "  Batch 350/654, MoCo Loss: 4.4298, Cls Loss: 1.4018, Total Loss: 5.8316\n"
          ]
        },
        {
          "output_type": "stream",
          "name": "stderr",
          "text": [
            "Epoch 2/5:  55%|█████▌    | 361/654 [14:58<12:02,  2.47s/it]"
          ]
        },
        {
          "output_type": "stream",
          "name": "stdout",
          "text": [
            "  Batch 360/654, MoCo Loss: 4.7650, Cls Loss: 1.3183, Total Loss: 6.0834\n"
          ]
        },
        {
          "output_type": "stream",
          "name": "stderr",
          "text": [
            "Epoch 2/5:  57%|█████▋    | 371/654 [15:23<11:46,  2.50s/it]"
          ]
        },
        {
          "output_type": "stream",
          "name": "stdout",
          "text": [
            "  Batch 370/654, MoCo Loss: 4.9395, Cls Loss: 1.2281, Total Loss: 6.1676\n"
          ]
        },
        {
          "output_type": "stream",
          "name": "stderr",
          "text": [
            "Epoch 2/5:  58%|█████▊    | 381/654 [15:48<11:18,  2.49s/it]"
          ]
        },
        {
          "output_type": "stream",
          "name": "stdout",
          "text": [
            "  Batch 380/654, MoCo Loss: 4.7100, Cls Loss: 1.3504, Total Loss: 6.0603\n"
          ]
        },
        {
          "output_type": "stream",
          "name": "stderr",
          "text": [
            "Epoch 2/5:  60%|█████▉    | 391/654 [16:13<10:55,  2.49s/it]"
          ]
        },
        {
          "output_type": "stream",
          "name": "stdout",
          "text": [
            "  Batch 390/654, MoCo Loss: 4.5334, Cls Loss: 0.9533, Total Loss: 5.4867\n"
          ]
        },
        {
          "output_type": "stream",
          "name": "stderr",
          "text": [
            "Epoch 2/5:  61%|██████▏   | 401/654 [16:37<10:28,  2.49s/it]"
          ]
        },
        {
          "output_type": "stream",
          "name": "stdout",
          "text": [
            "  Batch 400/654, MoCo Loss: 4.6417, Cls Loss: 1.3200, Total Loss: 5.9617\n"
          ]
        },
        {
          "output_type": "stream",
          "name": "stderr",
          "text": [
            "Epoch 2/5:  63%|██████▎   | 411/654 [17:02<10:03,  2.48s/it]"
          ]
        },
        {
          "output_type": "stream",
          "name": "stdout",
          "text": [
            "  Batch 410/654, MoCo Loss: 4.8936, Cls Loss: 1.2638, Total Loss: 6.1574\n"
          ]
        },
        {
          "output_type": "stream",
          "name": "stderr",
          "text": [
            "Epoch 2/5:  64%|██████▍   | 421/654 [17:27<09:42,  2.50s/it]"
          ]
        },
        {
          "output_type": "stream",
          "name": "stdout",
          "text": [
            "  Batch 420/654, MoCo Loss: 4.3256, Cls Loss: 1.2269, Total Loss: 5.5525\n"
          ]
        },
        {
          "output_type": "stream",
          "name": "stderr",
          "text": [
            "Epoch 2/5:  66%|██████▌   | 431/654 [17:52<09:17,  2.50s/it]"
          ]
        },
        {
          "output_type": "stream",
          "name": "stdout",
          "text": [
            "  Batch 430/654, MoCo Loss: 4.6456, Cls Loss: 1.2317, Total Loss: 5.8773\n"
          ]
        },
        {
          "output_type": "stream",
          "name": "stderr",
          "text": [
            "Epoch 2/5:  67%|██████▋   | 441/654 [18:17<08:52,  2.50s/it]"
          ]
        },
        {
          "output_type": "stream",
          "name": "stdout",
          "text": [
            "  Batch 440/654, MoCo Loss: 4.5912, Cls Loss: 1.0137, Total Loss: 5.6049\n"
          ]
        },
        {
          "output_type": "stream",
          "name": "stderr",
          "text": [
            "Epoch 2/5:  69%|██████▉   | 451/654 [18:42<08:25,  2.49s/it]"
          ]
        },
        {
          "output_type": "stream",
          "name": "stdout",
          "text": [
            "  Batch 450/654, MoCo Loss: 4.8742, Cls Loss: 1.3384, Total Loss: 6.2126\n"
          ]
        },
        {
          "output_type": "stream",
          "name": "stderr",
          "text": [
            "Epoch 2/5:  70%|███████   | 461/654 [19:07<07:59,  2.48s/it]"
          ]
        },
        {
          "output_type": "stream",
          "name": "stdout",
          "text": [
            "  Batch 460/654, MoCo Loss: 4.3561, Cls Loss: 1.3236, Total Loss: 5.6798\n"
          ]
        },
        {
          "output_type": "stream",
          "name": "stderr",
          "text": [
            "Epoch 2/5:  72%|███████▏  | 471/654 [19:31<07:32,  2.47s/it]"
          ]
        },
        {
          "output_type": "stream",
          "name": "stdout",
          "text": [
            "  Batch 470/654, MoCo Loss: 4.8406, Cls Loss: 1.1902, Total Loss: 6.0308\n"
          ]
        },
        {
          "output_type": "stream",
          "name": "stderr",
          "text": [
            "Epoch 2/5:  74%|███████▎  | 481/654 [19:56<07:09,  2.48s/it]"
          ]
        },
        {
          "output_type": "stream",
          "name": "stdout",
          "text": [
            "  Batch 480/654, MoCo Loss: 4.1903, Cls Loss: 1.1620, Total Loss: 5.3524\n"
          ]
        },
        {
          "output_type": "stream",
          "name": "stderr",
          "text": [
            "Epoch 2/5:  75%|███████▌  | 491/654 [20:21<06:47,  2.50s/it]"
          ]
        },
        {
          "output_type": "stream",
          "name": "stdout",
          "text": [
            "  Batch 490/654, MoCo Loss: 4.4315, Cls Loss: 1.1507, Total Loss: 5.5822\n"
          ]
        },
        {
          "output_type": "stream",
          "name": "stderr",
          "text": [
            "Epoch 2/5:  77%|███████▋  | 501/654 [20:46<06:18,  2.47s/it]"
          ]
        },
        {
          "output_type": "stream",
          "name": "stdout",
          "text": [
            "  Batch 500/654, MoCo Loss: 4.5047, Cls Loss: 1.0497, Total Loss: 5.5545\n"
          ]
        },
        {
          "output_type": "stream",
          "name": "stderr",
          "text": [
            "Epoch 2/5:  78%|███████▊  | 511/654 [21:11<05:58,  2.51s/it]"
          ]
        },
        {
          "output_type": "stream",
          "name": "stdout",
          "text": [
            "  Batch 510/654, MoCo Loss: 4.3622, Cls Loss: 1.1100, Total Loss: 5.4722\n"
          ]
        },
        {
          "output_type": "stream",
          "name": "stderr",
          "text": [
            "Epoch 2/5:  80%|███████▉  | 521/654 [21:36<05:30,  2.48s/it]"
          ]
        },
        {
          "output_type": "stream",
          "name": "stdout",
          "text": [
            "  Batch 520/654, MoCo Loss: 4.4396, Cls Loss: 1.2349, Total Loss: 5.6744\n"
          ]
        },
        {
          "output_type": "stream",
          "name": "stderr",
          "text": [
            "Epoch 2/5:  81%|████████  | 531/654 [22:01<05:05,  2.48s/it]"
          ]
        },
        {
          "output_type": "stream",
          "name": "stdout",
          "text": [
            "  Batch 530/654, MoCo Loss: 4.2590, Cls Loss: 1.2376, Total Loss: 5.4967\n"
          ]
        },
        {
          "output_type": "stream",
          "name": "stderr",
          "text": [
            "Epoch 2/5:  83%|████████▎ | 541/654 [22:25<04:41,  2.49s/it]"
          ]
        },
        {
          "output_type": "stream",
          "name": "stdout",
          "text": [
            "  Batch 540/654, MoCo Loss: 4.5196, Cls Loss: 1.2896, Total Loss: 5.8091\n"
          ]
        },
        {
          "output_type": "stream",
          "name": "stderr",
          "text": [
            "Epoch 2/5:  84%|████████▍ | 551/654 [22:50<04:17,  2.50s/it]"
          ]
        },
        {
          "output_type": "stream",
          "name": "stdout",
          "text": [
            "  Batch 550/654, MoCo Loss: 4.3304, Cls Loss: 1.2465, Total Loss: 5.5770\n"
          ]
        },
        {
          "output_type": "stream",
          "name": "stderr",
          "text": [
            "Epoch 2/5:  86%|████████▌ | 561/654 [23:15<03:52,  2.50s/it]"
          ]
        },
        {
          "output_type": "stream",
          "name": "stdout",
          "text": [
            "  Batch 560/654, MoCo Loss: 3.9007, Cls Loss: 1.0407, Total Loss: 4.9414\n"
          ]
        },
        {
          "output_type": "stream",
          "name": "stderr",
          "text": [
            "Epoch 2/5:  87%|████████▋ | 571/654 [23:40<03:25,  2.48s/it]"
          ]
        },
        {
          "output_type": "stream",
          "name": "stdout",
          "text": [
            "  Batch 570/654, MoCo Loss: 4.3293, Cls Loss: 0.9864, Total Loss: 5.3157\n"
          ]
        },
        {
          "output_type": "stream",
          "name": "stderr",
          "text": [
            "Epoch 2/5:  89%|████████▉ | 581/654 [24:05<03:01,  2.49s/it]"
          ]
        },
        {
          "output_type": "stream",
          "name": "stdout",
          "text": [
            "  Batch 580/654, MoCo Loss: 4.9789, Cls Loss: 1.2941, Total Loss: 6.2729\n"
          ]
        },
        {
          "output_type": "stream",
          "name": "stderr",
          "text": [
            "Epoch 2/5:  90%|█████████ | 591/654 [24:30<02:35,  2.47s/it]"
          ]
        },
        {
          "output_type": "stream",
          "name": "stdout",
          "text": [
            "  Batch 590/654, MoCo Loss: 4.7478, Cls Loss: 1.1236, Total Loss: 5.8713\n"
          ]
        },
        {
          "output_type": "stream",
          "name": "stderr",
          "text": [
            "Epoch 2/5:  92%|█████████▏| 601/654 [24:55<02:11,  2.49s/it]"
          ]
        },
        {
          "output_type": "stream",
          "name": "stdout",
          "text": [
            "  Batch 600/654, MoCo Loss: 4.2699, Cls Loss: 1.2296, Total Loss: 5.4995\n"
          ]
        },
        {
          "output_type": "stream",
          "name": "stderr",
          "text": [
            "Epoch 2/5:  93%|█████████▎| 611/654 [25:20<01:48,  2.51s/it]"
          ]
        },
        {
          "output_type": "stream",
          "name": "stdout",
          "text": [
            "  Batch 610/654, MoCo Loss: 4.5140, Cls Loss: 1.3307, Total Loss: 5.8446\n"
          ]
        },
        {
          "output_type": "stream",
          "name": "stderr",
          "text": [
            "Epoch 2/5:  95%|█████████▍| 621/654 [25:44<01:21,  2.47s/it]"
          ]
        },
        {
          "output_type": "stream",
          "name": "stdout",
          "text": [
            "  Batch 620/654, MoCo Loss: 4.6711, Cls Loss: 1.4319, Total Loss: 6.1030\n"
          ]
        },
        {
          "output_type": "stream",
          "name": "stderr",
          "text": [
            "Epoch 2/5:  96%|█████████▋| 631/654 [26:09<00:56,  2.47s/it]"
          ]
        },
        {
          "output_type": "stream",
          "name": "stdout",
          "text": [
            "  Batch 630/654, MoCo Loss: 4.1199, Cls Loss: 1.0400, Total Loss: 5.1599\n"
          ]
        },
        {
          "output_type": "stream",
          "name": "stderr",
          "text": [
            "Epoch 2/5:  98%|█████████▊| 641/654 [26:34<00:32,  2.47s/it]"
          ]
        },
        {
          "output_type": "stream",
          "name": "stdout",
          "text": [
            "  Batch 640/654, MoCo Loss: 4.5622, Cls Loss: 0.8787, Total Loss: 5.4409\n"
          ]
        },
        {
          "output_type": "stream",
          "name": "stderr",
          "text": [
            "Epoch 2/5: 100%|█████████▉| 651/654 [26:59<00:07,  2.50s/it]"
          ]
        },
        {
          "output_type": "stream",
          "name": "stdout",
          "text": [
            "  Batch 650/654, MoCo Loss: 4.3990, Cls Loss: 1.0024, Total Loss: 5.4015\n"
          ]
        },
        {
          "output_type": "stream",
          "name": "stderr",
          "text": [
            "Epoch 2/5: 100%|██████████| 654/654 [27:04<00:00,  2.48s/it]\n"
          ]
        },
        {
          "output_type": "stream",
          "name": "stdout",
          "text": [
            "Epoch 2/5, Train Loss: 5.7792, Val Loss: 0.8579, Val Accuracy: 68.95%\n"
          ]
        },
        {
          "output_type": "stream",
          "name": "stderr",
          "text": [
            "Epoch 3/5:   0%|          | 1/654 [00:02<26:41,  2.45s/it]"
          ]
        },
        {
          "output_type": "stream",
          "name": "stdout",
          "text": [
            "  Batch 0/654, MoCo Loss: 4.6761, Cls Loss: 0.9745, Total Loss: 5.6506\n"
          ]
        },
        {
          "output_type": "stream",
          "name": "stderr",
          "text": [
            "Epoch 3/5:   2%|▏         | 11/654 [00:27<26:42,  2.49s/it]"
          ]
        },
        {
          "output_type": "stream",
          "name": "stdout",
          "text": [
            "  Batch 10/654, MoCo Loss: 4.2877, Cls Loss: 1.0275, Total Loss: 5.3152\n"
          ]
        },
        {
          "output_type": "stream",
          "name": "stderr",
          "text": [
            "Epoch 3/5:   3%|▎         | 21/654 [00:52<26:14,  2.49s/it]"
          ]
        },
        {
          "output_type": "stream",
          "name": "stdout",
          "text": [
            "  Batch 20/654, MoCo Loss: 4.7818, Cls Loss: 1.3046, Total Loss: 6.0864\n"
          ]
        },
        {
          "output_type": "stream",
          "name": "stderr",
          "text": [
            "Epoch 3/5:   5%|▍         | 31/654 [01:16<25:32,  2.46s/it]"
          ]
        },
        {
          "output_type": "stream",
          "name": "stdout",
          "text": [
            "  Batch 30/654, MoCo Loss: 3.9355, Cls Loss: 1.1015, Total Loss: 5.0370\n"
          ]
        },
        {
          "output_type": "stream",
          "name": "stderr",
          "text": [
            "Epoch 3/5:   6%|▋         | 41/654 [01:41<25:25,  2.49s/it]"
          ]
        },
        {
          "output_type": "stream",
          "name": "stdout",
          "text": [
            "  Batch 40/654, MoCo Loss: 4.2987, Cls Loss: 1.0299, Total Loss: 5.3286\n"
          ]
        },
        {
          "output_type": "stream",
          "name": "stderr",
          "text": [
            "Epoch 3/5:   8%|▊         | 51/654 [02:06<25:11,  2.51s/it]"
          ]
        },
        {
          "output_type": "stream",
          "name": "stdout",
          "text": [
            "  Batch 50/654, MoCo Loss: 4.2750, Cls Loss: 1.2912, Total Loss: 5.5662\n"
          ]
        },
        {
          "output_type": "stream",
          "name": "stderr",
          "text": [
            "Epoch 3/5:   9%|▉         | 61/654 [02:31<24:41,  2.50s/it]"
          ]
        },
        {
          "output_type": "stream",
          "name": "stdout",
          "text": [
            "  Batch 60/654, MoCo Loss: 3.7996, Cls Loss: 0.8570, Total Loss: 4.6566\n"
          ]
        },
        {
          "output_type": "stream",
          "name": "stderr",
          "text": [
            "Epoch 3/5:  11%|█         | 71/654 [02:56<24:00,  2.47s/it]"
          ]
        },
        {
          "output_type": "stream",
          "name": "stdout",
          "text": [
            "  Batch 70/654, MoCo Loss: 4.6761, Cls Loss: 1.1472, Total Loss: 5.8234\n"
          ]
        },
        {
          "output_type": "stream",
          "name": "stderr",
          "text": [
            "Epoch 3/5:  12%|█▏        | 81/654 [03:21<23:53,  2.50s/it]"
          ]
        },
        {
          "output_type": "stream",
          "name": "stdout",
          "text": [
            "  Batch 80/654, MoCo Loss: 4.0919, Cls Loss: 1.2161, Total Loss: 5.3080\n"
          ]
        },
        {
          "output_type": "stream",
          "name": "stderr",
          "text": [
            "Epoch 3/5:  14%|█▍        | 91/654 [03:46<23:30,  2.50s/it]"
          ]
        },
        {
          "output_type": "stream",
          "name": "stdout",
          "text": [
            "  Batch 90/654, MoCo Loss: 4.3483, Cls Loss: 1.1991, Total Loss: 5.5474\n"
          ]
        },
        {
          "output_type": "stream",
          "name": "stderr",
          "text": [
            "Epoch 3/5:  15%|█▌        | 101/654 [04:11<23:03,  2.50s/it]"
          ]
        },
        {
          "output_type": "stream",
          "name": "stdout",
          "text": [
            "  Batch 100/654, MoCo Loss: 4.4101, Cls Loss: 1.1014, Total Loss: 5.5115\n"
          ]
        },
        {
          "output_type": "stream",
          "name": "stderr",
          "text": [
            "Epoch 3/5:  17%|█▋        | 111/654 [04:36<22:39,  2.50s/it]"
          ]
        },
        {
          "output_type": "stream",
          "name": "stdout",
          "text": [
            "  Batch 110/654, MoCo Loss: 4.2968, Cls Loss: 0.9698, Total Loss: 5.2666\n"
          ]
        },
        {
          "output_type": "stream",
          "name": "stderr",
          "text": [
            "Epoch 3/5:  19%|█▊        | 121/654 [05:01<22:06,  2.49s/it]"
          ]
        },
        {
          "output_type": "stream",
          "name": "stdout",
          "text": [
            "  Batch 120/654, MoCo Loss: 3.8558, Cls Loss: 0.9310, Total Loss: 4.7867\n"
          ]
        },
        {
          "output_type": "stream",
          "name": "stderr",
          "text": [
            "Epoch 3/5:  20%|██        | 131/654 [05:26<21:43,  2.49s/it]"
          ]
        },
        {
          "output_type": "stream",
          "name": "stdout",
          "text": [
            "  Batch 130/654, MoCo Loss: 4.2174, Cls Loss: 1.0951, Total Loss: 5.3124\n"
          ]
        },
        {
          "output_type": "stream",
          "name": "stderr",
          "text": [
            "Epoch 3/5:  22%|██▏       | 141/654 [05:51<21:16,  2.49s/it]"
          ]
        },
        {
          "output_type": "stream",
          "name": "stdout",
          "text": [
            "  Batch 140/654, MoCo Loss: 4.2446, Cls Loss: 1.0755, Total Loss: 5.3201\n"
          ]
        },
        {
          "output_type": "stream",
          "name": "stderr",
          "text": [
            "Epoch 3/5:  23%|██▎       | 151/654 [06:15<20:58,  2.50s/it]"
          ]
        },
        {
          "output_type": "stream",
          "name": "stdout",
          "text": [
            "  Batch 150/654, MoCo Loss: 3.9626, Cls Loss: 1.2022, Total Loss: 5.1647\n"
          ]
        },
        {
          "output_type": "stream",
          "name": "stderr",
          "text": [
            "Epoch 3/5:  25%|██▍       | 161/654 [06:41<20:38,  2.51s/it]"
          ]
        },
        {
          "output_type": "stream",
          "name": "stdout",
          "text": [
            "  Batch 160/654, MoCo Loss: 3.7378, Cls Loss: 1.1536, Total Loss: 4.8913\n"
          ]
        },
        {
          "output_type": "stream",
          "name": "stderr",
          "text": [
            "Epoch 3/5:  26%|██▌       | 171/654 [07:05<20:06,  2.50s/it]"
          ]
        },
        {
          "output_type": "stream",
          "name": "stdout",
          "text": [
            "  Batch 170/654, MoCo Loss: 4.2690, Cls Loss: 1.1622, Total Loss: 5.4312\n"
          ]
        },
        {
          "output_type": "stream",
          "name": "stderr",
          "text": [
            "Epoch 3/5:  28%|██▊       | 181/654 [07:31<19:40,  2.50s/it]"
          ]
        },
        {
          "output_type": "stream",
          "name": "stdout",
          "text": [
            "  Batch 180/654, MoCo Loss: 3.6831, Cls Loss: 0.8671, Total Loss: 4.5502\n"
          ]
        },
        {
          "output_type": "stream",
          "name": "stderr",
          "text": [
            "Epoch 3/5:  29%|██▉       | 191/654 [07:55<19:06,  2.48s/it]"
          ]
        },
        {
          "output_type": "stream",
          "name": "stdout",
          "text": [
            "  Batch 190/654, MoCo Loss: 4.2919, Cls Loss: 1.0186, Total Loss: 5.3106\n"
          ]
        },
        {
          "output_type": "stream",
          "name": "stderr",
          "text": [
            "Epoch 3/5:  31%|███       | 201/654 [08:20<18:49,  2.49s/it]"
          ]
        },
        {
          "output_type": "stream",
          "name": "stdout",
          "text": [
            "  Batch 200/654, MoCo Loss: 4.6160, Cls Loss: 1.1668, Total Loss: 5.7828\n"
          ]
        },
        {
          "output_type": "stream",
          "name": "stderr",
          "text": [
            "Epoch 3/5:  32%|███▏      | 211/654 [08:45<18:18,  2.48s/it]"
          ]
        },
        {
          "output_type": "stream",
          "name": "stdout",
          "text": [
            "  Batch 210/654, MoCo Loss: 4.1351, Cls Loss: 0.9920, Total Loss: 5.1272\n"
          ]
        },
        {
          "output_type": "stream",
          "name": "stderr",
          "text": [
            "Epoch 3/5:  34%|███▍      | 221/654 [09:10<17:51,  2.47s/it]"
          ]
        },
        {
          "output_type": "stream",
          "name": "stdout",
          "text": [
            "  Batch 220/654, MoCo Loss: 3.9860, Cls Loss: 1.0515, Total Loss: 5.0375\n"
          ]
        },
        {
          "output_type": "stream",
          "name": "stderr",
          "text": [
            "Epoch 3/5:  35%|███▌      | 231/654 [09:35<17:30,  2.48s/it]"
          ]
        },
        {
          "output_type": "stream",
          "name": "stdout",
          "text": [
            "  Batch 230/654, MoCo Loss: 3.9396, Cls Loss: 1.0258, Total Loss: 4.9653\n"
          ]
        },
        {
          "output_type": "stream",
          "name": "stderr",
          "text": [
            "Epoch 3/5:  37%|███▋      | 241/654 [10:00<17:06,  2.49s/it]"
          ]
        },
        {
          "output_type": "stream",
          "name": "stdout",
          "text": [
            "  Batch 240/654, MoCo Loss: 4.3645, Cls Loss: 1.0664, Total Loss: 5.4310\n"
          ]
        },
        {
          "output_type": "stream",
          "name": "stderr",
          "text": [
            "Epoch 3/5:  38%|███▊      | 251/654 [10:25<16:40,  2.48s/it]"
          ]
        },
        {
          "output_type": "stream",
          "name": "stdout",
          "text": [
            "  Batch 250/654, MoCo Loss: 4.4253, Cls Loss: 1.0068, Total Loss: 5.4321\n"
          ]
        },
        {
          "output_type": "stream",
          "name": "stderr",
          "text": [
            "Epoch 3/5:  40%|███▉      | 261/654 [10:50<16:18,  2.49s/it]"
          ]
        },
        {
          "output_type": "stream",
          "name": "stdout",
          "text": [
            "  Batch 260/654, MoCo Loss: 3.7409, Cls Loss: 1.0594, Total Loss: 4.8003\n"
          ]
        },
        {
          "output_type": "stream",
          "name": "stderr",
          "text": [
            "Epoch 3/5:  41%|████▏     | 271/654 [11:15<15:55,  2.49s/it]"
          ]
        },
        {
          "output_type": "stream",
          "name": "stdout",
          "text": [
            "  Batch 270/654, MoCo Loss: 4.2764, Cls Loss: 1.0435, Total Loss: 5.3199\n"
          ]
        },
        {
          "output_type": "stream",
          "name": "stderr",
          "text": [
            "Epoch 3/5:  43%|████▎     | 281/654 [11:40<15:31,  2.50s/it]"
          ]
        },
        {
          "output_type": "stream",
          "name": "stdout",
          "text": [
            "  Batch 280/654, MoCo Loss: 4.3592, Cls Loss: 1.5197, Total Loss: 5.8789\n"
          ]
        },
        {
          "output_type": "stream",
          "name": "stderr",
          "text": [
            "Epoch 3/5:  44%|████▍     | 291/654 [12:05<15:04,  2.49s/it]"
          ]
        },
        {
          "output_type": "stream",
          "name": "stdout",
          "text": [
            "  Batch 290/654, MoCo Loss: 4.0786, Cls Loss: 0.9944, Total Loss: 5.0730\n"
          ]
        },
        {
          "output_type": "stream",
          "name": "stderr",
          "text": [
            "Epoch 3/5:  46%|████▌     | 301/654 [12:30<14:50,  2.52s/it]"
          ]
        },
        {
          "output_type": "stream",
          "name": "stdout",
          "text": [
            "  Batch 300/654, MoCo Loss: 4.1081, Cls Loss: 1.1608, Total Loss: 5.2689\n"
          ]
        },
        {
          "output_type": "stream",
          "name": "stderr",
          "text": [
            "Epoch 3/5:  48%|████▊     | 311/654 [12:55<14:16,  2.50s/it]"
          ]
        },
        {
          "output_type": "stream",
          "name": "stdout",
          "text": [
            "  Batch 310/654, MoCo Loss: 4.1509, Cls Loss: 1.2603, Total Loss: 5.4112\n"
          ]
        },
        {
          "output_type": "stream",
          "name": "stderr",
          "text": [
            "Epoch 3/5:  49%|████▉     | 321/654 [13:20<13:53,  2.50s/it]"
          ]
        },
        {
          "output_type": "stream",
          "name": "stdout",
          "text": [
            "  Batch 320/654, MoCo Loss: 4.2648, Cls Loss: 1.3696, Total Loss: 5.6344\n"
          ]
        },
        {
          "output_type": "stream",
          "name": "stderr",
          "text": [
            "Epoch 3/5:  51%|█████     | 331/654 [13:45<13:27,  2.50s/it]"
          ]
        },
        {
          "output_type": "stream",
          "name": "stdout",
          "text": [
            "  Batch 330/654, MoCo Loss: 4.5638, Cls Loss: 1.2099, Total Loss: 5.7736\n"
          ]
        },
        {
          "output_type": "stream",
          "name": "stderr",
          "text": [
            "Epoch 3/5:  52%|█████▏    | 341/654 [14:10<13:09,  2.52s/it]"
          ]
        },
        {
          "output_type": "stream",
          "name": "stdout",
          "text": [
            "  Batch 340/654, MoCo Loss: 4.2060, Cls Loss: 1.1683, Total Loss: 5.3744\n"
          ]
        },
        {
          "output_type": "stream",
          "name": "stderr",
          "text": [
            "Epoch 3/5:  54%|█████▎    | 351/654 [14:34<12:32,  2.48s/it]"
          ]
        },
        {
          "output_type": "stream",
          "name": "stdout",
          "text": [
            "  Batch 350/654, MoCo Loss: 4.5923, Cls Loss: 1.1551, Total Loss: 5.7473\n"
          ]
        },
        {
          "output_type": "stream",
          "name": "stderr",
          "text": [
            "Epoch 3/5:  55%|█████▌    | 361/654 [14:59<12:07,  2.48s/it]"
          ]
        },
        {
          "output_type": "stream",
          "name": "stdout",
          "text": [
            "  Batch 360/654, MoCo Loss: 3.6818, Cls Loss: 1.0257, Total Loss: 4.7075\n"
          ]
        },
        {
          "output_type": "stream",
          "name": "stderr",
          "text": [
            "Epoch 3/5:  57%|█████▋    | 371/654 [15:24<11:41,  2.48s/it]"
          ]
        },
        {
          "output_type": "stream",
          "name": "stdout",
          "text": [
            "  Batch 370/654, MoCo Loss: 3.9708, Cls Loss: 0.9452, Total Loss: 4.9159\n"
          ]
        },
        {
          "output_type": "stream",
          "name": "stderr",
          "text": [
            "Epoch 3/5:  58%|█████▊    | 381/654 [15:49<11:23,  2.50s/it]"
          ]
        },
        {
          "output_type": "stream",
          "name": "stdout",
          "text": [
            "  Batch 380/654, MoCo Loss: 3.9116, Cls Loss: 1.1702, Total Loss: 5.0817\n"
          ]
        },
        {
          "output_type": "stream",
          "name": "stderr",
          "text": [
            "Epoch 3/5:  60%|█████▉    | 391/654 [16:14<10:52,  2.48s/it]"
          ]
        },
        {
          "output_type": "stream",
          "name": "stdout",
          "text": [
            "  Batch 390/654, MoCo Loss: 3.7203, Cls Loss: 0.8322, Total Loss: 4.5524\n"
          ]
        },
        {
          "output_type": "stream",
          "name": "stderr",
          "text": [
            "Epoch 3/5:  61%|██████▏   | 401/654 [16:39<10:33,  2.50s/it]"
          ]
        },
        {
          "output_type": "stream",
          "name": "stdout",
          "text": [
            "  Batch 400/654, MoCo Loss: 3.8194, Cls Loss: 0.8493, Total Loss: 4.6687\n"
          ]
        },
        {
          "output_type": "stream",
          "name": "stderr",
          "text": [
            "Epoch 3/5:  63%|██████▎   | 411/654 [17:04<10:04,  2.49s/it]"
          ]
        },
        {
          "output_type": "stream",
          "name": "stdout",
          "text": [
            "  Batch 410/654, MoCo Loss: 3.5770, Cls Loss: 1.0430, Total Loss: 4.6200\n"
          ]
        },
        {
          "output_type": "stream",
          "name": "stderr",
          "text": [
            "Epoch 3/5:  64%|██████▍   | 421/654 [17:29<09:36,  2.47s/it]"
          ]
        },
        {
          "output_type": "stream",
          "name": "stdout",
          "text": [
            "  Batch 420/654, MoCo Loss: 3.7905, Cls Loss: 0.8437, Total Loss: 4.6341\n"
          ]
        },
        {
          "output_type": "stream",
          "name": "stderr",
          "text": [
            "Epoch 3/5:  66%|██████▌   | 431/654 [17:54<09:14,  2.49s/it]"
          ]
        },
        {
          "output_type": "stream",
          "name": "stdout",
          "text": [
            "  Batch 430/654, MoCo Loss: 4.3388, Cls Loss: 1.0341, Total Loss: 5.3730\n"
          ]
        },
        {
          "output_type": "stream",
          "name": "stderr",
          "text": [
            "Epoch 3/5:  67%|██████▋   | 441/654 [18:19<08:50,  2.49s/it]"
          ]
        },
        {
          "output_type": "stream",
          "name": "stdout",
          "text": [
            "  Batch 440/654, MoCo Loss: 4.4022, Cls Loss: 1.2784, Total Loss: 5.6807\n"
          ]
        },
        {
          "output_type": "stream",
          "name": "stderr",
          "text": [
            "Epoch 3/5:  69%|██████▉   | 451/654 [18:43<08:24,  2.48s/it]"
          ]
        },
        {
          "output_type": "stream",
          "name": "stdout",
          "text": [
            "  Batch 450/654, MoCo Loss: 3.9063, Cls Loss: 0.9064, Total Loss: 4.8127\n"
          ]
        },
        {
          "output_type": "stream",
          "name": "stderr",
          "text": [
            "Epoch 3/5:  70%|███████   | 461/654 [19:08<08:00,  2.49s/it]"
          ]
        },
        {
          "output_type": "stream",
          "name": "stdout",
          "text": [
            "  Batch 460/654, MoCo Loss: 3.8115, Cls Loss: 1.1298, Total Loss: 4.9414\n"
          ]
        },
        {
          "output_type": "stream",
          "name": "stderr",
          "text": [
            "Epoch 3/5:  72%|███████▏  | 471/654 [19:33<07:29,  2.46s/it]"
          ]
        },
        {
          "output_type": "stream",
          "name": "stdout",
          "text": [
            "  Batch 470/654, MoCo Loss: 3.6715, Cls Loss: 0.9649, Total Loss: 4.6363\n"
          ]
        },
        {
          "output_type": "stream",
          "name": "stderr",
          "text": [
            "Epoch 3/5:  74%|███████▎  | 481/654 [19:58<07:09,  2.48s/it]"
          ]
        },
        {
          "output_type": "stream",
          "name": "stdout",
          "text": [
            "  Batch 480/654, MoCo Loss: 4.0119, Cls Loss: 1.1486, Total Loss: 5.1605\n"
          ]
        },
        {
          "output_type": "stream",
          "name": "stderr",
          "text": [
            "Epoch 3/5:  75%|███████▌  | 491/654 [20:23<06:46,  2.50s/it]"
          ]
        },
        {
          "output_type": "stream",
          "name": "stdout",
          "text": [
            "  Batch 490/654, MoCo Loss: 3.8692, Cls Loss: 1.2236, Total Loss: 5.0928\n"
          ]
        },
        {
          "output_type": "stream",
          "name": "stderr",
          "text": [
            "Epoch 3/5:  77%|███████▋  | 501/654 [20:48<06:20,  2.49s/it]"
          ]
        },
        {
          "output_type": "stream",
          "name": "stdout",
          "text": [
            "  Batch 500/654, MoCo Loss: 3.6178, Cls Loss: 1.1275, Total Loss: 4.7453\n"
          ]
        },
        {
          "output_type": "stream",
          "name": "stderr",
          "text": [
            "Epoch 3/5:  78%|███████▊  | 511/654 [21:13<05:54,  2.48s/it]"
          ]
        },
        {
          "output_type": "stream",
          "name": "stdout",
          "text": [
            "  Batch 510/654, MoCo Loss: 4.1614, Cls Loss: 1.1756, Total Loss: 5.3371\n"
          ]
        },
        {
          "output_type": "stream",
          "name": "stderr",
          "text": [
            "Epoch 3/5:  80%|███████▉  | 521/654 [21:37<05:29,  2.48s/it]"
          ]
        },
        {
          "output_type": "stream",
          "name": "stdout",
          "text": [
            "  Batch 520/654, MoCo Loss: 4.4185, Cls Loss: 1.1156, Total Loss: 5.5341\n"
          ]
        },
        {
          "output_type": "stream",
          "name": "stderr",
          "text": [
            "Epoch 3/5:  81%|████████  | 531/654 [22:02<05:06,  2.49s/it]"
          ]
        },
        {
          "output_type": "stream",
          "name": "stdout",
          "text": [
            "  Batch 530/654, MoCo Loss: 3.5201, Cls Loss: 1.1779, Total Loss: 4.6981\n"
          ]
        },
        {
          "output_type": "stream",
          "name": "stderr",
          "text": [
            "Epoch 3/5:  83%|████████▎ | 541/654 [22:27<04:44,  2.52s/it]"
          ]
        },
        {
          "output_type": "stream",
          "name": "stdout",
          "text": [
            "  Batch 540/654, MoCo Loss: 4.0451, Cls Loss: 1.0792, Total Loss: 5.1242\n"
          ]
        },
        {
          "output_type": "stream",
          "name": "stderr",
          "text": [
            "Epoch 3/5:  84%|████████▍ | 551/654 [22:52<04:17,  2.50s/it]"
          ]
        },
        {
          "output_type": "stream",
          "name": "stdout",
          "text": [
            "  Batch 550/654, MoCo Loss: 4.3451, Cls Loss: 0.9730, Total Loss: 5.3181\n"
          ]
        },
        {
          "output_type": "stream",
          "name": "stderr",
          "text": [
            "Epoch 3/5:  86%|████████▌ | 561/654 [23:17<03:52,  2.50s/it]"
          ]
        },
        {
          "output_type": "stream",
          "name": "stdout",
          "text": [
            "  Batch 560/654, MoCo Loss: 3.9403, Cls Loss: 1.0358, Total Loss: 4.9760\n"
          ]
        },
        {
          "output_type": "stream",
          "name": "stderr",
          "text": [
            "Epoch 3/5:  87%|████████▋ | 571/654 [23:42<03:26,  2.49s/it]"
          ]
        },
        {
          "output_type": "stream",
          "name": "stdout",
          "text": [
            "  Batch 570/654, MoCo Loss: 3.5946, Cls Loss: 1.1014, Total Loss: 4.6960\n"
          ]
        },
        {
          "output_type": "stream",
          "name": "stderr",
          "text": [
            "Epoch 3/5:  89%|████████▉ | 581/654 [24:07<03:00,  2.47s/it]"
          ]
        },
        {
          "output_type": "stream",
          "name": "stdout",
          "text": [
            "  Batch 580/654, MoCo Loss: 3.4557, Cls Loss: 1.1776, Total Loss: 4.6332\n"
          ]
        },
        {
          "output_type": "stream",
          "name": "stderr",
          "text": [
            "Epoch 3/5:  90%|█████████ | 591/654 [24:32<02:36,  2.48s/it]"
          ]
        },
        {
          "output_type": "stream",
          "name": "stdout",
          "text": [
            "  Batch 590/654, MoCo Loss: 4.0416, Cls Loss: 1.3371, Total Loss: 5.3786\n"
          ]
        },
        {
          "output_type": "stream",
          "name": "stderr",
          "text": [
            "Epoch 3/5:  92%|█████████▏| 601/654 [24:56<02:12,  2.50s/it]"
          ]
        },
        {
          "output_type": "stream",
          "name": "stdout",
          "text": [
            "  Batch 600/654, MoCo Loss: 3.7817, Cls Loss: 1.1193, Total Loss: 4.9010\n"
          ]
        },
        {
          "output_type": "stream",
          "name": "stderr",
          "text": [
            "Epoch 3/5:  93%|█████████▎| 611/654 [25:21<01:47,  2.49s/it]"
          ]
        },
        {
          "output_type": "stream",
          "name": "stdout",
          "text": [
            "  Batch 610/654, MoCo Loss: 4.5399, Cls Loss: 1.2351, Total Loss: 5.7750\n"
          ]
        },
        {
          "output_type": "stream",
          "name": "stderr",
          "text": [
            "Epoch 3/5:  95%|█████████▍| 621/654 [25:46<01:21,  2.47s/it]"
          ]
        },
        {
          "output_type": "stream",
          "name": "stdout",
          "text": [
            "  Batch 620/654, MoCo Loss: 3.7466, Cls Loss: 1.1889, Total Loss: 4.9355\n"
          ]
        },
        {
          "output_type": "stream",
          "name": "stderr",
          "text": [
            "Epoch 3/5:  96%|█████████▋| 631/654 [26:11<00:57,  2.48s/it]"
          ]
        },
        {
          "output_type": "stream",
          "name": "stdout",
          "text": [
            "  Batch 630/654, MoCo Loss: 3.6533, Cls Loss: 0.9767, Total Loss: 4.6301\n"
          ]
        },
        {
          "output_type": "stream",
          "name": "stderr",
          "text": [
            "Epoch 3/5:  98%|█████████▊| 641/654 [26:36<00:32,  2.47s/it]"
          ]
        },
        {
          "output_type": "stream",
          "name": "stdout",
          "text": [
            "  Batch 640/654, MoCo Loss: 4.5206, Cls Loss: 0.9549, Total Loss: 5.4756\n"
          ]
        },
        {
          "output_type": "stream",
          "name": "stderr",
          "text": [
            "Epoch 3/5: 100%|█████████▉| 651/654 [27:01<00:07,  2.48s/it]"
          ]
        },
        {
          "output_type": "stream",
          "name": "stdout",
          "text": [
            "  Batch 650/654, MoCo Loss: 3.8069, Cls Loss: 0.9162, Total Loss: 4.7231\n"
          ]
        },
        {
          "output_type": "stream",
          "name": "stderr",
          "text": [
            "Epoch 3/5: 100%|██████████| 654/654 [27:06<00:00,  2.49s/it]\n"
          ]
        },
        {
          "output_type": "stream",
          "name": "stdout",
          "text": [
            "Epoch 3/5, Train Loss: 5.1707, Val Loss: 0.8370, Val Accuracy: 71.27%\n"
          ]
        },
        {
          "output_type": "stream",
          "name": "stderr",
          "text": [
            "Epoch 4/5:   0%|          | 1/654 [00:02<26:56,  2.47s/it]"
          ]
        },
        {
          "output_type": "stream",
          "name": "stdout",
          "text": [
            "  Batch 0/654, MoCo Loss: 3.9352, Cls Loss: 1.0068, Total Loss: 4.9420\n"
          ]
        },
        {
          "output_type": "stream",
          "name": "stderr",
          "text": [
            "Epoch 4/5:   2%|▏         | 11/654 [00:27<26:47,  2.50s/it]"
          ]
        },
        {
          "output_type": "stream",
          "name": "stdout",
          "text": [
            "  Batch 10/654, MoCo Loss: 4.6654, Cls Loss: 1.2269, Total Loss: 5.8923\n"
          ]
        },
        {
          "output_type": "stream",
          "name": "stderr",
          "text": [
            "Epoch 4/5:   3%|▎         | 21/654 [00:52<26:08,  2.48s/it]"
          ]
        },
        {
          "output_type": "stream",
          "name": "stdout",
          "text": [
            "  Batch 20/654, MoCo Loss: 4.3728, Cls Loss: 0.8928, Total Loss: 5.2655\n"
          ]
        },
        {
          "output_type": "stream",
          "name": "stderr",
          "text": [
            "Epoch 4/5:   5%|▍         | 31/654 [01:16<25:47,  2.48s/it]"
          ]
        },
        {
          "output_type": "stream",
          "name": "stdout",
          "text": [
            "  Batch 30/654, MoCo Loss: 4.3002, Cls Loss: 1.1240, Total Loss: 5.4242\n"
          ]
        },
        {
          "output_type": "stream",
          "name": "stderr",
          "text": [
            "Epoch 4/5:   6%|▋         | 41/654 [01:41<25:36,  2.51s/it]"
          ]
        },
        {
          "output_type": "stream",
          "name": "stdout",
          "text": [
            "  Batch 40/654, MoCo Loss: 3.9644, Cls Loss: 0.9124, Total Loss: 4.8768\n"
          ]
        },
        {
          "output_type": "stream",
          "name": "stderr",
          "text": [
            "Epoch 4/5:   8%|▊         | 51/654 [02:06<24:59,  2.49s/it]"
          ]
        },
        {
          "output_type": "stream",
          "name": "stdout",
          "text": [
            "  Batch 50/654, MoCo Loss: 4.2520, Cls Loss: 1.1618, Total Loss: 5.4138\n"
          ]
        },
        {
          "output_type": "stream",
          "name": "stderr",
          "text": [
            "Epoch 4/5:   9%|▉         | 61/654 [02:31<24:30,  2.48s/it]"
          ]
        },
        {
          "output_type": "stream",
          "name": "stdout",
          "text": [
            "  Batch 60/654, MoCo Loss: 3.8998, Cls Loss: 1.0142, Total Loss: 4.9140\n"
          ]
        },
        {
          "output_type": "stream",
          "name": "stderr",
          "text": [
            "Epoch 4/5:  11%|█         | 71/654 [02:56<24:12,  2.49s/it]"
          ]
        },
        {
          "output_type": "stream",
          "name": "stdout",
          "text": [
            "  Batch 70/654, MoCo Loss: 4.1964, Cls Loss: 1.3434, Total Loss: 5.5398\n"
          ]
        },
        {
          "output_type": "stream",
          "name": "stderr",
          "text": [
            "Epoch 4/5:  12%|█▏        | 81/654 [03:21<23:52,  2.50s/it]"
          ]
        },
        {
          "output_type": "stream",
          "name": "stdout",
          "text": [
            "  Batch 80/654, MoCo Loss: 3.7062, Cls Loss: 1.1773, Total Loss: 4.8836\n"
          ]
        },
        {
          "output_type": "stream",
          "name": "stderr",
          "text": [
            "Epoch 4/5:  14%|█▍        | 91/654 [03:46<23:25,  2.50s/it]"
          ]
        },
        {
          "output_type": "stream",
          "name": "stdout",
          "text": [
            "  Batch 90/654, MoCo Loss: 3.6551, Cls Loss: 0.9221, Total Loss: 4.5771\n"
          ]
        },
        {
          "output_type": "stream",
          "name": "stderr",
          "text": [
            "Epoch 4/5:  15%|█▌        | 101/654 [04:11<22:43,  2.47s/it]"
          ]
        },
        {
          "output_type": "stream",
          "name": "stdout",
          "text": [
            "  Batch 100/654, MoCo Loss: 3.6954, Cls Loss: 0.8363, Total Loss: 4.5317\n"
          ]
        },
        {
          "output_type": "stream",
          "name": "stderr",
          "text": [
            "Epoch 4/5:  17%|█▋        | 111/654 [04:35<22:23,  2.47s/it]"
          ]
        },
        {
          "output_type": "stream",
          "name": "stdout",
          "text": [
            "  Batch 110/654, MoCo Loss: 3.8156, Cls Loss: 0.8526, Total Loss: 4.6682\n"
          ]
        },
        {
          "output_type": "stream",
          "name": "stderr",
          "text": [
            "Epoch 4/5:  19%|█▊        | 121/654 [05:00<21:58,  2.47s/it]"
          ]
        },
        {
          "output_type": "stream",
          "name": "stdout",
          "text": [
            "  Batch 120/654, MoCo Loss: 3.3507, Cls Loss: 0.8444, Total Loss: 4.1951\n"
          ]
        },
        {
          "output_type": "stream",
          "name": "stderr",
          "text": [
            "Epoch 4/5:  20%|██        | 131/654 [05:25<21:38,  2.48s/it]"
          ]
        },
        {
          "output_type": "stream",
          "name": "stdout",
          "text": [
            "  Batch 130/654, MoCo Loss: 3.5795, Cls Loss: 1.0696, Total Loss: 4.6491\n"
          ]
        },
        {
          "output_type": "stream",
          "name": "stderr",
          "text": [
            "Epoch 4/5:  22%|██▏       | 141/654 [05:50<21:01,  2.46s/it]"
          ]
        },
        {
          "output_type": "stream",
          "name": "stdout",
          "text": [
            "  Batch 140/654, MoCo Loss: 4.0488, Cls Loss: 1.1110, Total Loss: 5.1598\n"
          ]
        },
        {
          "output_type": "stream",
          "name": "stderr",
          "text": [
            "Epoch 4/5:  23%|██▎       | 151/654 [06:15<20:46,  2.48s/it]"
          ]
        },
        {
          "output_type": "stream",
          "name": "stdout",
          "text": [
            "  Batch 150/654, MoCo Loss: 3.6629, Cls Loss: 1.0605, Total Loss: 4.7234\n"
          ]
        },
        {
          "output_type": "stream",
          "name": "stderr",
          "text": [
            "Epoch 4/5:  25%|██▍       | 161/654 [06:39<20:18,  2.47s/it]"
          ]
        },
        {
          "output_type": "stream",
          "name": "stdout",
          "text": [
            "  Batch 160/654, MoCo Loss: 3.6349, Cls Loss: 1.0550, Total Loss: 4.6899\n"
          ]
        },
        {
          "output_type": "stream",
          "name": "stderr",
          "text": [
            "Epoch 4/5:  26%|██▌       | 171/654 [07:04<19:56,  2.48s/it]"
          ]
        },
        {
          "output_type": "stream",
          "name": "stdout",
          "text": [
            "  Batch 170/654, MoCo Loss: 3.7691, Cls Loss: 1.0272, Total Loss: 4.7963\n"
          ]
        },
        {
          "output_type": "stream",
          "name": "stderr",
          "text": [
            "Epoch 4/5:  28%|██▊       | 181/654 [07:29<19:31,  2.48s/it]"
          ]
        },
        {
          "output_type": "stream",
          "name": "stdout",
          "text": [
            "  Batch 180/654, MoCo Loss: 4.0845, Cls Loss: 1.0791, Total Loss: 5.1637\n"
          ]
        },
        {
          "output_type": "stream",
          "name": "stderr",
          "text": [
            "Epoch 4/5:  29%|██▉       | 191/654 [07:54<19:12,  2.49s/it]"
          ]
        },
        {
          "output_type": "stream",
          "name": "stdout",
          "text": [
            "  Batch 190/654, MoCo Loss: 3.4626, Cls Loss: 0.9614, Total Loss: 4.4240\n"
          ]
        },
        {
          "output_type": "stream",
          "name": "stderr",
          "text": [
            "Epoch 4/5:  31%|███       | 201/654 [08:19<18:46,  2.49s/it]"
          ]
        },
        {
          "output_type": "stream",
          "name": "stdout",
          "text": [
            "  Batch 200/654, MoCo Loss: 3.9643, Cls Loss: 0.8317, Total Loss: 4.7960\n"
          ]
        },
        {
          "output_type": "stream",
          "name": "stderr",
          "text": [
            "Epoch 4/5:  32%|███▏      | 211/654 [08:44<18:25,  2.50s/it]"
          ]
        },
        {
          "output_type": "stream",
          "name": "stdout",
          "text": [
            "  Batch 210/654, MoCo Loss: 4.0410, Cls Loss: 0.9508, Total Loss: 4.9918\n"
          ]
        },
        {
          "output_type": "stream",
          "name": "stderr",
          "text": [
            "Epoch 4/5:  34%|███▍      | 221/654 [09:09<18:05,  2.51s/it]"
          ]
        },
        {
          "output_type": "stream",
          "name": "stdout",
          "text": [
            "  Batch 220/654, MoCo Loss: 3.8611, Cls Loss: 1.1104, Total Loss: 4.9715\n"
          ]
        },
        {
          "output_type": "stream",
          "name": "stderr",
          "text": [
            "Epoch 4/5:  35%|███▌      | 231/654 [09:34<17:30,  2.48s/it]"
          ]
        },
        {
          "output_type": "stream",
          "name": "stdout",
          "text": [
            "  Batch 230/654, MoCo Loss: 3.5736, Cls Loss: 0.7936, Total Loss: 4.3671\n"
          ]
        },
        {
          "output_type": "stream",
          "name": "stderr",
          "text": [
            "Epoch 4/5:  37%|███▋      | 241/654 [09:59<17:06,  2.49s/it]"
          ]
        },
        {
          "output_type": "stream",
          "name": "stdout",
          "text": [
            "  Batch 240/654, MoCo Loss: 3.8274, Cls Loss: 0.9455, Total Loss: 4.7729\n"
          ]
        },
        {
          "output_type": "stream",
          "name": "stderr",
          "text": [
            "Epoch 4/5:  38%|███▊      | 251/654 [10:23<16:48,  2.50s/it]"
          ]
        },
        {
          "output_type": "stream",
          "name": "stdout",
          "text": [
            "  Batch 250/654, MoCo Loss: 3.8968, Cls Loss: 1.1953, Total Loss: 5.0921\n"
          ]
        },
        {
          "output_type": "stream",
          "name": "stderr",
          "text": [
            "Epoch 4/5:  40%|███▉      | 261/654 [10:48<16:12,  2.48s/it]"
          ]
        },
        {
          "output_type": "stream",
          "name": "stdout",
          "text": [
            "  Batch 260/654, MoCo Loss: 3.8583, Cls Loss: 1.0674, Total Loss: 4.9256\n"
          ]
        },
        {
          "output_type": "stream",
          "name": "stderr",
          "text": [
            "Epoch 4/5:  41%|████▏     | 271/654 [11:13<15:55,  2.49s/it]"
          ]
        },
        {
          "output_type": "stream",
          "name": "stdout",
          "text": [
            "  Batch 270/654, MoCo Loss: 4.1674, Cls Loss: 1.0036, Total Loss: 5.1710\n"
          ]
        },
        {
          "output_type": "stream",
          "name": "stderr",
          "text": [
            "Epoch 4/5:  43%|████▎     | 281/654 [11:38<15:25,  2.48s/it]"
          ]
        },
        {
          "output_type": "stream",
          "name": "stdout",
          "text": [
            "  Batch 280/654, MoCo Loss: 3.6718, Cls Loss: 1.1058, Total Loss: 4.7777\n"
          ]
        },
        {
          "output_type": "stream",
          "name": "stderr",
          "text": [
            "Epoch 4/5:  44%|████▍     | 291/654 [12:03<15:07,  2.50s/it]"
          ]
        },
        {
          "output_type": "stream",
          "name": "stdout",
          "text": [
            "  Batch 290/654, MoCo Loss: 3.8353, Cls Loss: 1.1133, Total Loss: 4.9485\n"
          ]
        },
        {
          "output_type": "stream",
          "name": "stderr",
          "text": [
            "Epoch 4/5:  46%|████▌     | 301/654 [12:28<14:42,  2.50s/it]"
          ]
        },
        {
          "output_type": "stream",
          "name": "stdout",
          "text": [
            "  Batch 300/654, MoCo Loss: 3.9385, Cls Loss: 1.0297, Total Loss: 4.9683\n"
          ]
        },
        {
          "output_type": "stream",
          "name": "stderr",
          "text": [
            "Epoch 4/5:  48%|████▊     | 311/654 [12:53<13:59,  2.45s/it]"
          ]
        },
        {
          "output_type": "stream",
          "name": "stdout",
          "text": [
            "  Batch 310/654, MoCo Loss: 3.9304, Cls Loss: 0.8056, Total Loss: 4.7360\n"
          ]
        },
        {
          "output_type": "stream",
          "name": "stderr",
          "text": [
            "Epoch 4/5:  49%|████▉     | 321/654 [13:18<13:37,  2.45s/it]"
          ]
        },
        {
          "output_type": "stream",
          "name": "stdout",
          "text": [
            "  Batch 320/654, MoCo Loss: 3.1632, Cls Loss: 0.7726, Total Loss: 3.9358\n"
          ]
        },
        {
          "output_type": "stream",
          "name": "stderr",
          "text": [
            "Epoch 4/5:  51%|█████     | 331/654 [13:42<13:16,  2.46s/it]"
          ]
        },
        {
          "output_type": "stream",
          "name": "stdout",
          "text": [
            "  Batch 330/654, MoCo Loss: 3.7570, Cls Loss: 1.0014, Total Loss: 4.7584\n"
          ]
        },
        {
          "output_type": "stream",
          "name": "stderr",
          "text": [
            "Epoch 4/5:  52%|█████▏    | 341/654 [14:07<12:46,  2.45s/it]"
          ]
        },
        {
          "output_type": "stream",
          "name": "stdout",
          "text": [
            "  Batch 340/654, MoCo Loss: 4.0196, Cls Loss: 1.2461, Total Loss: 5.2657\n"
          ]
        },
        {
          "output_type": "stream",
          "name": "stderr",
          "text": [
            "Epoch 4/5:  54%|█████▎    | 351/654 [14:32<12:33,  2.49s/it]"
          ]
        },
        {
          "output_type": "stream",
          "name": "stdout",
          "text": [
            "  Batch 350/654, MoCo Loss: 4.0008, Cls Loss: 1.1873, Total Loss: 5.1880\n"
          ]
        },
        {
          "output_type": "stream",
          "name": "stderr",
          "text": [
            "Epoch 4/5:  55%|█████▌    | 361/654 [14:57<12:01,  2.46s/it]"
          ]
        },
        {
          "output_type": "stream",
          "name": "stdout",
          "text": [
            "  Batch 360/654, MoCo Loss: 3.4225, Cls Loss: 0.9185, Total Loss: 4.3409\n"
          ]
        },
        {
          "output_type": "stream",
          "name": "stderr",
          "text": [
            "Epoch 4/5:  57%|█████▋    | 371/654 [15:21<11:37,  2.46s/it]"
          ]
        },
        {
          "output_type": "stream",
          "name": "stdout",
          "text": [
            "  Batch 370/654, MoCo Loss: 3.4329, Cls Loss: 0.9060, Total Loss: 4.3389\n"
          ]
        },
        {
          "output_type": "stream",
          "name": "stderr",
          "text": [
            "Epoch 4/5:  58%|█████▊    | 381/654 [15:46<11:19,  2.49s/it]"
          ]
        },
        {
          "output_type": "stream",
          "name": "stdout",
          "text": [
            "  Batch 380/654, MoCo Loss: 3.5323, Cls Loss: 1.0028, Total Loss: 4.5351\n"
          ]
        },
        {
          "output_type": "stream",
          "name": "stderr",
          "text": [
            "Epoch 4/5:  60%|█████▉    | 391/654 [16:11<10:57,  2.50s/it]"
          ]
        },
        {
          "output_type": "stream",
          "name": "stdout",
          "text": [
            "  Batch 390/654, MoCo Loss: 3.6910, Cls Loss: 0.9393, Total Loss: 4.6303\n"
          ]
        },
        {
          "output_type": "stream",
          "name": "stderr",
          "text": [
            "Epoch 4/5:  61%|██████▏   | 401/654 [16:36<10:36,  2.51s/it]"
          ]
        },
        {
          "output_type": "stream",
          "name": "stdout",
          "text": [
            "  Batch 400/654, MoCo Loss: 4.4003, Cls Loss: 1.0782, Total Loss: 5.4785\n"
          ]
        },
        {
          "output_type": "stream",
          "name": "stderr",
          "text": [
            "Epoch 4/5:  63%|██████▎   | 411/654 [17:01<10:06,  2.50s/it]"
          ]
        },
        {
          "output_type": "stream",
          "name": "stdout",
          "text": [
            "  Batch 410/654, MoCo Loss: 4.0055, Cls Loss: 1.0106, Total Loss: 5.0161\n"
          ]
        },
        {
          "output_type": "stream",
          "name": "stderr",
          "text": [
            "Epoch 4/5:  64%|██████▍   | 421/654 [17:26<09:37,  2.48s/it]"
          ]
        },
        {
          "output_type": "stream",
          "name": "stdout",
          "text": [
            "  Batch 420/654, MoCo Loss: 4.0263, Cls Loss: 0.9360, Total Loss: 4.9623\n"
          ]
        },
        {
          "output_type": "stream",
          "name": "stderr",
          "text": [
            "Epoch 4/5:  66%|██████▌   | 431/654 [17:51<09:21,  2.52s/it]"
          ]
        },
        {
          "output_type": "stream",
          "name": "stdout",
          "text": [
            "  Batch 430/654, MoCo Loss: 3.3862, Cls Loss: 1.1456, Total Loss: 4.5318\n"
          ]
        },
        {
          "output_type": "stream",
          "name": "stderr",
          "text": [
            "Epoch 4/5:  67%|██████▋   | 441/654 [18:16<08:52,  2.50s/it]"
          ]
        },
        {
          "output_type": "stream",
          "name": "stdout",
          "text": [
            "  Batch 440/654, MoCo Loss: 3.8460, Cls Loss: 1.0467, Total Loss: 4.8928\n"
          ]
        },
        {
          "output_type": "stream",
          "name": "stderr",
          "text": [
            "Epoch 4/5:  69%|██████▉   | 451/654 [18:41<08:25,  2.49s/it]"
          ]
        },
        {
          "output_type": "stream",
          "name": "stdout",
          "text": [
            "  Batch 450/654, MoCo Loss: 3.7496, Cls Loss: 0.9366, Total Loss: 4.6862\n"
          ]
        },
        {
          "output_type": "stream",
          "name": "stderr",
          "text": [
            "Epoch 4/5:  70%|███████   | 461/654 [19:06<07:59,  2.49s/it]"
          ]
        },
        {
          "output_type": "stream",
          "name": "stdout",
          "text": [
            "  Batch 460/654, MoCo Loss: 3.5668, Cls Loss: 0.8070, Total Loss: 4.3738\n"
          ]
        },
        {
          "output_type": "stream",
          "name": "stderr",
          "text": [
            "Epoch 4/5:  72%|███████▏  | 471/654 [19:30<07:39,  2.51s/it]"
          ]
        },
        {
          "output_type": "stream",
          "name": "stdout",
          "text": [
            "  Batch 470/654, MoCo Loss: 3.4902, Cls Loss: 1.1871, Total Loss: 4.6773\n"
          ]
        },
        {
          "output_type": "stream",
          "name": "stderr",
          "text": [
            "Epoch 4/5:  74%|███████▎  | 481/654 [19:55<07:07,  2.47s/it]"
          ]
        },
        {
          "output_type": "stream",
          "name": "stdout",
          "text": [
            "  Batch 480/654, MoCo Loss: 3.5444, Cls Loss: 1.1602, Total Loss: 4.7046\n"
          ]
        },
        {
          "output_type": "stream",
          "name": "stderr",
          "text": [
            "Epoch 4/5:  75%|███████▌  | 491/654 [20:20<06:45,  2.49s/it]"
          ]
        },
        {
          "output_type": "stream",
          "name": "stdout",
          "text": [
            "  Batch 490/654, MoCo Loss: 3.9184, Cls Loss: 0.7737, Total Loss: 4.6922\n"
          ]
        },
        {
          "output_type": "stream",
          "name": "stderr",
          "text": [
            "Epoch 4/5:  77%|███████▋  | 501/654 [20:45<06:22,  2.50s/it]"
          ]
        },
        {
          "output_type": "stream",
          "name": "stdout",
          "text": [
            "  Batch 500/654, MoCo Loss: 4.2343, Cls Loss: 0.9570, Total Loss: 5.1913\n"
          ]
        },
        {
          "output_type": "stream",
          "name": "stderr",
          "text": [
            "Epoch 4/5:  78%|███████▊  | 511/654 [21:10<05:54,  2.48s/it]"
          ]
        },
        {
          "output_type": "stream",
          "name": "stdout",
          "text": [
            "  Batch 510/654, MoCo Loss: 3.7503, Cls Loss: 0.7753, Total Loss: 4.5257\n"
          ]
        },
        {
          "output_type": "stream",
          "name": "stderr",
          "text": [
            "Epoch 4/5:  80%|███████▉  | 521/654 [21:35<05:29,  2.48s/it]"
          ]
        },
        {
          "output_type": "stream",
          "name": "stdout",
          "text": [
            "  Batch 520/654, MoCo Loss: 3.0939, Cls Loss: 0.9309, Total Loss: 4.0248\n"
          ]
        },
        {
          "output_type": "stream",
          "name": "stderr",
          "text": [
            "Epoch 4/5:  81%|████████  | 531/654 [21:59<05:05,  2.48s/it]"
          ]
        },
        {
          "output_type": "stream",
          "name": "stdout",
          "text": [
            "  Batch 530/654, MoCo Loss: 4.0625, Cls Loss: 0.9954, Total Loss: 5.0579\n"
          ]
        },
        {
          "output_type": "stream",
          "name": "stderr",
          "text": [
            "Epoch 4/5:  83%|████████▎ | 541/654 [22:24<04:37,  2.46s/it]"
          ]
        },
        {
          "output_type": "stream",
          "name": "stdout",
          "text": [
            "  Batch 540/654, MoCo Loss: 3.0029, Cls Loss: 1.1472, Total Loss: 4.1501\n"
          ]
        },
        {
          "output_type": "stream",
          "name": "stderr",
          "text": [
            "Epoch 4/5:  84%|████████▍ | 551/654 [22:49<04:16,  2.49s/it]"
          ]
        },
        {
          "output_type": "stream",
          "name": "stdout",
          "text": [
            "  Batch 550/654, MoCo Loss: 3.2900, Cls Loss: 0.8045, Total Loss: 4.0945\n"
          ]
        },
        {
          "output_type": "stream",
          "name": "stderr",
          "text": [
            "Epoch 4/5:  86%|████████▌ | 561/654 [23:14<03:52,  2.50s/it]"
          ]
        },
        {
          "output_type": "stream",
          "name": "stdout",
          "text": [
            "  Batch 560/654, MoCo Loss: 4.0437, Cls Loss: 1.0177, Total Loss: 5.0615\n"
          ]
        },
        {
          "output_type": "stream",
          "name": "stderr",
          "text": [
            "Epoch 4/5:  87%|████████▋ | 571/654 [23:39<03:25,  2.47s/it]"
          ]
        },
        {
          "output_type": "stream",
          "name": "stdout",
          "text": [
            "  Batch 570/654, MoCo Loss: 3.6552, Cls Loss: 1.2071, Total Loss: 4.8623\n"
          ]
        },
        {
          "output_type": "stream",
          "name": "stderr",
          "text": [
            "Epoch 4/5:  89%|████████▉ | 581/654 [24:04<03:01,  2.48s/it]"
          ]
        },
        {
          "output_type": "stream",
          "name": "stdout",
          "text": [
            "  Batch 580/654, MoCo Loss: 3.3369, Cls Loss: 0.9856, Total Loss: 4.3224\n"
          ]
        },
        {
          "output_type": "stream",
          "name": "stderr",
          "text": [
            "Epoch 4/5:  90%|█████████ | 591/654 [24:29<02:36,  2.48s/it]"
          ]
        },
        {
          "output_type": "stream",
          "name": "stdout",
          "text": [
            "  Batch 590/654, MoCo Loss: 4.0457, Cls Loss: 1.0329, Total Loss: 5.0786\n"
          ]
        },
        {
          "output_type": "stream",
          "name": "stderr",
          "text": [
            "Epoch 4/5:  92%|█████████▏| 601/654 [24:54<02:11,  2.49s/it]"
          ]
        },
        {
          "output_type": "stream",
          "name": "stdout",
          "text": [
            "  Batch 600/654, MoCo Loss: 3.3386, Cls Loss: 1.1583, Total Loss: 4.4969\n"
          ]
        },
        {
          "output_type": "stream",
          "name": "stderr",
          "text": [
            "Epoch 4/5:  93%|█████████▎| 611/654 [25:18<01:46,  2.48s/it]"
          ]
        },
        {
          "output_type": "stream",
          "name": "stdout",
          "text": [
            "  Batch 610/654, MoCo Loss: 3.7232, Cls Loss: 1.0194, Total Loss: 4.7426\n"
          ]
        },
        {
          "output_type": "stream",
          "name": "stderr",
          "text": [
            "Epoch 4/5:  95%|█████████▍| 621/654 [25:43<01:21,  2.48s/it]"
          ]
        },
        {
          "output_type": "stream",
          "name": "stdout",
          "text": [
            "  Batch 620/654, MoCo Loss: 3.0625, Cls Loss: 1.0387, Total Loss: 4.1013\n"
          ]
        },
        {
          "output_type": "stream",
          "name": "stderr",
          "text": [
            "Epoch 4/5:  96%|█████████▋| 631/654 [26:08<00:57,  2.50s/it]"
          ]
        },
        {
          "output_type": "stream",
          "name": "stdout",
          "text": [
            "  Batch 630/654, MoCo Loss: 3.5390, Cls Loss: 0.9925, Total Loss: 4.5315\n"
          ]
        },
        {
          "output_type": "stream",
          "name": "stderr",
          "text": [
            "Epoch 4/5:  98%|█████████▊| 641/654 [26:33<00:32,  2.51s/it]"
          ]
        },
        {
          "output_type": "stream",
          "name": "stdout",
          "text": [
            "  Batch 640/654, MoCo Loss: 3.2990, Cls Loss: 0.8842, Total Loss: 4.1832\n"
          ]
        },
        {
          "output_type": "stream",
          "name": "stderr",
          "text": [
            "Epoch 4/5: 100%|█████████▉| 651/654 [26:58<00:07,  2.52s/it]"
          ]
        },
        {
          "output_type": "stream",
          "name": "stdout",
          "text": [
            "  Batch 650/654, MoCo Loss: 3.5473, Cls Loss: 0.8401, Total Loss: 4.3874\n"
          ]
        },
        {
          "output_type": "stream",
          "name": "stderr",
          "text": [
            "Epoch 4/5: 100%|██████████| 654/654 [27:04<00:00,  2.48s/it]\n"
          ]
        },
        {
          "output_type": "stream",
          "name": "stdout",
          "text": [
            "Epoch 4/5, Train Loss: 4.6873, Val Loss: 0.8971, Val Accuracy: 70.18%\n"
          ]
        },
        {
          "output_type": "stream",
          "name": "stderr",
          "text": [
            "Epoch 5/5:   0%|          | 1/654 [00:02<26:57,  2.48s/it]"
          ]
        },
        {
          "output_type": "stream",
          "name": "stdout",
          "text": [
            "  Batch 0/654, MoCo Loss: 3.6816, Cls Loss: 1.0835, Total Loss: 4.7651\n"
          ]
        },
        {
          "output_type": "stream",
          "name": "stderr",
          "text": [
            "Epoch 5/5:   2%|▏         | 11/654 [00:27<26:37,  2.48s/it]"
          ]
        },
        {
          "output_type": "stream",
          "name": "stdout",
          "text": [
            "  Batch 10/654, MoCo Loss: 3.2764, Cls Loss: 0.8987, Total Loss: 4.1751\n"
          ]
        },
        {
          "output_type": "stream",
          "name": "stderr",
          "text": [
            "Epoch 5/5:   3%|▎         | 21/654 [00:52<26:19,  2.50s/it]"
          ]
        },
        {
          "output_type": "stream",
          "name": "stdout",
          "text": [
            "  Batch 20/654, MoCo Loss: 3.4894, Cls Loss: 1.0029, Total Loss: 4.4923\n"
          ]
        },
        {
          "output_type": "stream",
          "name": "stderr",
          "text": [
            "Epoch 5/5:   5%|▍         | 31/654 [01:17<25:51,  2.49s/it]"
          ]
        },
        {
          "output_type": "stream",
          "name": "stdout",
          "text": [
            "  Batch 30/654, MoCo Loss: 2.9167, Cls Loss: 1.0300, Total Loss: 3.9466\n"
          ]
        },
        {
          "output_type": "stream",
          "name": "stderr",
          "text": [
            "Epoch 5/5:   6%|▋         | 41/654 [01:41<25:13,  2.47s/it]"
          ]
        },
        {
          "output_type": "stream",
          "name": "stdout",
          "text": [
            "  Batch 40/654, MoCo Loss: 3.4410, Cls Loss: 0.7604, Total Loss: 4.2014\n"
          ]
        },
        {
          "output_type": "stream",
          "name": "stderr",
          "text": [
            "Epoch 5/5:   8%|▊         | 51/654 [02:06<24:52,  2.48s/it]"
          ]
        },
        {
          "output_type": "stream",
          "name": "stdout",
          "text": [
            "  Batch 50/654, MoCo Loss: 3.3721, Cls Loss: 1.1630, Total Loss: 4.5351\n"
          ]
        },
        {
          "output_type": "stream",
          "name": "stderr",
          "text": [
            "Epoch 5/5:   9%|▉         | 61/654 [02:31<24:37,  2.49s/it]"
          ]
        },
        {
          "output_type": "stream",
          "name": "stdout",
          "text": [
            "  Batch 60/654, MoCo Loss: 3.6470, Cls Loss: 1.0632, Total Loss: 4.7101\n"
          ]
        },
        {
          "output_type": "stream",
          "name": "stderr",
          "text": [
            "Epoch 5/5:  11%|█         | 71/654 [02:56<24:05,  2.48s/it]"
          ]
        },
        {
          "output_type": "stream",
          "name": "stdout",
          "text": [
            "  Batch 70/654, MoCo Loss: 4.0105, Cls Loss: 0.9635, Total Loss: 4.9740\n"
          ]
        },
        {
          "output_type": "stream",
          "name": "stderr",
          "text": [
            "Epoch 5/5:  12%|█▏        | 81/654 [03:21<23:54,  2.50s/it]"
          ]
        },
        {
          "output_type": "stream",
          "name": "stdout",
          "text": [
            "  Batch 80/654, MoCo Loss: 4.6949, Cls Loss: 1.0451, Total Loss: 5.7400\n"
          ]
        },
        {
          "output_type": "stream",
          "name": "stderr",
          "text": [
            "Epoch 5/5:  14%|█▍        | 91/654 [03:46<23:30,  2.50s/it]"
          ]
        },
        {
          "output_type": "stream",
          "name": "stdout",
          "text": [
            "  Batch 90/654, MoCo Loss: 2.9480, Cls Loss: 1.0399, Total Loss: 3.9879\n"
          ]
        },
        {
          "output_type": "stream",
          "name": "stderr",
          "text": [
            "Epoch 5/5:  15%|█▌        | 101/654 [04:11<22:52,  2.48s/it]"
          ]
        },
        {
          "output_type": "stream",
          "name": "stdout",
          "text": [
            "  Batch 100/654, MoCo Loss: 2.7954, Cls Loss: 0.7889, Total Loss: 3.5843\n"
          ]
        },
        {
          "output_type": "stream",
          "name": "stderr",
          "text": [
            "Epoch 5/5:  17%|█▋        | 111/654 [04:36<22:31,  2.49s/it]"
          ]
        },
        {
          "output_type": "stream",
          "name": "stdout",
          "text": [
            "  Batch 110/654, MoCo Loss: 3.3824, Cls Loss: 0.8688, Total Loss: 4.2511\n"
          ]
        },
        {
          "output_type": "stream",
          "name": "stderr",
          "text": [
            "Epoch 5/5:  19%|█▊        | 121/654 [05:00<21:57,  2.47s/it]"
          ]
        },
        {
          "output_type": "stream",
          "name": "stdout",
          "text": [
            "  Batch 120/654, MoCo Loss: 3.2677, Cls Loss: 0.8642, Total Loss: 4.1319\n"
          ]
        },
        {
          "output_type": "stream",
          "name": "stderr",
          "text": [
            "Epoch 5/5:  20%|██        | 131/654 [05:25<21:35,  2.48s/it]"
          ]
        },
        {
          "output_type": "stream",
          "name": "stdout",
          "text": [
            "  Batch 130/654, MoCo Loss: 3.2943, Cls Loss: 0.9358, Total Loss: 4.2301\n"
          ]
        },
        {
          "output_type": "stream",
          "name": "stderr",
          "text": [
            "Epoch 5/5:  22%|██▏       | 141/654 [05:50<21:12,  2.48s/it]"
          ]
        },
        {
          "output_type": "stream",
          "name": "stdout",
          "text": [
            "  Batch 140/654, MoCo Loss: 3.0196, Cls Loss: 0.8454, Total Loss: 3.8649\n"
          ]
        },
        {
          "output_type": "stream",
          "name": "stderr",
          "text": [
            "Epoch 5/5:  23%|██▎       | 151/654 [06:15<21:01,  2.51s/it]"
          ]
        },
        {
          "output_type": "stream",
          "name": "stdout",
          "text": [
            "  Batch 150/654, MoCo Loss: 3.7078, Cls Loss: 1.1053, Total Loss: 4.8132\n"
          ]
        },
        {
          "output_type": "stream",
          "name": "stderr",
          "text": [
            "Epoch 5/5:  25%|██▍       | 161/654 [06:40<20:29,  2.49s/it]"
          ]
        },
        {
          "output_type": "stream",
          "name": "stdout",
          "text": [
            "  Batch 160/654, MoCo Loss: 3.7925, Cls Loss: 1.0358, Total Loss: 4.8284\n"
          ]
        },
        {
          "output_type": "stream",
          "name": "stderr",
          "text": [
            "Epoch 5/5:  26%|██▌       | 171/654 [07:05<20:09,  2.51s/it]"
          ]
        },
        {
          "output_type": "stream",
          "name": "stdout",
          "text": [
            "  Batch 170/654, MoCo Loss: 3.3755, Cls Loss: 1.1399, Total Loss: 4.5154\n"
          ]
        },
        {
          "output_type": "stream",
          "name": "stderr",
          "text": [
            "Epoch 5/5:  28%|██▊       | 181/654 [07:30<19:44,  2.50s/it]"
          ]
        },
        {
          "output_type": "stream",
          "name": "stdout",
          "text": [
            "  Batch 180/654, MoCo Loss: 3.0334, Cls Loss: 1.0822, Total Loss: 4.1155\n"
          ]
        },
        {
          "output_type": "stream",
          "name": "stderr",
          "text": [
            "Epoch 5/5:  29%|██▉       | 191/654 [07:55<19:14,  2.49s/it]"
          ]
        },
        {
          "output_type": "stream",
          "name": "stdout",
          "text": [
            "  Batch 190/654, MoCo Loss: 3.8695, Cls Loss: 0.8585, Total Loss: 4.7280\n"
          ]
        },
        {
          "output_type": "stream",
          "name": "stderr",
          "text": [
            "Epoch 5/5:  31%|███       | 201/654 [08:20<18:39,  2.47s/it]"
          ]
        },
        {
          "output_type": "stream",
          "name": "stdout",
          "text": [
            "  Batch 200/654, MoCo Loss: 3.4427, Cls Loss: 0.8405, Total Loss: 4.2831\n"
          ]
        },
        {
          "output_type": "stream",
          "name": "stderr",
          "text": [
            "Epoch 5/5:  32%|███▏      | 211/654 [08:44<18:17,  2.48s/it]"
          ]
        },
        {
          "output_type": "stream",
          "name": "stdout",
          "text": [
            "  Batch 210/654, MoCo Loss: 3.3870, Cls Loss: 1.0542, Total Loss: 4.4412\n"
          ]
        },
        {
          "output_type": "stream",
          "name": "stderr",
          "text": [
            "Epoch 5/5:  34%|███▍      | 221/654 [09:09<17:48,  2.47s/it]"
          ]
        },
        {
          "output_type": "stream",
          "name": "stdout",
          "text": [
            "  Batch 220/654, MoCo Loss: 3.0402, Cls Loss: 0.8594, Total Loss: 3.8996\n"
          ]
        },
        {
          "output_type": "stream",
          "name": "stderr",
          "text": [
            "Epoch 5/5:  35%|███▌      | 231/654 [09:34<17:35,  2.49s/it]"
          ]
        },
        {
          "output_type": "stream",
          "name": "stdout",
          "text": [
            "  Batch 230/654, MoCo Loss: 2.8388, Cls Loss: 0.6860, Total Loss: 3.5247\n"
          ]
        },
        {
          "output_type": "stream",
          "name": "stderr",
          "text": [
            "Epoch 5/5:  37%|███▋      | 241/654 [09:59<17:11,  2.50s/it]"
          ]
        },
        {
          "output_type": "stream",
          "name": "stdout",
          "text": [
            "  Batch 240/654, MoCo Loss: 2.9152, Cls Loss: 0.9340, Total Loss: 3.8493\n"
          ]
        },
        {
          "output_type": "stream",
          "name": "stderr",
          "text": [
            "Epoch 5/5:  38%|███▊      | 251/654 [10:24<16:35,  2.47s/it]"
          ]
        },
        {
          "output_type": "stream",
          "name": "stdout",
          "text": [
            "  Batch 250/654, MoCo Loss: 3.0296, Cls Loss: 0.8050, Total Loss: 3.8346\n"
          ]
        },
        {
          "output_type": "stream",
          "name": "stderr",
          "text": [
            "Epoch 5/5:  40%|███▉      | 261/654 [10:49<16:14,  2.48s/it]"
          ]
        },
        {
          "output_type": "stream",
          "name": "stdout",
          "text": [
            "  Batch 260/654, MoCo Loss: 3.1934, Cls Loss: 1.0515, Total Loss: 4.2448\n"
          ]
        },
        {
          "output_type": "stream",
          "name": "stderr",
          "text": [
            "Epoch 5/5:  41%|████▏     | 271/654 [11:14<15:54,  2.49s/it]"
          ]
        },
        {
          "output_type": "stream",
          "name": "stdout",
          "text": [
            "  Batch 270/654, MoCo Loss: 3.5481, Cls Loss: 0.9093, Total Loss: 4.4574\n"
          ]
        },
        {
          "output_type": "stream",
          "name": "stderr",
          "text": [
            "Epoch 5/5:  43%|████▎     | 281/654 [11:39<15:30,  2.49s/it]"
          ]
        },
        {
          "output_type": "stream",
          "name": "stdout",
          "text": [
            "  Batch 280/654, MoCo Loss: 2.9583, Cls Loss: 1.0995, Total Loss: 4.0577\n"
          ]
        },
        {
          "output_type": "stream",
          "name": "stderr",
          "text": [
            "Epoch 5/5:  44%|████▍     | 291/654 [12:03<14:59,  2.48s/it]"
          ]
        },
        {
          "output_type": "stream",
          "name": "stdout",
          "text": [
            "  Batch 290/654, MoCo Loss: 3.0140, Cls Loss: 0.8258, Total Loss: 3.8398\n"
          ]
        },
        {
          "output_type": "stream",
          "name": "stderr",
          "text": [
            "Epoch 5/5:  46%|████▌     | 301/654 [12:28<14:35,  2.48s/it]"
          ]
        },
        {
          "output_type": "stream",
          "name": "stdout",
          "text": [
            "  Batch 300/654, MoCo Loss: 3.8719, Cls Loss: 0.7924, Total Loss: 4.6643\n"
          ]
        },
        {
          "output_type": "stream",
          "name": "stderr",
          "text": [
            "Epoch 5/5:  48%|████▊     | 311/654 [12:53<14:15,  2.50s/it]"
          ]
        },
        {
          "output_type": "stream",
          "name": "stdout",
          "text": [
            "  Batch 310/654, MoCo Loss: 3.3743, Cls Loss: 1.0988, Total Loss: 4.4731\n"
          ]
        },
        {
          "output_type": "stream",
          "name": "stderr",
          "text": [
            "Epoch 5/5:  49%|████▉     | 321/654 [13:18<13:41,  2.47s/it]"
          ]
        },
        {
          "output_type": "stream",
          "name": "stdout",
          "text": [
            "  Batch 320/654, MoCo Loss: 3.0665, Cls Loss: 0.8551, Total Loss: 3.9216\n"
          ]
        },
        {
          "output_type": "stream",
          "name": "stderr",
          "text": [
            "Epoch 5/5:  51%|█████     | 331/654 [13:43<13:27,  2.50s/it]"
          ]
        },
        {
          "output_type": "stream",
          "name": "stdout",
          "text": [
            "  Batch 330/654, MoCo Loss: 3.1727, Cls Loss: 0.7257, Total Loss: 3.8984\n"
          ]
        },
        {
          "output_type": "stream",
          "name": "stderr",
          "text": [
            "Epoch 5/5:  52%|█████▏    | 341/654 [14:08<13:05,  2.51s/it]"
          ]
        },
        {
          "output_type": "stream",
          "name": "stdout",
          "text": [
            "  Batch 340/654, MoCo Loss: 3.5832, Cls Loss: 1.1101, Total Loss: 4.6932\n"
          ]
        },
        {
          "output_type": "stream",
          "name": "stderr",
          "text": [
            "Epoch 5/5:  54%|█████▎    | 351/654 [14:32<12:26,  2.46s/it]"
          ]
        },
        {
          "output_type": "stream",
          "name": "stdout",
          "text": [
            "  Batch 350/654, MoCo Loss: 3.4959, Cls Loss: 0.9268, Total Loss: 4.4227\n"
          ]
        },
        {
          "output_type": "stream",
          "name": "stderr",
          "text": [
            "Epoch 5/5:  55%|█████▌    | 361/654 [14:57<12:05,  2.48s/it]"
          ]
        },
        {
          "output_type": "stream",
          "name": "stdout",
          "text": [
            "  Batch 360/654, MoCo Loss: 3.5496, Cls Loss: 0.9324, Total Loss: 4.4820\n"
          ]
        },
        {
          "output_type": "stream",
          "name": "stderr",
          "text": [
            "Epoch 5/5:  57%|█████▋    | 371/654 [15:22<11:43,  2.49s/it]"
          ]
        },
        {
          "output_type": "stream",
          "name": "stdout",
          "text": [
            "  Batch 370/654, MoCo Loss: 3.3034, Cls Loss: 0.6968, Total Loss: 4.0002\n"
          ]
        },
        {
          "output_type": "stream",
          "name": "stderr",
          "text": [
            "Epoch 5/5:  58%|█████▊    | 381/654 [15:47<11:13,  2.47s/it]"
          ]
        },
        {
          "output_type": "stream",
          "name": "stdout",
          "text": [
            "  Batch 380/654, MoCo Loss: 3.2523, Cls Loss: 0.9091, Total Loss: 4.1614\n"
          ]
        },
        {
          "output_type": "stream",
          "name": "stderr",
          "text": [
            "Epoch 5/5:  60%|█████▉    | 391/654 [16:12<10:55,  2.49s/it]"
          ]
        },
        {
          "output_type": "stream",
          "name": "stdout",
          "text": [
            "  Batch 390/654, MoCo Loss: 3.1670, Cls Loss: 0.9183, Total Loss: 4.0853\n"
          ]
        },
        {
          "output_type": "stream",
          "name": "stderr",
          "text": [
            "Epoch 5/5:  61%|██████▏   | 401/654 [16:36<10:25,  2.47s/it]"
          ]
        },
        {
          "output_type": "stream",
          "name": "stdout",
          "text": [
            "  Batch 400/654, MoCo Loss: 2.8518, Cls Loss: 0.9862, Total Loss: 3.8380\n"
          ]
        },
        {
          "output_type": "stream",
          "name": "stderr",
          "text": [
            "Epoch 5/5:  63%|██████▎   | 411/654 [17:01<09:59,  2.47s/it]"
          ]
        },
        {
          "output_type": "stream",
          "name": "stdout",
          "text": [
            "  Batch 410/654, MoCo Loss: 4.1581, Cls Loss: 1.0148, Total Loss: 5.1729\n"
          ]
        },
        {
          "output_type": "stream",
          "name": "stderr",
          "text": [
            "Epoch 5/5:  64%|██████▍   | 421/654 [17:26<09:38,  2.48s/it]"
          ]
        },
        {
          "output_type": "stream",
          "name": "stdout",
          "text": [
            "  Batch 420/654, MoCo Loss: 3.1376, Cls Loss: 0.7377, Total Loss: 3.8754\n"
          ]
        },
        {
          "output_type": "stream",
          "name": "stderr",
          "text": [
            "Epoch 5/5:  66%|██████▌   | 431/654 [17:51<09:12,  2.48s/it]"
          ]
        },
        {
          "output_type": "stream",
          "name": "stdout",
          "text": [
            "  Batch 430/654, MoCo Loss: 3.4671, Cls Loss: 0.8621, Total Loss: 4.3291\n"
          ]
        },
        {
          "output_type": "stream",
          "name": "stderr",
          "text": [
            "Epoch 5/5:  67%|██████▋   | 441/654 [18:16<08:47,  2.48s/it]"
          ]
        },
        {
          "output_type": "stream",
          "name": "stdout",
          "text": [
            "  Batch 440/654, MoCo Loss: 3.3160, Cls Loss: 1.0218, Total Loss: 4.3379\n"
          ]
        },
        {
          "output_type": "stream",
          "name": "stderr",
          "text": [
            "Epoch 5/5:  69%|██████▉   | 451/654 [18:41<08:24,  2.49s/it]"
          ]
        },
        {
          "output_type": "stream",
          "name": "stdout",
          "text": [
            "  Batch 450/654, MoCo Loss: 3.4129, Cls Loss: 1.0757, Total Loss: 4.4886\n"
          ]
        },
        {
          "output_type": "stream",
          "name": "stderr",
          "text": [
            "Epoch 5/5:  70%|███████   | 461/654 [19:06<07:57,  2.48s/it]"
          ]
        },
        {
          "output_type": "stream",
          "name": "stdout",
          "text": [
            "  Batch 460/654, MoCo Loss: 3.3991, Cls Loss: 0.8861, Total Loss: 4.2852\n"
          ]
        },
        {
          "output_type": "stream",
          "name": "stderr",
          "text": [
            "Epoch 5/5:  72%|███████▏  | 471/654 [19:30<07:32,  2.47s/it]"
          ]
        },
        {
          "output_type": "stream",
          "name": "stdout",
          "text": [
            "  Batch 470/654, MoCo Loss: 3.8711, Cls Loss: 0.9919, Total Loss: 4.8630\n"
          ]
        },
        {
          "output_type": "stream",
          "name": "stderr",
          "text": [
            "Epoch 5/5:  74%|███████▎  | 481/654 [19:55<07:05,  2.46s/it]"
          ]
        },
        {
          "output_type": "stream",
          "name": "stdout",
          "text": [
            "  Batch 480/654, MoCo Loss: 2.9461, Cls Loss: 0.9384, Total Loss: 3.8845\n"
          ]
        },
        {
          "output_type": "stream",
          "name": "stderr",
          "text": [
            "Epoch 5/5:  75%|███████▌  | 491/654 [20:20<06:44,  2.48s/it]"
          ]
        },
        {
          "output_type": "stream",
          "name": "stdout",
          "text": [
            "  Batch 490/654, MoCo Loss: 3.2687, Cls Loss: 0.9311, Total Loss: 4.1998\n"
          ]
        },
        {
          "output_type": "stream",
          "name": "stderr",
          "text": [
            "Epoch 5/5:  77%|███████▋  | 501/654 [20:45<06:21,  2.49s/it]"
          ]
        },
        {
          "output_type": "stream",
          "name": "stdout",
          "text": [
            "  Batch 500/654, MoCo Loss: 3.9160, Cls Loss: 0.8281, Total Loss: 4.7441\n"
          ]
        },
        {
          "output_type": "stream",
          "name": "stderr",
          "text": [
            "Epoch 5/5:  78%|███████▊  | 511/654 [21:10<05:53,  2.47s/it]"
          ]
        },
        {
          "output_type": "stream",
          "name": "stdout",
          "text": [
            "  Batch 510/654, MoCo Loss: 4.6832, Cls Loss: 0.9991, Total Loss: 5.6823\n"
          ]
        },
        {
          "output_type": "stream",
          "name": "stderr",
          "text": [
            "Epoch 5/5:  80%|███████▉  | 521/654 [21:35<05:30,  2.49s/it]"
          ]
        },
        {
          "output_type": "stream",
          "name": "stdout",
          "text": [
            "  Batch 520/654, MoCo Loss: 4.1771, Cls Loss: 1.1474, Total Loss: 5.3246\n"
          ]
        },
        {
          "output_type": "stream",
          "name": "stderr",
          "text": [
            "Epoch 5/5:  81%|████████  | 531/654 [22:00<05:08,  2.51s/it]"
          ]
        },
        {
          "output_type": "stream",
          "name": "stdout",
          "text": [
            "  Batch 530/654, MoCo Loss: 3.3410, Cls Loss: 0.8682, Total Loss: 4.2091\n"
          ]
        },
        {
          "output_type": "stream",
          "name": "stderr",
          "text": [
            "Epoch 5/5:  83%|████████▎ | 541/654 [22:25<04:43,  2.51s/it]"
          ]
        },
        {
          "output_type": "stream",
          "name": "stdout",
          "text": [
            "  Batch 540/654, MoCo Loss: 3.4760, Cls Loss: 0.9959, Total Loss: 4.4720\n"
          ]
        },
        {
          "output_type": "stream",
          "name": "stderr",
          "text": [
            "Epoch 5/5:  84%|████████▍ | 551/654 [22:50<04:17,  2.50s/it]"
          ]
        },
        {
          "output_type": "stream",
          "name": "stdout",
          "text": [
            "  Batch 550/654, MoCo Loss: 3.9962, Cls Loss: 0.9944, Total Loss: 4.9907\n"
          ]
        },
        {
          "output_type": "stream",
          "name": "stderr",
          "text": [
            "Epoch 5/5:  86%|████████▌ | 561/654 [23:14<03:50,  2.48s/it]"
          ]
        },
        {
          "output_type": "stream",
          "name": "stdout",
          "text": [
            "  Batch 560/654, MoCo Loss: 3.4291, Cls Loss: 0.9494, Total Loss: 4.3785\n"
          ]
        },
        {
          "output_type": "stream",
          "name": "stderr",
          "text": [
            "Epoch 5/5:  87%|████████▋ | 571/654 [23:39<03:25,  2.47s/it]"
          ]
        },
        {
          "output_type": "stream",
          "name": "stdout",
          "text": [
            "  Batch 570/654, MoCo Loss: 2.9946, Cls Loss: 1.1450, Total Loss: 4.1395\n"
          ]
        },
        {
          "output_type": "stream",
          "name": "stderr",
          "text": [
            "Epoch 5/5:  89%|████████▉ | 581/654 [24:04<03:01,  2.48s/it]"
          ]
        },
        {
          "output_type": "stream",
          "name": "stdout",
          "text": [
            "  Batch 580/654, MoCo Loss: 3.4225, Cls Loss: 0.7423, Total Loss: 4.1649\n"
          ]
        },
        {
          "output_type": "stream",
          "name": "stderr",
          "text": [
            "Epoch 5/5:  90%|█████████ | 591/654 [24:29<02:36,  2.48s/it]"
          ]
        },
        {
          "output_type": "stream",
          "name": "stdout",
          "text": [
            "  Batch 590/654, MoCo Loss: 3.3800, Cls Loss: 1.0716, Total Loss: 4.4516\n"
          ]
        },
        {
          "output_type": "stream",
          "name": "stderr",
          "text": [
            "Epoch 5/5:  92%|█████████▏| 601/654 [24:54<02:12,  2.51s/it]"
          ]
        },
        {
          "output_type": "stream",
          "name": "stdout",
          "text": [
            "  Batch 600/654, MoCo Loss: 3.1391, Cls Loss: 0.9781, Total Loss: 4.1172\n"
          ]
        },
        {
          "output_type": "stream",
          "name": "stderr",
          "text": [
            "Epoch 5/5:  93%|█████████▎| 611/654 [25:19<01:46,  2.47s/it]"
          ]
        },
        {
          "output_type": "stream",
          "name": "stdout",
          "text": [
            "  Batch 610/654, MoCo Loss: 3.4218, Cls Loss: 0.8895, Total Loss: 4.3113\n"
          ]
        },
        {
          "output_type": "stream",
          "name": "stderr",
          "text": [
            "Epoch 5/5:  95%|█████████▍| 621/654 [25:44<01:22,  2.49s/it]"
          ]
        },
        {
          "output_type": "stream",
          "name": "stdout",
          "text": [
            "  Batch 620/654, MoCo Loss: 3.1643, Cls Loss: 1.0846, Total Loss: 4.2489\n"
          ]
        },
        {
          "output_type": "stream",
          "name": "stderr",
          "text": [
            "Epoch 5/5:  96%|█████████▋| 631/654 [26:08<00:57,  2.49s/it]"
          ]
        },
        {
          "output_type": "stream",
          "name": "stdout",
          "text": [
            "  Batch 630/654, MoCo Loss: 3.8558, Cls Loss: 0.8499, Total Loss: 4.7057\n"
          ]
        },
        {
          "output_type": "stream",
          "name": "stderr",
          "text": [
            "Epoch 5/5:  98%|█████████▊| 641/654 [26:33<00:32,  2.47s/it]"
          ]
        },
        {
          "output_type": "stream",
          "name": "stdout",
          "text": [
            "  Batch 640/654, MoCo Loss: 3.8433, Cls Loss: 0.9990, Total Loss: 4.8423\n"
          ]
        },
        {
          "output_type": "stream",
          "name": "stderr",
          "text": [
            "Epoch 5/5: 100%|█████████▉| 651/654 [26:58<00:07,  2.50s/it]"
          ]
        },
        {
          "output_type": "stream",
          "name": "stdout",
          "text": [
            "  Batch 650/654, MoCo Loss: 2.8360, Cls Loss: 1.0700, Total Loss: 3.9060\n"
          ]
        },
        {
          "output_type": "stream",
          "name": "stderr",
          "text": [
            "Epoch 5/5: 100%|██████████| 654/654 [27:03<00:00,  2.48s/it]\n"
          ]
        },
        {
          "output_type": "stream",
          "name": "stdout",
          "text": [
            "Epoch 5/5, Train Loss: 4.3331, Val Loss: 0.8172, Val Accuracy: 71.82%\n",
            "\n",
            "Classification Report:\n",
            "                  precision    recall  f1-score   support\n",
            "\n",
            " air_conditioner       0.73      0.51      0.60        79\n",
            "       ambulance       0.82      0.93      0.87        29\n",
            "        car_horn       0.65      0.39      0.49        28\n",
            "children_playing       0.54      0.63      0.58        82\n",
            "        dog_bark       0.64      0.32      0.43        77\n",
            "        drilling       0.91      0.78      0.84        82\n",
            "   engine_idling       0.85      0.92      0.89        76\n",
            "       firetruck       0.76      0.97      0.85        35\n",
            "        gun_shot       0.38      1.00      0.55        23\n",
            "      jackhammer       0.96      0.94      0.95        70\n",
            "          police       1.00      0.84      0.91        37\n",
            "    street_music       0.66      0.65      0.66        81\n",
            "         traffic       0.56      0.91      0.69        32\n",
            "\n",
            "        accuracy                           0.72       731\n",
            "       macro avg       0.73      0.75      0.72       731\n",
            "    weighted avg       0.74      0.72      0.71       731\n",
            "\n"
          ]
        },
        {
          "output_type": "error",
          "ename": "TypeError",
          "evalue": "unsupported operand type(s) for /: 'NoneType' and 'int'",
          "traceback": [
            "\u001b[0;31m---------------------------------------------------------------------------\u001b[0m",
            "\u001b[0;31mTypeError\u001b[0m                                 Traceback (most recent call last)",
            "\u001b[0;32m<ipython-input-26-ee06923efe0b>\u001b[0m in \u001b[0;36m<cell line: 0>\u001b[0;34m()\u001b[0m\n\u001b[1;32m      4\u001b[0m \u001b[0mtrain_df\u001b[0m\u001b[0;34m.\u001b[0m\u001b[0mto_csv\u001b[0m\u001b[0;34m(\u001b[0m\u001b[0;34m\"./spectrograms_balanced.csv\"\u001b[0m\u001b[0;34m)\u001b[0m\u001b[0;34m\u001b[0m\u001b[0;34m\u001b[0m\u001b[0m\n\u001b[1;32m      5\u001b[0m \u001b[0;34m\u001b[0m\u001b[0m\n\u001b[0;32m----> 6\u001b[0;31m \u001b[0mmain\u001b[0m\u001b[0;34m(\u001b[0m\u001b[0mspec_csv\u001b[0m \u001b[0;34m=\u001b[0m \u001b[0mtrain_df\u001b[0m\u001b[0;34m,\u001b[0m \u001b[0mbatch_size\u001b[0m \u001b[0;34m=\u001b[0m \u001b[0;36m64\u001b[0m\u001b[0;34m,\u001b[0m \u001b[0mepochs\u001b[0m \u001b[0;34m=\u001b[0m \u001b[0;36m5\u001b[0m\u001b[0;34m)\u001b[0m\u001b[0;34m\u001b[0m\u001b[0;34m\u001b[0m\u001b[0m\n\u001b[0m",
            "\u001b[0;32m<ipython-input-24-0a0be14f7993>\u001b[0m in \u001b[0;36mmain\u001b[0;34m(spec_csv, batch_size, epochs)\u001b[0m\n\u001b[1;32m    546\u001b[0m \u001b[0;34m\u001b[0m\u001b[0m\n\u001b[1;32m    547\u001b[0m     \u001b[0;31m# Report average accuracy\u001b[0m\u001b[0;34m\u001b[0m\u001b[0;34m\u001b[0m\u001b[0m\n\u001b[0;32m--> 548\u001b[0;31m     \u001b[0mavg_accuracy\u001b[0m \u001b[0;34m=\u001b[0m \u001b[0mnp\u001b[0m\u001b[0;34m.\u001b[0m\u001b[0mmean\u001b[0m\u001b[0;34m(\u001b[0m\u001b[0mall_fold_accuracies\u001b[0m\u001b[0;34m)\u001b[0m\u001b[0;34m\u001b[0m\u001b[0;34m\u001b[0m\u001b[0m\n\u001b[0m\u001b[1;32m    549\u001b[0m     \u001b[0mprint\u001b[0m\u001b[0;34m(\u001b[0m\u001b[0;34mf\"\\nAverage accuracy across {num_folds} folds: {avg_accuracy:.2f}%\"\u001b[0m\u001b[0;34m)\u001b[0m\u001b[0;34m\u001b[0m\u001b[0;34m\u001b[0m\u001b[0m\n\u001b[1;32m    550\u001b[0m \u001b[0;34m\u001b[0m\u001b[0m\n",
            "\u001b[0;32m/usr/local/lib/python3.11/dist-packages/numpy/_core/fromnumeric.py\u001b[0m in \u001b[0;36mmean\u001b[0;34m(a, axis, dtype, out, keepdims, where)\u001b[0m\n\u001b[1;32m   3594\u001b[0m             \u001b[0;32mreturn\u001b[0m \u001b[0mmean\u001b[0m\u001b[0;34m(\u001b[0m\u001b[0maxis\u001b[0m\u001b[0;34m=\u001b[0m\u001b[0maxis\u001b[0m\u001b[0;34m,\u001b[0m \u001b[0mdtype\u001b[0m\u001b[0;34m=\u001b[0m\u001b[0mdtype\u001b[0m\u001b[0;34m,\u001b[0m \u001b[0mout\u001b[0m\u001b[0;34m=\u001b[0m\u001b[0mout\u001b[0m\u001b[0;34m,\u001b[0m \u001b[0;34m**\u001b[0m\u001b[0mkwargs\u001b[0m\u001b[0;34m)\u001b[0m\u001b[0;34m\u001b[0m\u001b[0;34m\u001b[0m\u001b[0m\n\u001b[1;32m   3595\u001b[0m \u001b[0;34m\u001b[0m\u001b[0m\n\u001b[0;32m-> 3596\u001b[0;31m     return _methods._mean(a, axis=axis, dtype=dtype,\n\u001b[0m\u001b[1;32m   3597\u001b[0m                           out=out, **kwargs)\n\u001b[1;32m   3598\u001b[0m \u001b[0;34m\u001b[0m\u001b[0m\n",
            "\u001b[0;32m/usr/local/lib/python3.11/dist-packages/numpy/_core/_methods.py\u001b[0m in \u001b[0;36m_mean\u001b[0;34m(a, axis, dtype, out, keepdims, where)\u001b[0m\n\u001b[1;32m    138\u001b[0m             \u001b[0mret\u001b[0m \u001b[0;34m=\u001b[0m \u001b[0mret\u001b[0m\u001b[0;34m.\u001b[0m\u001b[0mdtype\u001b[0m\u001b[0;34m.\u001b[0m\u001b[0mtype\u001b[0m\u001b[0;34m(\u001b[0m\u001b[0mret\u001b[0m \u001b[0;34m/\u001b[0m \u001b[0mrcount\u001b[0m\u001b[0;34m)\u001b[0m\u001b[0;34m\u001b[0m\u001b[0;34m\u001b[0m\u001b[0m\n\u001b[1;32m    139\u001b[0m     \u001b[0;32melse\u001b[0m\u001b[0;34m:\u001b[0m\u001b[0;34m\u001b[0m\u001b[0;34m\u001b[0m\u001b[0m\n\u001b[0;32m--> 140\u001b[0;31m         \u001b[0mret\u001b[0m \u001b[0;34m=\u001b[0m \u001b[0mret\u001b[0m \u001b[0;34m/\u001b[0m \u001b[0mrcount\u001b[0m\u001b[0;34m\u001b[0m\u001b[0;34m\u001b[0m\u001b[0m\n\u001b[0m\u001b[1;32m    141\u001b[0m \u001b[0;34m\u001b[0m\u001b[0m\n\u001b[1;32m    142\u001b[0m     \u001b[0;32mreturn\u001b[0m \u001b[0mret\u001b[0m\u001b[0;34m\u001b[0m\u001b[0;34m\u001b[0m\u001b[0m\n",
            "\u001b[0;31mTypeError\u001b[0m: unsupported operand type(s) for /: 'NoneType' and 'int'"
          ]
        },
        {
          "output_type": "display_data",
          "data": {
            "text/plain": [
              "<Figure size 1200x400 with 2 Axes>"
            ],
            "image/png": "[encoded data removed]"
          },
          "metadata": {}
        },
        {
          "output_type": "display_data",
          "data": {
            "text/plain": [
              "<Figure size 1000x800 with 2 Axes>"
            ],
            "image/png": "[encoded data removed]"
          },
          "metadata": {}
        }
      ]
    },
    {
      "cell_type": "code",
      "source": [
        "import torch\n",
        "import torch.nn as nn\n",
        "import torch.nn.functional as F\n",
        "import torchvision.models as models\n",
        "from PIL import Image\n",
        "import matplotlib.pyplot as plt\n",
        "import numpy as np\n",
        "from sklearn.metrics import f1_score, classification_report, confusion_matrix\n",
        "import seaborn as sns\n",
        "from tqdm import tqdm\n",
        "from torchvision import transforms\n",
        "\n",
        "# Assuming MoCo, Classifier, and SpectrogramDataset classes are defined elsewhere\n",
        "\n",
        "# Inference class for making predictions using a trained model\n",
        "class SpectrogramClassifier:\n",
        "    def __init__(self, checkpoint_path, class_names, device=None):\n",
        "        if device is None:\n",
        "            self.device = torch.device(\"cuda:0\" if torch.cuda.is_available() else \"cpu\")\n",
        "        else:\n",
        "            self.device = device\n",
        "\n",
        "        print(f\"Using device: {self.device}\")\n",
        "\n",
        "        # Initialize model components\n",
        "        backbone = models.resnet50(weights=models.ResNet50_Weights.IMAGENET1K_V1)\n",
        "        backbone.fc = nn.Identity()\n",
        "\n",
        "        self.moco = MoCo(backbone).to(self.device)\n",
        "        self.classifier = Classifier(input_dim=2048, num_classes=len(class_names)).to(self.device)\n",
        "        self.class_names = class_names\n",
        "\n",
        "        # Load checkpoint\n",
        "        print(f\"Loading checkpoint from {checkpoint_path}\")\n",
        "        checkpoint = torch.load(checkpoint_path, map_location=self.device)\n",
        "\n",
        "        self.moco.load_state_dict(checkpoint['moco'])\n",
        "        self.classifier.load_state_dict(checkpoint['classifier'])\n",
        "\n",
        "        # Set to evaluation mode\n",
        "        self.moco.eval()\n",
        "        self.classifier.eval()\n",
        "\n",
        "        # Define transforms (similar to validation transforms)\n",
        "        self.transform = transforms.Compose([\n",
        "            transforms.Resize(224),\n",
        "            transforms.CenterCrop(224),\n",
        "            transforms.ToTensor(),\n",
        "            transforms.Normalize(mean=[0.485, 0.456, 0.406], std=[0.229, 0.224, 0.225])\n",
        "        ])\n",
        "\n",
        "    def predict(self, img_path, verbose=True):\n",
        "        \"\"\"\n",
        "        Predict class for a spectrogram image\n",
        "        Args:\n",
        "            img_path: Path to the spectrogram image\n",
        "            verbose: Whether to print detailed information\n",
        "        Returns:\n",
        "            Class name, probability, and all class probabilities\n",
        "        \"\"\"\n",
        "        # Load and transform the image\n",
        "        img = Image.open(img_path).convert('RGB')\n",
        "        img_tensor = self.transform(img).unsqueeze(0).to(self.device)\n",
        "\n",
        "        # Get prediction\n",
        "        with torch.no_grad():\n",
        "            features = self.moco.get_features(img_tensor)\n",
        "            logits = self.classifier(features)\n",
        "            probabilities = F.softmax(logits, dim=1)[0]\n",
        "\n",
        "        # Get predicted class and probability\n",
        "        pred_idx = torch.argmax(probabilities).item()\n",
        "        pred_class = self.class_names[pred_idx]\n",
        "        confidence = probabilities[pred_idx].item() * 100\n",
        "\n",
        "        if verbose:\n",
        "            print(f\"Prediction: {pred_class}\")\n",
        "            print(f\"Confidence: {confidence:.2f}%\")\n",
        "\n",
        "            # Print top-3 predictions\n",
        "            top3_values, top3_indices = torch.topk(probabilities, 3)\n",
        "            print(\"\\nTop 3 predictions:\")\n",
        "            for i in range(3):\n",
        "                idx = top3_indices[i].item()\n",
        "                prob = top3_values[i].item() * 100\n",
        "                print(f\"{self.class_names[idx]}: {prob:.2f}%\")\n",
        "\n",
        "        return pred_class, confidence, probabilities.cpu().numpy()\n",
        "\n",
        "# Visualize prediction\n",
        "def visualize_prediction(probs, img_path, class_names):\n",
        "    \"\"\"\n",
        "    Visualize prediction with the spectrogram image\n",
        "    Args:\n",
        "        probs: Numpy array of class probabilities\n",
        "        img_path: Path to the spectrogram image\n",
        "        class_names: List of class names\n",
        "    \"\"\"\n",
        "    # Load image\n",
        "    img = Image.open(img_path).convert('RGB')\n",
        "\n",
        "    # Plot\n",
        "    fig, (ax1, ax2) = plt.subplots(1, 2, figsize=(12, 5))\n",
        "\n",
        "    # Plot image\n",
        "    ax1.imshow(img)\n",
        "    ax1.set_title('Spectrogram')\n",
        "    ax1.axis('off')\n",
        "\n",
        "    # Plot probabilities\n",
        "    sorted_idx = np.argsort(probs)[::-1]\n",
        "    top_classes = [class_names[i] for i in sorted_idx[:5]]\n",
        "    top_probs = [probs[i] * 100 for i in sorted_idx[:5]]\n",
        "\n",
        "    ax2.barh(top_classes, top_probs, color='skyblue')\n",
        "    ax2.set_xlabel('Probability (%)')\n",
        "    ax2.set_title('Top Predictions')\n",
        "    ax2.set_xlim(0, 100)\n",
        "\n",
        "    plt.tight_layout()\n",
        "    plt.show()\n",
        "\n",
        "# Example function to predict and visualize a test case\n",
        "def predict_and_visualize(img_path, model_path, class_names):\n",
        "    \"\"\"\n",
        "    Make a prediction for a single image and visualize the result\n",
        "    \"\"\"\n",
        "    # Create classifier\n",
        "    classifier = SpectrogramClassifier(model_path, class_names)\n",
        "\n",
        "    # Make prediction\n",
        "    pred_class, confidence, probs = classifier.predict(img_path)\n",
        "\n",
        "    # Visualize prediction\n",
        "    visualize_prediction(probs, img_path, class_names)\n",
        "\n",
        "# Test Case: Run prediction for a given image\n",
        "def test_case():\n",
        "    # Path to the trained model checkpoint and the test image\n",
        "    model_checkpoint_path = '/content/results_moco_20250404_151233/checkpoint_4.pth.pth'\n",
        "    test_image_path = 'path_to_test_image.png'\n",
        "\n",
        "    # List of class names (you should replace this with your actual class names)\n",
        "    class_names = ['Class1', 'Class2', 'Class3', 'Class4', 'Class5']  # Example class names\n",
        "\n",
        "    # Run prediction and visualization\n",
        "    predict_and_visualize(test_image_path, model_checkpoint_path, class_names)\n",
        "\n",
        "# Run the test case"
      ],
      "metadata": {
        "id": "54hyTWODkPAL"
      },
      "execution_count": 29,
      "outputs": []
    },
    {
      "cell_type": "code",
      "source": [
        "import pandas as pd\n",
        "import torch\n",
        "from tqdm import tqdm\n",
        "\n",
        "# Assuming you have a SpectrogramClassifier class and other helper functions defined above\n",
        "\n",
        "def predict_on_dataframe(df, model_path, class_names, image_dir='./spectrograms', save_results=True):\n",
        "    \"\"\"\n",
        "    Predict classes for a set of images using a pre-trained model.\n",
        "\n",
        "    Args:\n",
        "        df: DataFrame containing the spectrogram file names and class names\n",
        "        model_path: Path to the trained model checkpoint\n",
        "        class_names: List of class names\n",
        "        image_dir: Directory where spectrogram images are stored\n",
        "        save_results: Whether to save the predictions to a CSV file\n",
        "\n",
        "    Returns:\n",
        "        predictions_df: DataFrame containing the predictions\n",
        "    \"\"\"\n",
        "    # Create a SpectrogramClassifier object\n",
        "    classifier = SpectrogramClassifier(model_path, class_names)\n",
        "\n",
        "    # Initialize list to store results\n",
        "    results = []\n",
        "\n",
        "    # Iterate through the DataFrame and make predictions\n",
        "    for _, row in tqdm(df.iterrows(), total=len(df)):\n",
        "        # Get the spectrogram image and true class\n",
        "        img_name = row['spec_file_name']\n",
        "        true_class = row['class']\n",
        "        fold = row['fold']\n",
        "\n",
        "        # Full image path\n",
        "        img_path = f\"{image_dir}/fold{fold}/{img_name}\"\n",
        "\n",
        "        # Make prediction\n",
        "        pred_class, confidence, probs = classifier.predict(img_path, verbose=False)\n",
        "\n",
        "        # Store the result (class, confidence, probabilities)\n",
        "        results.append({\n",
        "            'spec_file_name': img_name,\n",
        "            'true_class': true_class,\n",
        "            'pred_class': pred_class,\n",
        "            'confidence': confidence,\n",
        "            'probabilities': probs.tolist()  # Convert tensor to list for saving\n",
        "        })\n",
        "\n",
        "    # Create DataFrame with predictions\n",
        "    predictions_df = pd.DataFrame(results)\n",
        "\n",
        "    # Optionally, save the results to a CSV file\n",
        "    if save_results:\n",
        "        predictions_df.to_csv('predictions.csv', index=False)\n",
        "\n",
        "    return predictions_df\n",
        "\n",
        "# Example usage\n",
        "if __name__ == \"__main__\":\n",
        "\n",
        "    class_names  = ['air_conditioner', 'ambulance', 'car_horn', 'children_playing',\n",
        "       'dog_bark', 'drilling', 'engine_idling', 'firetruck', 'gun_shot',\n",
        "       'jackhammer', 'police', 'street_music', 'traffic']  # Add all your classes here\n",
        "\n",
        "    # Path to the trained model checkpoint\n",
        "    model_checkpoint_path = '/content/results_moco_20250404_151233/checkpoint_4.pth'  # Replace with your model checkpoint path\n",
        "\n",
        "    # Run predictions on the DataFrame\n",
        "    predictions_df = predict_on_dataframe(test_df, model_checkpoint_path, class_names)\n",
        "        # Optionally print or inspect results\n",
        "    print(predictions_df.head())"
      ],
      "metadata": {
        "colab": {
          "base_uri": "https://localhost:8080/"
        },
        "id": "iv1RxVSU38JD",
        "outputId": "83f069aa-df5a-43c1-a9dc-57858a9c5369"
      },
      "execution_count": 34,
      "outputs": [
        {
          "output_type": "stream",
          "name": "stdout",
          "text": [
            "Using device: cuda:0\n",
            "Loading checkpoint from /content/results_moco_20250404_151233/checkpoint_4.pth\n"
          ]
        },
        {
          "output_type": "stream",
          "name": "stderr",
          "text": [
            "100%|██████████| 11584/11584 [03:54<00:00, 49.41it/s]\n"
          ]
        },
        {
          "output_type": "stream",
          "name": "stdout",
          "text": [
            "          spec_file_name       true_class       pred_class  confidence  \\\n",
            "0       159708-6-ts0.png         gun_shot         gun_shot   31.853902   \n",
            "1  7798623703-10-sa1.png        ambulance        ambulance   46.556032   \n",
            "2  7803268688-13-ts1.png          traffic          traffic   86.974007   \n",
            "3        62837-7-sa1.png       jackhammer       jackhammer   57.036418   \n",
            "4        177621-0-n0.png  air_conditioner  air_conditioner   68.861002   \n",
            "\n",
            "                                       probabilities  \n",
            "0  [0.011197090148925781, 0.016945891082286835, 0...  \n",
            "1  [0.00248927716165781, 0.46556031703948975, 0.0...  \n",
            "2  [0.0005286780651658773, 0.00012442276056390256...  \n",
            "3  [0.04948700964450836, 1.5192769751593005e-05, ...  \n",
            "4  [0.6886100172996521, 0.00012118466111132875, 0...  \n"
          ]
        }
      ]
    },
    {
      "cell_type": "code",
      "source": [
        "def plot_confusion_matrix(predictions_df, class_names):\n",
        "    \"\"\"\n",
        "    Plot confusion matrix from predictions DataFrame.\n",
        "\n",
        "    Args:\n",
        "        predictions_df: DataFrame containing true and predicted classes\n",
        "        class_names: List of class names\n",
        "    \"\"\"\n",
        "    # Extract true and predicted labels from the DataFrame\n",
        "    true_labels = predictions_df['true_class']\n",
        "    pred_labels = predictions_df['pred_class']\n",
        "\n",
        "    # Generate confusion matrix\n",
        "    cm = confusion_matrix(true_labels, pred_labels, labels=class_names)\n",
        "\n",
        "    # Plot confusion matrix using seaborn heatmap\n",
        "    plt.figure(figsize=(10, 8))\n",
        "    sns.heatmap(cm, annot=True, fmt='d', cmap='Blues', xticklabels=class_names, yticklabels=class_names)\n",
        "    plt.xlabel('Predicted')\n",
        "    plt.ylabel('True')\n",
        "    plt.title('Confusion Matrix')\n",
        "    plt.show()\n",
        "\n",
        "\n",
        "plot_confusion_matrix(predictions_df, class_names)"
      ],
      "metadata": {
        "colab": {
          "base_uri": "https://localhost:8080/",
          "height": 699
        },
        "id": "Jr7y8C5j5ZG7",
        "outputId": "4381ca04-e4bb-4cb3-f7c8-ad89802d4146"
      },
      "execution_count": 35,
      "outputs": [
        {
          "output_type": "display_data",
          "data": {
            "text/plain": [
              "<Figure size 1000x800 with 2 Axes>"
            ],
            "image/png": "[encoded data removed]"
          },
          "metadata": {}
        }
      ]
    },
    {
      "cell_type": "code",
      "source": [
        "def calculate_top_n_accuracy_per_class(predictions_df, top_percent=1):\n",
        "    \"\"\"\n",
        "    Calculate Top N% accuracy for each class based on maximum probabilities.\n",
        "\n",
        "    Args:\n",
        "        predictions_df: DataFrame containing predictions with 'pred_class', 'true_class', and 'probabilities' columns\n",
        "        top_percent: The percentage (1, 5, 10) for Top N% accuracy\n",
        "\n",
        "    Returns:\n",
        "        DataFrame containing the Top N% accuracy for each class\n",
        "    \"\"\"\n",
        "    top_n_accuracy = []\n",
        "\n",
        "    # Group by class and calculate Top N% accuracy for each class\n",
        "    for class_name, group in predictions_df.groupby('true_class'):\n",
        "        # Number of samples for this class\n",
        "        class_size = len(group)\n",
        "\n",
        "        # Calculate how many samples to select for the top N% (round to nearest integer)\n",
        "        top_n_count = max(1, int(class_size * top_percent / 100))  # At least one item\n",
        "\n",
        "        # Sort by max probability in descending order\n",
        "        group['max_prob'] = group['probabilities'].apply(lambda x: max(x))\n",
        "        top_n_group = group.nlargest(top_n_count, 'max_prob')\n",
        "\n",
        "        # Calculate the accuracy (how many predictions in the top N% are correct)\n",
        "        correct_predictions = (top_n_group['pred_class'] == top_n_group['true_class']).sum()\n",
        "        accuracy = correct_predictions / top_n_count * 100  # Convert to percentage\n",
        "\n",
        "        # Append result to the list\n",
        "        top_n_accuracy.append({\n",
        "            'Class': class_name,\n",
        "            f'Top {top_percent}% Accuracy': f\"{accuracy:.2f}%\"\n",
        "        })\n",
        "\n",
        "    # Create a DataFrame for results\n",
        "    accuracy_df = pd.DataFrame(top_n_accuracy)\n",
        "\n",
        "    # Sort by Class name if needed\n",
        "    accuracy_df = accuracy_df.sort_values(by='Class', ascending=True)\n",
        "\n",
        "    return accuracy_df\n",
        "\n",
        "# Example usage\n",
        "# Let's calculate Top 5% Accuracy\n",
        "top_5_accuracy_df = calculate_top_n_accuracy_per_class(predictions_df, top_percent=5)\n",
        "\n",
        "# Display the result for Top 5% Accuracy\n",
        "print(top_5_accuracy_df.to_string(index=False))\n",
        "\n",
        "# Similarly, you can compute for Top 10% if needed\n",
        "top_10_accuracy_df = calculate_top_n_accuracy_per_class(predictions_df, top_percent=10)\n",
        "print(top_10_accuracy_df.to_string(index=False))\n"
      ],
      "metadata": {
        "colab": {
          "base_uri": "https://localhost:8080/"
        },
        "id": "5db0bVvh69Xm",
        "outputId": "b7bfd2f3-53b6-416d-82cb-6d78be41122e"
      },
      "execution_count": 42,
      "outputs": [
        {
          "output_type": "stream",
          "name": "stdout",
          "text": [
            "           Class Top 5% Accuracy\n",
            " air_conditioner          82.61%\n",
            "       ambulance         100.00%\n",
            "        car_horn         100.00%\n",
            "children_playing         100.00%\n",
            "        dog_bark          97.73%\n",
            "        drilling         100.00%\n",
            "   engine_idling          80.00%\n",
            "       firetruck         100.00%\n",
            "        gun_shot         100.00%\n",
            "      jackhammer         100.00%\n",
            "          police         100.00%\n",
            "    street_music         100.00%\n",
            "         traffic         100.00%\n",
            "           Class Top 10% Accuracy\n",
            " air_conditioner           81.52%\n",
            "       ambulance          100.00%\n",
            "        car_horn           98.78%\n",
            "children_playing           98.88%\n",
            "        dog_bark           98.88%\n",
            "        drilling          100.00%\n",
            "   engine_idling           83.33%\n",
            "       firetruck          100.00%\n",
            "        gun_shot          100.00%\n",
            "      jackhammer          100.00%\n",
            "          police          100.00%\n",
            "    street_music          100.00%\n",
            "         traffic          100.00%\n"
          ]
        }
      ]
    },
    {
      "cell_type": "code",
      "source": [
        "import kagglehub\n",
        "\n",
        "store = kagglehub.dataset_download(\"mmoreaux/audio-cats-and-dogs\")"
      ],
      "metadata": {
        "id": "c5EpFSxt-Kjn"
      },
      "execution_count": 70,
      "outputs": []
    },
    {
      "cell_type": "code",
      "source": [
        "import librosa\n",
        "df_extra=pd.read_csv(store+'/train_test_split.csv')\n",
        "# sample =df_extra[df_extra['test_dog'] == 'dog_barking_97.wav']\n",
        "\n",
        "def wav_to_spectrogram(wav_file, output_image_file=\"spectrogram.png\"):\n",
        "    \"\"\"\n",
        "    Convert a WAV file into a spectrogram image.\n",
        "\n",
        "    Args:\n",
        "        wav_file (str): Path to the WAV file.\n",
        "        output_image_file (str): Path to save the output spectrogram image (default is \"spectrogram.png\").\n",
        "    \"\"\"\n",
        "    y, sr = librosa.load(wav_file, sr=None)\n",
        "\n",
        "    D = librosa.stft(y)\n",
        "\n",
        "    S_db = librosa.amplitude_to_db(np.abs(D), ref=np.max)\n",
        "\n",
        "    plt.figure(figsize=(10, 4))\n",
        "    librosa.display.specshow(S_db, x_axis='time', y_axis='log', sr=sr)\n",
        "    plt.colorbar(format='%+2.0f dB')\n",
        "    plt.title('Spectrogram')\n",
        "\n",
        "    plt.savefig(output_image_file, bbox_inches='tight')\n",
        "    plt.close()\n",
        "\n",
        "    # print(f\"Spectrogram saved as {output_image_file}\")\n",
        "\n",
        "\n",
        "# wav_to_spectrogram(path+'/cats_dogs/'+sample['test_dog'][0], 'dog_bark.png')\n",
        "paths =df_extra['test_dog'].dropna().apply(lambda x: store+'/cats_dogs/'+x)\n",
        "extra_paths = []\n",
        "for i,path in enumerate(paths.items()):\n",
        "  wav_to_spectrogram(path[1], 'extra/dog_bark_'+str(i)+'.png')\n",
        "  extra_paths.append('extra/dog_bark_'+str(i)+'.png')"
      ],
      "metadata": {
        "id": "J8GHBAhF-TF_"
      },
      "execution_count": 80,
      "outputs": []
    },
    {
      "cell_type": "code",
      "source": [
        "classifier = SpectrogramClassifier('/content/results_moco_20250404_151233/checkpoint_4.pth', class_names)\n",
        "\n",
        "classifier.predict('dog_bark.png')"
      ],
      "metadata": {
        "colab": {
          "base_uri": "https://localhost:8080/"
        },
        "id": "NxKo68olAoAP",
        "outputId": "57307b4f-e552-466c-8e39-8d57b5262d65"
      },
      "execution_count": 54,
      "outputs": [
        {
          "output_type": "stream",
          "name": "stdout",
          "text": [
            "Using device: cuda:0\n",
            "Loading checkpoint from /content/results_moco_20250404_151233/checkpoint_4.pth\n",
            "Prediction: dog_bark\n",
            "Confidence: 68.74%\n",
            "\n",
            "Top 3 predictions:\n",
            "dog_bark: 68.74%\n",
            "air_conditioner: 10.17%\n",
            "engine_idling: 4.94%\n"
          ]
        },
        {
          "output_type": "execute_result",
          "data": {
            "text/plain": [
              "('dog_bark',\n",
              " 68.73682737350464,\n",
              " array([1.0169032e-01, 2.4190920e-03, 1.3949105e-03, 2.8774863e-02,\n",
              "        6.8736827e-01, 2.4043910e-02, 4.9410354e-02, 6.0595102e-03,\n",
              "        4.0141411e-02, 4.9406249e-02, 1.5089385e-03, 7.7549266e-03,\n",
              "        2.7297872e-05], dtype=float32))"
            ]
          },
          "metadata": {},
          "execution_count": 54
        }
      ]
    },
    {
      "cell_type": "code",
      "source": [
        "true_labels = []\n",
        "pred_labels = []\n",
        "\n",
        "# Iterate over each path in extra_paths\n",
        "for p in extra_paths:\n",
        "    # Get the predicted class and probability from the classifier\n",
        "    class_name = classifier.predict(p)[0]\n",
        "    prob = classifier.predict(p)[1]\n",
        "\n",
        "    # Get the true label from the path-to-label mapping\n",
        "    true_class = 'dog_bark'  # Assuming each path has a corresponding true label\n",
        "\n",
        "    # Append to the lists\n",
        "    true_labels.append(true_class)\n",
        "    pred_labels.append(class_name)\n",
        "\n",
        "    # Optionally, print the class name and its predicted probability\n",
        "    print(f\"Predicted: {class_name}, True: {true_class}, Probability: {prob}\")\n",
        "\n",
        "# Now calculate the confusion matrix\n",
        "cm = confusion_matrix(true_labels, pred_labels, labels=class_names)"
      ],
      "metadata": {
        "colab": {
          "base_uri": "https://localhost:8080/"
        },
        "id": "4PNZ-XhCFMsj",
        "outputId": "d4c25116-83c6-4e80-b010-8ea7ed7f4446"
      },
      "execution_count": 87,
      "outputs": [
        {
          "output_type": "stream",
          "name": "stdout",
          "text": [
            "Prediction: dog_bark\n",
            "Confidence: 68.74%\n",
            "\n",
            "Top 3 predictions:\n",
            "dog_bark: 68.74%\n",
            "air_conditioner: 10.17%\n",
            "engine_idling: 4.94%\n",
            "Prediction: dog_bark\n",
            "Confidence: 68.74%\n",
            "\n",
            "Top 3 predictions:\n",
            "dog_bark: 68.74%\n",
            "air_conditioner: 10.17%\n",
            "engine_idling: 4.94%\n",
            "Predicted: dog_bark, True: dog_bark, Probability: 68.73682737350464\n",
            "Prediction: dog_bark\n",
            "Confidence: 34.35%\n",
            "\n",
            "Top 3 predictions:\n",
            "dog_bark: 34.35%\n",
            "jackhammer: 13.29%\n",
            "air_conditioner: 11.50%\n",
            "Prediction: dog_bark\n",
            "Confidence: 34.35%\n",
            "\n",
            "Top 3 predictions:\n",
            "dog_bark: 34.35%\n",
            "jackhammer: 13.29%\n",
            "air_conditioner: 11.50%\n",
            "Predicted: dog_bark, True: dog_bark, Probability: 34.34613049030304\n",
            "Prediction: dog_bark\n",
            "Confidence: 86.72%\n",
            "\n",
            "Top 3 predictions:\n",
            "dog_bark: 86.72%\n",
            "gun_shot: 6.00%\n",
            "children_playing: 2.69%\n",
            "Prediction: dog_bark\n",
            "Confidence: 86.72%\n",
            "\n",
            "Top 3 predictions:\n",
            "dog_bark: 86.72%\n",
            "gun_shot: 6.00%\n",
            "children_playing: 2.69%\n",
            "Predicted: dog_bark, True: dog_bark, Probability: 86.71521544456482\n",
            "Prediction: dog_bark\n",
            "Confidence: 71.79%\n",
            "\n",
            "Top 3 predictions:\n",
            "dog_bark: 71.79%\n",
            "children_playing: 8.81%\n",
            "air_conditioner: 6.52%\n",
            "Prediction: dog_bark\n",
            "Confidence: 71.79%\n",
            "\n",
            "Top 3 predictions:\n",
            "dog_bark: 71.79%\n",
            "children_playing: 8.81%\n",
            "air_conditioner: 6.52%\n",
            "Predicted: dog_bark, True: dog_bark, Probability: 71.79384231567383\n",
            "Prediction: children_playing\n",
            "Confidence: 27.47%\n",
            "\n",
            "Top 3 predictions:\n",
            "children_playing: 27.47%\n",
            "street_music: 23.61%\n",
            "air_conditioner: 19.61%\n",
            "Prediction: children_playing\n",
            "Confidence: 27.47%\n",
            "\n",
            "Top 3 predictions:\n",
            "children_playing: 27.47%\n",
            "street_music: 23.61%\n",
            "air_conditioner: 19.61%\n",
            "Predicted: children_playing, True: dog_bark, Probability: 27.47117280960083\n",
            "Prediction: dog_bark\n",
            "Confidence: 41.00%\n",
            "\n",
            "Top 3 predictions:\n",
            "dog_bark: 41.00%\n",
            "air_conditioner: 36.25%\n",
            "drilling: 8.17%\n",
            "Prediction: dog_bark\n",
            "Confidence: 41.00%\n",
            "\n",
            "Top 3 predictions:\n",
            "dog_bark: 41.00%\n",
            "air_conditioner: 36.25%\n",
            "drilling: 8.17%\n",
            "Predicted: dog_bark, True: dog_bark, Probability: 40.998685359954834\n",
            "Prediction: air_conditioner\n",
            "Confidence: 43.08%\n",
            "\n",
            "Top 3 predictions:\n",
            "air_conditioner: 43.08%\n",
            "dog_bark: 33.99%\n",
            "children_playing: 17.59%\n",
            "Prediction: air_conditioner\n",
            "Confidence: 43.08%\n",
            "\n",
            "Top 3 predictions:\n",
            "air_conditioner: 43.08%\n",
            "dog_bark: 33.99%\n",
            "children_playing: 17.59%\n",
            "Predicted: air_conditioner, True: dog_bark, Probability: 43.08129847049713\n",
            "Prediction: air_conditioner\n",
            "Confidence: 37.61%\n",
            "\n",
            "Top 3 predictions:\n",
            "air_conditioner: 37.61%\n",
            "street_music: 21.49%\n",
            "dog_bark: 13.63%\n",
            "Prediction: air_conditioner\n",
            "Confidence: 37.61%\n",
            "\n",
            "Top 3 predictions:\n",
            "air_conditioner: 37.61%\n",
            "street_music: 21.49%\n",
            "dog_bark: 13.63%\n",
            "Predicted: air_conditioner, True: dog_bark, Probability: 37.61248588562012\n",
            "Prediction: jackhammer\n",
            "Confidence: 66.80%\n",
            "\n",
            "Top 3 predictions:\n",
            "jackhammer: 66.80%\n",
            "air_conditioner: 13.22%\n",
            "drilling: 10.61%\n",
            "Prediction: jackhammer\n",
            "Confidence: 66.80%\n",
            "\n",
            "Top 3 predictions:\n",
            "jackhammer: 66.80%\n",
            "air_conditioner: 13.22%\n",
            "drilling: 10.61%\n",
            "Predicted: jackhammer, True: dog_bark, Probability: 66.80273413658142\n",
            "Prediction: ambulance\n",
            "Confidence: 31.77%\n",
            "\n",
            "Top 3 predictions:\n",
            "ambulance: 31.77%\n",
            "children_playing: 22.95%\n",
            "police: 19.40%\n",
            "Prediction: ambulance\n",
            "Confidence: 31.77%\n",
            "\n",
            "Top 3 predictions:\n",
            "ambulance: 31.77%\n",
            "children_playing: 22.95%\n",
            "police: 19.40%\n",
            "Predicted: ambulance, True: dog_bark, Probability: 31.76523745059967\n",
            "Prediction: dog_bark\n",
            "Confidence: 80.47%\n",
            "\n",
            "Top 3 predictions:\n",
            "dog_bark: 80.47%\n",
            "children_playing: 16.17%\n",
            "police: 1.72%\n",
            "Prediction: dog_bark\n",
            "Confidence: 80.47%\n",
            "\n",
            "Top 3 predictions:\n",
            "dog_bark: 80.47%\n",
            "children_playing: 16.17%\n",
            "police: 1.72%\n",
            "Predicted: dog_bark, True: dog_bark, Probability: 80.4682731628418\n",
            "Prediction: street_music\n",
            "Confidence: 52.03%\n",
            "\n",
            "Top 3 predictions:\n",
            "street_music: 52.03%\n",
            "children_playing: 18.03%\n",
            "dog_bark: 14.67%\n",
            "Prediction: street_music\n",
            "Confidence: 52.03%\n",
            "\n",
            "Top 3 predictions:\n",
            "street_music: 52.03%\n",
            "children_playing: 18.03%\n",
            "dog_bark: 14.67%\n",
            "Predicted: street_music, True: dog_bark, Probability: 52.03412175178528\n",
            "Prediction: children_playing\n",
            "Confidence: 41.00%\n",
            "\n",
            "Top 3 predictions:\n",
            "children_playing: 41.00%\n",
            "street_music: 27.35%\n",
            "dog_bark: 10.09%\n",
            "Prediction: children_playing\n",
            "Confidence: 41.00%\n",
            "\n",
            "Top 3 predictions:\n",
            "children_playing: 41.00%\n",
            "street_music: 27.35%\n",
            "dog_bark: 10.09%\n",
            "Predicted: children_playing, True: dog_bark, Probability: 40.999406576156616\n",
            "Prediction: police\n",
            "Confidence: 28.75%\n",
            "\n",
            "Top 3 predictions:\n",
            "police: 28.75%\n",
            "ambulance: 20.98%\n",
            "children_playing: 19.63%\n",
            "Prediction: police\n",
            "Confidence: 28.75%\n",
            "\n",
            "Top 3 predictions:\n",
            "police: 28.75%\n",
            "ambulance: 20.98%\n",
            "children_playing: 19.63%\n",
            "Predicted: police, True: dog_bark, Probability: 28.74966263771057\n",
            "Prediction: ambulance\n",
            "Confidence: 50.48%\n",
            "\n",
            "Top 3 predictions:\n",
            "ambulance: 50.48%\n",
            "police: 24.98%\n",
            "firetruck: 11.36%\n",
            "Prediction: ambulance\n",
            "Confidence: 50.48%\n",
            "\n",
            "Top 3 predictions:\n",
            "ambulance: 50.48%\n",
            "police: 24.98%\n",
            "firetruck: 11.36%\n",
            "Predicted: ambulance, True: dog_bark, Probability: 50.477129220962524\n",
            "Prediction: police\n",
            "Confidence: 48.84%\n",
            "\n",
            "Top 3 predictions:\n",
            "police: 48.84%\n",
            "ambulance: 31.07%\n",
            "firetruck: 10.88%\n",
            "Prediction: police\n",
            "Confidence: 48.84%\n",
            "\n",
            "Top 3 predictions:\n",
            "police: 48.84%\n",
            "ambulance: 31.07%\n",
            "firetruck: 10.88%\n",
            "Predicted: police, True: dog_bark, Probability: 48.83633255958557\n",
            "Prediction: dog_bark\n",
            "Confidence: 65.81%\n",
            "\n",
            "Top 3 predictions:\n",
            "dog_bark: 65.81%\n",
            "air_conditioner: 7.90%\n",
            "children_playing: 6.45%\n",
            "Prediction: dog_bark\n",
            "Confidence: 65.81%\n",
            "\n",
            "Top 3 predictions:\n",
            "dog_bark: 65.81%\n",
            "air_conditioner: 7.90%\n",
            "children_playing: 6.45%\n",
            "Predicted: dog_bark, True: dog_bark, Probability: 65.81030488014221\n",
            "Prediction: dog_bark\n",
            "Confidence: 95.19%\n",
            "\n",
            "Top 3 predictions:\n",
            "dog_bark: 95.19%\n",
            "children_playing: 1.75%\n",
            "gun_shot: 0.96%\n",
            "Prediction: dog_bark\n",
            "Confidence: 95.19%\n",
            "\n",
            "Top 3 predictions:\n",
            "dog_bark: 95.19%\n",
            "children_playing: 1.75%\n",
            "gun_shot: 0.96%\n",
            "Predicted: dog_bark, True: dog_bark, Probability: 95.18581628799438\n",
            "Prediction: ambulance\n",
            "Confidence: 40.48%\n",
            "\n",
            "Top 3 predictions:\n",
            "ambulance: 40.48%\n",
            "firetruck: 25.32%\n",
            "police: 16.62%\n",
            "Prediction: ambulance\n",
            "Confidence: 40.48%\n",
            "\n",
            "Top 3 predictions:\n",
            "ambulance: 40.48%\n",
            "firetruck: 25.32%\n",
            "police: 16.62%\n",
            "Predicted: ambulance, True: dog_bark, Probability: 40.48142433166504\n",
            "Prediction: police\n",
            "Confidence: 42.04%\n",
            "\n",
            "Top 3 predictions:\n",
            "police: 42.04%\n",
            "ambulance: 20.13%\n",
            "traffic: 18.23%\n",
            "Prediction: police\n",
            "Confidence: 42.04%\n",
            "\n",
            "Top 3 predictions:\n",
            "police: 42.04%\n",
            "ambulance: 20.13%\n",
            "traffic: 18.23%\n",
            "Predicted: police, True: dog_bark, Probability: 42.03685224056244\n",
            "Prediction: car_horn\n",
            "Confidence: 35.44%\n",
            "\n",
            "Top 3 predictions:\n",
            "car_horn: 35.44%\n",
            "firetruck: 21.59%\n",
            "street_music: 21.11%\n",
            "Prediction: car_horn\n",
            "Confidence: 35.44%\n",
            "\n",
            "Top 3 predictions:\n",
            "car_horn: 35.44%\n",
            "firetruck: 21.59%\n",
            "street_music: 21.11%\n",
            "Predicted: car_horn, True: dog_bark, Probability: 35.43638586997986\n",
            "Prediction: ambulance\n",
            "Confidence: 67.00%\n",
            "\n",
            "Top 3 predictions:\n",
            "ambulance: 67.00%\n",
            "police: 15.08%\n",
            "firetruck: 14.72%\n",
            "Prediction: ambulance\n",
            "Confidence: 67.00%\n",
            "\n",
            "Top 3 predictions:\n",
            "ambulance: 67.00%\n",
            "police: 15.08%\n",
            "firetruck: 14.72%\n",
            "Predicted: ambulance, True: dog_bark, Probability: 66.99945330619812\n",
            "Prediction: ambulance\n",
            "Confidence: 38.38%\n",
            "\n",
            "Top 3 predictions:\n",
            "ambulance: 38.38%\n",
            "children_playing: 20.60%\n",
            "dog_bark: 16.25%\n",
            "Prediction: ambulance\n",
            "Confidence: 38.38%\n",
            "\n",
            "Top 3 predictions:\n",
            "ambulance: 38.38%\n",
            "children_playing: 20.60%\n",
            "dog_bark: 16.25%\n",
            "Predicted: ambulance, True: dog_bark, Probability: 38.38372528553009\n",
            "Prediction: police\n",
            "Confidence: 29.60%\n",
            "\n",
            "Top 3 predictions:\n",
            "police: 29.60%\n",
            "children_playing: 18.59%\n",
            "ambulance: 17.95%\n",
            "Prediction: police\n",
            "Confidence: 29.60%\n",
            "\n",
            "Top 3 predictions:\n",
            "police: 29.60%\n",
            "children_playing: 18.59%\n",
            "ambulance: 17.95%\n",
            "Predicted: police, True: dog_bark, Probability: 29.596567153930664\n",
            "Prediction: dog_bark\n",
            "Confidence: 60.76%\n",
            "\n",
            "Top 3 predictions:\n",
            "dog_bark: 60.76%\n",
            "air_conditioner: 33.85%\n",
            "children_playing: 2.63%\n",
            "Prediction: dog_bark\n",
            "Confidence: 60.76%\n",
            "\n",
            "Top 3 predictions:\n",
            "dog_bark: 60.76%\n",
            "air_conditioner: 33.85%\n",
            "children_playing: 2.63%\n",
            "Predicted: dog_bark, True: dog_bark, Probability: 60.76091527938843\n",
            "Prediction: dog_bark\n",
            "Confidence: 80.49%\n",
            "\n",
            "Top 3 predictions:\n",
            "dog_bark: 80.49%\n",
            "air_conditioner: 5.01%\n",
            "gun_shot: 4.97%\n",
            "Prediction: dog_bark\n",
            "Confidence: 80.49%\n",
            "\n",
            "Top 3 predictions:\n",
            "dog_bark: 80.49%\n",
            "air_conditioner: 5.01%\n",
            "gun_shot: 4.97%\n",
            "Predicted: dog_bark, True: dog_bark, Probability: 80.48774003982544\n",
            "Prediction: children_playing\n",
            "Confidence: 65.91%\n",
            "\n",
            "Top 3 predictions:\n",
            "children_playing: 65.91%\n",
            "street_music: 15.78%\n",
            "dog_bark: 6.20%\n",
            "Prediction: children_playing\n",
            "Confidence: 65.91%\n",
            "\n",
            "Top 3 predictions:\n",
            "children_playing: 65.91%\n",
            "street_music: 15.78%\n",
            "dog_bark: 6.20%\n",
            "Predicted: children_playing, True: dog_bark, Probability: 65.90921878814697\n",
            "Prediction: street_music\n",
            "Confidence: 18.88%\n",
            "\n",
            "Top 3 predictions:\n",
            "street_music: 18.88%\n",
            "children_playing: 15.80%\n",
            "dog_bark: 15.35%\n",
            "Prediction: street_music\n",
            "Confidence: 18.88%\n",
            "\n",
            "Top 3 predictions:\n",
            "street_music: 18.88%\n",
            "children_playing: 15.80%\n",
            "dog_bark: 15.35%\n",
            "Predicted: street_music, True: dog_bark, Probability: 18.879611790180206\n",
            "Prediction: firetruck\n",
            "Confidence: 26.81%\n",
            "\n",
            "Top 3 predictions:\n",
            "firetruck: 26.81%\n",
            "car_horn: 24.48%\n",
            "ambulance: 15.82%\n",
            "Prediction: firetruck\n",
            "Confidence: 26.81%\n",
            "\n",
            "Top 3 predictions:\n",
            "firetruck: 26.81%\n",
            "car_horn: 24.48%\n",
            "ambulance: 15.82%\n",
            "Predicted: firetruck, True: dog_bark, Probability: 26.811331510543823\n",
            "Prediction: children_playing\n",
            "Confidence: 35.87%\n",
            "\n",
            "Top 3 predictions:\n",
            "children_playing: 35.87%\n",
            "police: 27.44%\n",
            "dog_bark: 23.03%\n",
            "Prediction: children_playing\n",
            "Confidence: 35.87%\n",
            "\n",
            "Top 3 predictions:\n",
            "children_playing: 35.87%\n",
            "police: 27.44%\n",
            "dog_bark: 23.03%\n",
            "Predicted: children_playing, True: dog_bark, Probability: 35.870736837387085\n",
            "Prediction: dog_bark\n",
            "Confidence: 51.72%\n",
            "\n",
            "Top 3 predictions:\n",
            "dog_bark: 51.72%\n",
            "children_playing: 37.24%\n",
            "street_music: 8.87%\n",
            "Prediction: dog_bark\n",
            "Confidence: 51.72%\n",
            "\n",
            "Top 3 predictions:\n",
            "dog_bark: 51.72%\n",
            "children_playing: 37.24%\n",
            "street_music: 8.87%\n",
            "Predicted: dog_bark, True: dog_bark, Probability: 51.72455310821533\n",
            "Prediction: ambulance\n",
            "Confidence: 70.24%\n",
            "\n",
            "Top 3 predictions:\n",
            "ambulance: 70.24%\n",
            "police: 20.04%\n",
            "firetruck: 5.70%\n",
            "Prediction: ambulance\n",
            "Confidence: 70.24%\n",
            "\n",
            "Top 3 predictions:\n",
            "ambulance: 70.24%\n",
            "police: 20.04%\n",
            "firetruck: 5.70%\n",
            "Predicted: ambulance, True: dog_bark, Probability: 70.24080753326416\n",
            "Prediction: ambulance\n",
            "Confidence: 54.53%\n",
            "\n",
            "Top 3 predictions:\n",
            "ambulance: 54.53%\n",
            "police: 27.61%\n",
            "firetruck: 8.95%\n",
            "Prediction: ambulance\n",
            "Confidence: 54.53%\n",
            "\n",
            "Top 3 predictions:\n",
            "ambulance: 54.53%\n",
            "police: 27.61%\n",
            "firetruck: 8.95%\n",
            "Predicted: ambulance, True: dog_bark, Probability: 54.53140139579773\n",
            "Prediction: car_horn\n",
            "Confidence: 42.59%\n",
            "\n",
            "Top 3 predictions:\n",
            "car_horn: 42.59%\n",
            "firetruck: 34.07%\n",
            "drilling: 8.03%\n",
            "Prediction: car_horn\n",
            "Confidence: 42.59%\n",
            "\n",
            "Top 3 predictions:\n",
            "car_horn: 42.59%\n",
            "firetruck: 34.07%\n",
            "drilling: 8.03%\n",
            "Predicted: car_horn, True: dog_bark, Probability: 42.58602857589722\n",
            "Prediction: ambulance\n",
            "Confidence: 74.29%\n",
            "\n",
            "Top 3 predictions:\n",
            "ambulance: 74.29%\n",
            "police: 19.15%\n",
            "firetruck: 5.94%\n",
            "Prediction: ambulance\n",
            "Confidence: 74.29%\n",
            "\n",
            "Top 3 predictions:\n",
            "ambulance: 74.29%\n",
            "police: 19.15%\n",
            "firetruck: 5.94%\n",
            "Predicted: ambulance, True: dog_bark, Probability: 74.29390549659729\n",
            "Prediction: police\n",
            "Confidence: 33.81%\n",
            "\n",
            "Top 3 predictions:\n",
            "police: 33.81%\n",
            "ambulance: 30.35%\n",
            "children_playing: 12.94%\n",
            "Prediction: police\n",
            "Confidence: 33.81%\n",
            "\n",
            "Top 3 predictions:\n",
            "police: 33.81%\n",
            "ambulance: 30.35%\n",
            "children_playing: 12.94%\n",
            "Predicted: police, True: dog_bark, Probability: 33.80918800830841\n",
            "Prediction: police\n",
            "Confidence: 43.65%\n",
            "\n",
            "Top 3 predictions:\n",
            "police: 43.65%\n",
            "ambulance: 37.25%\n",
            "firetruck: 6.48%\n",
            "Prediction: police\n",
            "Confidence: 43.65%\n",
            "\n",
            "Top 3 predictions:\n",
            "police: 43.65%\n",
            "ambulance: 37.25%\n",
            "firetruck: 6.48%\n",
            "Predicted: police, True: dog_bark, Probability: 43.64930987358093\n",
            "Prediction: air_conditioner\n",
            "Confidence: 54.12%\n",
            "\n",
            "Top 3 predictions:\n",
            "air_conditioner: 54.12%\n",
            "dog_bark: 22.07%\n",
            "children_playing: 10.90%\n",
            "Prediction: air_conditioner\n",
            "Confidence: 54.12%\n",
            "\n",
            "Top 3 predictions:\n",
            "air_conditioner: 54.12%\n",
            "dog_bark: 22.07%\n",
            "children_playing: 10.90%\n",
            "Predicted: air_conditioner, True: dog_bark, Probability: 54.124271869659424\n",
            "Prediction: ambulance\n",
            "Confidence: 69.47%\n",
            "\n",
            "Top 3 predictions:\n",
            "ambulance: 69.47%\n",
            "police: 17.11%\n",
            "firetruck: 11.90%\n",
            "Prediction: ambulance\n",
            "Confidence: 69.47%\n",
            "\n",
            "Top 3 predictions:\n",
            "ambulance: 69.47%\n",
            "police: 17.11%\n",
            "firetruck: 11.90%\n",
            "Predicted: ambulance, True: dog_bark, Probability: 69.47302222251892\n",
            "Prediction: dog_bark\n",
            "Confidence: 74.89%\n",
            "\n",
            "Top 3 predictions:\n",
            "dog_bark: 74.89%\n",
            "air_conditioner: 15.16%\n",
            "children_playing: 3.61%\n",
            "Prediction: dog_bark\n",
            "Confidence: 74.89%\n",
            "\n",
            "Top 3 predictions:\n",
            "dog_bark: 74.89%\n",
            "air_conditioner: 15.16%\n",
            "children_playing: 3.61%\n",
            "Predicted: dog_bark, True: dog_bark, Probability: 74.88879561424255\n",
            "Prediction: children_playing\n",
            "Confidence: 57.46%\n",
            "\n",
            "Top 3 predictions:\n",
            "children_playing: 57.46%\n",
            "police: 13.79%\n",
            "street_music: 12.16%\n",
            "Prediction: children_playing\n",
            "Confidence: 57.46%\n",
            "\n",
            "Top 3 predictions:\n",
            "children_playing: 57.46%\n",
            "police: 13.79%\n",
            "street_music: 12.16%\n",
            "Predicted: children_playing, True: dog_bark, Probability: 57.462090253829956\n",
            "Prediction: ambulance\n",
            "Confidence: 66.78%\n",
            "\n",
            "Top 3 predictions:\n",
            "ambulance: 66.78%\n",
            "police: 21.35%\n",
            "firetruck: 8.79%\n",
            "Prediction: ambulance\n",
            "Confidence: 66.78%\n",
            "\n",
            "Top 3 predictions:\n",
            "ambulance: 66.78%\n",
            "police: 21.35%\n",
            "firetruck: 8.79%\n",
            "Predicted: ambulance, True: dog_bark, Probability: 66.78056120872498\n",
            "Prediction: drilling\n",
            "Confidence: 86.63%\n",
            "\n",
            "Top 3 predictions:\n",
            "drilling: 86.63%\n",
            "air_conditioner: 3.49%\n",
            "firetruck: 3.16%\n",
            "Prediction: drilling\n",
            "Confidence: 86.63%\n",
            "\n",
            "Top 3 predictions:\n",
            "drilling: 86.63%\n",
            "air_conditioner: 3.49%\n",
            "firetruck: 3.16%\n",
            "Predicted: drilling, True: dog_bark, Probability: 86.63219213485718\n",
            "Prediction: firetruck\n",
            "Confidence: 46.29%\n",
            "\n",
            "Top 3 predictions:\n",
            "firetruck: 46.29%\n",
            "car_horn: 18.89%\n",
            "street_music: 15.67%\n",
            "Prediction: firetruck\n",
            "Confidence: 46.29%\n",
            "\n",
            "Top 3 predictions:\n",
            "firetruck: 46.29%\n",
            "car_horn: 18.89%\n",
            "street_music: 15.67%\n",
            "Predicted: firetruck, True: dog_bark, Probability: 46.29420042037964\n",
            "Prediction: car_horn\n",
            "Confidence: 31.31%\n",
            "\n",
            "Top 3 predictions:\n",
            "car_horn: 31.31%\n",
            "dog_bark: 29.00%\n",
            "air_conditioner: 9.93%\n",
            "Prediction: car_horn\n",
            "Confidence: 31.31%\n",
            "\n",
            "Top 3 predictions:\n",
            "car_horn: 31.31%\n",
            "dog_bark: 29.00%\n",
            "air_conditioner: 9.93%\n",
            "Predicted: car_horn, True: dog_bark, Probability: 31.306537985801697\n",
            "Prediction: children_playing\n",
            "Confidence: 55.60%\n",
            "\n",
            "Top 3 predictions:\n",
            "children_playing: 55.60%\n",
            "dog_bark: 16.73%\n",
            "street_music: 15.14%\n",
            "Prediction: children_playing\n",
            "Confidence: 55.60%\n",
            "\n",
            "Top 3 predictions:\n",
            "children_playing: 55.60%\n",
            "dog_bark: 16.73%\n",
            "street_music: 15.14%\n",
            "Predicted: children_playing, True: dog_bark, Probability: 55.59781789779663\n",
            "Prediction: ambulance\n",
            "Confidence: 71.85%\n",
            "\n",
            "Top 3 predictions:\n",
            "ambulance: 71.85%\n",
            "police: 22.75%\n",
            "firetruck: 3.42%\n",
            "Prediction: ambulance\n",
            "Confidence: 71.85%\n",
            "\n",
            "Top 3 predictions:\n",
            "ambulance: 71.85%\n",
            "police: 22.75%\n",
            "firetruck: 3.42%\n",
            "Predicted: ambulance, True: dog_bark, Probability: 71.85220122337341\n",
            "Prediction: ambulance\n",
            "Confidence: 54.91%\n",
            "\n",
            "Top 3 predictions:\n",
            "ambulance: 54.91%\n",
            "police: 22.57%\n",
            "firetruck: 17.28%\n",
            "Prediction: ambulance\n",
            "Confidence: 54.91%\n",
            "\n",
            "Top 3 predictions:\n",
            "ambulance: 54.91%\n",
            "police: 22.57%\n",
            "firetruck: 17.28%\n",
            "Predicted: ambulance, True: dog_bark, Probability: 54.90651726722717\n",
            "Prediction: ambulance\n",
            "Confidence: 41.88%\n",
            "\n",
            "Top 3 predictions:\n",
            "ambulance: 41.88%\n",
            "police: 41.26%\n",
            "children_playing: 5.56%\n",
            "Prediction: ambulance\n",
            "Confidence: 41.88%\n",
            "\n",
            "Top 3 predictions:\n",
            "ambulance: 41.88%\n",
            "police: 41.26%\n",
            "children_playing: 5.56%\n",
            "Predicted: ambulance, True: dog_bark, Probability: 41.8831467628479\n"
          ]
        }
      ]
    },
    {
      "cell_type": "code",
      "source": [
        "print(\"Confusion Matrix:\")\n",
        "print(cm)\n",
        "\n",
        "# Visualize the confusion matrix using seaborn heatmap\n",
        "plt.figure(figsize=(10, 8))\n",
        "sns.heatmap(cm, annot=True, fmt=\"d\", cmap='Blues',\n",
        "            xticklabels=class_names, yticklabels=class_names)\n",
        "plt.xlabel('Predicted')\n",
        "plt.ylabel('True')\n",
        "plt.title('Confusion Matrix')\n",
        "plt.show()\n",
        "\n",
        "# Optionally, print the classification report\n",
        "print(\"\\nClassification Report:\")"
      ],
      "metadata": {
        "colab": {
          "base_uri": "https://localhost:8080/",
          "height": 983
        },
        "id": "-e7yyadmHcGH",
        "outputId": "8966b655-4e97-4c19-d42c-801ce19816e9"
      },
      "execution_count": 89,
      "outputs": [
        {
          "output_type": "stream",
          "name": "stdout",
          "text": [
            "Confusion Matrix:\n",
            "[[ 0  0  0  0  0  0  0  0  0  0  0  0  0]\n",
            " [ 0  0  0  0  0  0  0  0  0  0  0  0  0]\n",
            " [ 0  0  0  0  0  0  0  0  0  0  0  0  0]\n",
            " [ 0  0  0  0  0  0  0  0  0  0  0  0  0]\n",
            " [ 3 13  3  6 12  1  0  2  0  1  6  2  0]\n",
            " [ 0  0  0  0  0  0  0  0  0  0  0  0  0]\n",
            " [ 0  0  0  0  0  0  0  0  0  0  0  0  0]\n",
            " [ 0  0  0  0  0  0  0  0  0  0  0  0  0]\n",
            " [ 0  0  0  0  0  0  0  0  0  0  0  0  0]\n",
            " [ 0  0  0  0  0  0  0  0  0  0  0  0  0]\n",
            " [ 0  0  0  0  0  0  0  0  0  0  0  0  0]\n",
            " [ 0  0  0  0  0  0  0  0  0  0  0  0  0]\n",
            " [ 0  0  0  0  0  0  0  0  0  0  0  0  0]]\n"
          ]
        },
        {
          "output_type": "display_data",
          "data": {
            "text/plain": [
              "<Figure size 1000x800 with 2 Axes>"
            ],
            "image/png": "[encoded data removed]"
          },
          "metadata": {}
        },
        {
          "output_type": "stream",
          "name": "stdout",
          "text": [
            "\n",
            "Classification Report:\n"
          ]
        }
      ]
    }
  ]
}